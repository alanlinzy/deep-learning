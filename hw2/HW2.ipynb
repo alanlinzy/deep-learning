{
  "nbformat": 4,
  "nbformat_minor": 0,
  "metadata": {
    "colab": {
      "name": "HW21.ipynb",
      "provenance": [],
      "collapsed_sections": [],
      "toc_visible": true
    },
    "kernelspec": {
      "name": "python3",
      "display_name": "Python 3"
    }
  },
  "cells": [
    {
      "cell_type": "markdown",
      "metadata": {
        "id": "fkANmyasP2bY",
        "colab_type": "text"
      },
      "source": [
        "# Q1: Scalar Computation Graph and Gradient"
      ]
    },
    {
      "cell_type": "markdown",
      "metadata": {
        "id": "CJ6_aDcWQYg3",
        "colab_type": "text"
      },
      "source": [
        "## TODO"
      ]
    },
    {
      "cell_type": "code",
      "metadata": {
        "id": "_rgc6AVBQXQq",
        "colab_type": "code",
        "colab": {}
      },
      "source": [
        "import numpy as np\n",
        "def g_w1(x1: float, x2: float, w1: float, w2: float) -> float:\n",
        "    g = 0\n",
        "    E = np.exp(-w1*x1-w2*x2)\n",
        "    g = (x1*E)/(1+E)**2 + w1\n",
        "    return g\n",
        "\n",
        "def g_w2(x1: float, x2: float, w1: float, w2: float) -> float:\n",
        "    g = 0\n",
        "    E = np.exp(-w1*x1-w2*x2)\n",
        "    g = (x2*E)/(1+E)**2 + w2\n",
        "    return g\n",
        "\n",
        "def g_x1(x1: float, x2: float, w1: float, w2: float) -> float:\n",
        "    g = 0\n",
        "    E = np.exp(-w1*x1-w2*x2)\n",
        "    g = (w1*E)/(1+E)**2 \n",
        "    return g\n",
        "\n",
        "def g_x2(x1: float, x2: float, w1: float, w2: float) -> float:\n",
        "    g = 0\n",
        "    E = np.exp(-w1*x1-w2*x2)\n",
        "    g = (w2*E)/(1+E)**2 \n",
        "    return g"
      ],
      "execution_count": 0,
      "outputs": []
    },
    {
      "cell_type": "code",
      "metadata": {
        "id": "yFLw7UolQIe0",
        "colab_type": "code",
        "colab": {
          "base_uri": "https://localhost:8080/",
          "height": 278
        },
        "outputId": "b6323345-7d58-4c33-f712-53db52fa603a"
      },
      "source": [
        "import matplotlib.pyplot as plt\n",
        "x1 = 0.2\n",
        "x2 = 0.4\n",
        "w1 = 0.3\n",
        "w2 = -0.5\n",
        "\n",
        "grads_x1 = []\n",
        "grads_x2 = []\n",
        "grads_w1 = []\n",
        "grads_w2 = []\n",
        "w1s = [w1]\n",
        "w2s = [w2]\n",
        "\n",
        "for i in range(30):\n",
        "    grad_w1 = g_w1(x1, x2, w1, w2)    \n",
        "    grad_w2 = g_w2(x1, x2, w1, w2)\n",
        "    \n",
        "    w2 += -0.01 * grad_w2\n",
        "    w1 += -0.01 * grad_w1\n",
        "    \n",
        "    w1s.append(w1)\n",
        "    w2s.append(w2)\n",
        "\n",
        "    grads_w1.append(grad_w1)\n",
        "    grads_w2.append(grad_w2)\n",
        "it=[i for i in range(30)]\n",
        "plt.plot(it, grads_w1, color=\"r\", linestyle=\"-\", marker=\"^\", linewidth=1)\n",
        "plt.plot(it, grads_w2, color=\"b\", linestyle=\"-\", marker=\"s\", linewidth=1)\n",
        "plt.xlabel(\"iter\")\n",
        "plt.ylabel(\"grads\")\n",
        "plt.show()"
      ],
      "execution_count": 3,
      "outputs": [
        {
          "output_type": "display_data",
          "data": {
            "image/png": "[encoded data removed]",
            "text/plain": [
              "<Figure size 432x288 with 1 Axes>"
            ]
          },
          "metadata": {
            "tags": []
          }
        }
      ]
    },
    {
      "cell_type": "code",
      "metadata": {
        "id": "jAsH7KUcQp8z",
        "colab_type": "code",
        "colab": {}
      },
      "source": [
        ""
      ],
      "execution_count": 0,
      "outputs": []
    },
    {
      "cell_type": "markdown",
      "metadata": {
        "id": "T8V5EPucOdwu",
        "colab_type": "text"
      },
      "source": [
        "# Q3: Neural Network From Scratch\n",
        "\n",
        "In this section, we will implement a neural network to solve MNIST, a hand-written digits (0-9) classification dataset."
      ]
    },
    {
      "cell_type": "markdown",
      "metadata": {
        "id": "6eS5VOSqPUgu",
        "colab_type": "text"
      },
      "source": [
        "## Set up"
      ]
    },
    {
      "cell_type": "code",
      "metadata": {
        "id": "rNQLW-GH1bX-",
        "colab_type": "code",
        "colab": {}
      },
      "source": [
        "import numpy as np\n",
        "import matplotlib.pyplot as plt\n",
        "\n",
        "from typing import Dict\n",
        "from functools import partial\n",
        "\n",
        "from tqdm import tqdm\n",
        "tqdm.monitor_interval = 0\n",
        "tqdm = partial(tqdm, bar_format='{l_bar}{r_bar}')\n",
        "\n",
        "import torch\n",
        "import torch.nn.functional as F\n",
        "import torchvision"
      ],
      "execution_count": 0,
      "outputs": []
    },
    {
      "cell_type": "code",
      "metadata": {
        "id": "lSRfAdmy1uhn",
        "colab_type": "code",
        "colab": {}
      },
      "source": [
        "TRAIN_SIZE = 50_000\n",
        "\n",
        "train = torchvision.datasets.MNIST('./data', train=True, transform=None, target_transform=None, download=True)\n",
        "test = torchvision.datasets.MNIST('./data', train=False, transform=None, target_transform=None, download=True)\n",
        "\n",
        "train_x = train.data.float().numpy()\n",
        "train_y = train.targets.numpy()\n",
        "\n",
        "shuffle_idx = np.arange(len(train_x))\n",
        "np.random.RandomState(0).shuffle(shuffle_idx)\n",
        "train_x = train_x[shuffle_idx]\n",
        "train_y = train_y[shuffle_idx]\n",
        "\n",
        "dev_x, dev_y = train_x[TRAIN_SIZE:], train_y[TRAIN_SIZE:]\n",
        "train_x, train_y = train_x[:TRAIN_SIZE], train_y[:TRAIN_SIZE]\n",
        "\n",
        "test_x = test.data.float().numpy()\n",
        "test_y = test.targets.numpy()"
      ],
      "execution_count": 0,
      "outputs": []
    },
    {
      "cell_type": "markdown",
      "metadata": {
        "id": "6GSBMEzy7sIV",
        "colab_type": "text"
      },
      "source": [
        "Sample of images\n",
        "\n"
      ]
    },
    {
      "cell_type": "code",
      "metadata": {
        "id": "hRPzeyY-7a5J",
        "colab_type": "code",
        "colab": {
          "base_uri": "https://localhost:8080/",
          "height": 281
        },
        "outputId": "d637a2d8-2469-4ff6-9583-925fefe267aa"
      },
      "source": [
        "i = 4048 #@param {type: \"slider\", min: 0, max: 10000}\n",
        "print(f'label = {train_y[i]}')\n",
        "plt.imshow(train_x[i])\n",
        "plt.show()"
      ],
      "execution_count": 6,
      "outputs": [
        {
          "output_type": "stream",
          "text": [
            "label = 0\n"
          ],
          "name": "stdout"
        },
        {
          "output_type": "display_data",
          "data": {
            "image/png": "[encoded data removed]",
            "text/plain": [
              "<Figure size 432x288 with 1 Axes>"
            ]
          },
          "metadata": {
            "tags": []
          }
        }
      ]
    },
    {
      "cell_type": "markdown",
      "metadata": {
        "id": "zDrCxDQD8XfX",
        "colab_type": "text"
      },
      "source": [
        "Each images have the same shape of 28-by-28. We flatten the matrix and pretend it is just one long vector."
      ]
    },
    {
      "cell_type": "code",
      "metadata": {
        "id": "owHStQK_7UTW",
        "colab_type": "code",
        "colab": {}
      },
      "source": [
        "NB_FEAT = 28 * 28"
      ],
      "execution_count": 0,
      "outputs": []
    },
    {
      "cell_type": "markdown",
      "metadata": {
        "id": "Qq9_DDRf4Gli",
        "colab_type": "text"
      },
      "source": [
        "Normalize the feature. Note that we only use the training set to compute the mean and standard derivation."
      ]
    },
    {
      "cell_type": "code",
      "metadata": {
        "id": "VkumLLwa2DP9",
        "colab_type": "code",
        "colab": {}
      },
      "source": [
        "mean = train_x.mean()\n",
        "std = train_x.std()\n",
        "\n",
        "train_x = (train_x - mean) / (std + 1e-7)\n",
        "dev_x = (dev_x - mean) / (std + 1e-7)\n",
        "test_x = (test_x - mean) / (std + 1e-7)\n",
        "\n",
        "train_x = train_x.reshape(-1, NB_FEAT)\n",
        "dev_x = dev_x.reshape(-1, NB_FEAT)\n",
        "test_x = test_x.reshape(-1, NB_FEAT)"
      ],
      "execution_count": 0,
      "outputs": []
    },
    {
      "cell_type": "code",
      "metadata": {
        "id": "FNa2DCck51Jj",
        "colab_type": "code",
        "colab": {}
      },
      "source": [
        "def row_logsumexp(x):\n",
        "    # numerical stablization\n",
        "    x_max = x.max(axis=1).reshape(-1, 1)\n",
        "    return x_max + np.log(np.exp(x - x_max).sum(axis=1)).reshape(-1, 1)\n"
      ],
      "execution_count": 0,
      "outputs": []
    },
    {
      "cell_type": "code",
      "metadata": {
        "id": "Vdk_ER0rPKBe",
        "colab_type": "code",
        "colab": {}
      },
      "source": [
        "class Parameters:\n",
        "    def __init__(self):\n",
        "        self.param: Dict[str, np.ndarray] = {}\n",
        "        self.grad: Dict[str, np.ndarray] = {}\n",
        "\n",
        "    def set_param(self, key: str, param: np.ndarray):\n",
        "        self.param[key] = param\n",
        "        self.grad[key] = np.zeros_like(param)\n",
        "\n",
        "    def get_param(self, key):\n",
        "        assert key in self.param, f'variable {key} is not part of the Parameter'\n",
        "        return self.param[key]\n",
        "\n",
        "    def accumlate_grad(self, key: str, grad: np.ndarray):\n",
        "        assert key in self.param, f'variable {key} is not part of the Parameter'\n",
        "        assert self.param[key].shape == grad.shape, f'for variable {key}, the shape of parameter and the shape of gradient is not matched'\n",
        "        self.grad[key] += grad\n",
        "\n",
        "    def zero_grad(self):\n",
        "        for key in self.param:\n",
        "            self.grad[key] = np.zeros_like(self.param[key])\n",
        "\n",
        "    def apply_grad(self, lr: float):\n",
        "        for key in self.param.keys():\n",
        "            assert self.param[key].shape == self.grad[key].shape, f'for variable {key}, the shape of parameter and the shape of gradient is not matched'\n",
        "            self.param[key] -= self.grad[key] * lr"
      ],
      "execution_count": 0,
      "outputs": []
    },
    {
      "cell_type": "code",
      "metadata": {
        "id": "raCPh5O_PKKY",
        "colab_type": "code",
        "colab": {}
      },
      "source": [
        "def init_linear(input_dim, output_dim):\n",
        "    return np.random.RandomState(0).randn(input_dim, output_dim) * np.sqrt(2 / input_dim)"
      ],
      "execution_count": 0,
      "outputs": []
    },
    {
      "cell_type": "code",
      "metadata": {
        "id": "DkH7YxnoZ96D",
        "colab_type": "code",
        "colab": {}
      },
      "source": [
        "def main_training(params: Parameters, forward_and_backward, train_x, train_y, dev_x, dev_y, batch_size, learning_rate, nb_epochs,acc_list):#@\n",
        "    assert isinstance(params, Parameters)\n",
        "    step = 0\n",
        "    best_acc = 0\n",
        "    for epoch in tqdm(range(nb_epochs)):\n",
        "        train_loss = []\n",
        "        lr = learning_rate\n",
        "        for i in range(0, len(train_x), batch_size):\n",
        "            batch_x = train_x[i:i+batch_size]\n",
        "            batch_y = train_y[i:i+batch_size]\n",
        "\n",
        "            loss, probs = forward_and_backward(batch_x, batch_y, params)\n",
        "            params.apply_grad(lr)\n",
        "\n",
        "            train_loss.append(loss)\n",
        "            step += 1\n",
        "\n",
        "        accs = []\n",
        "        for i in range(0, len(dev_x), batch_size):\n",
        "            batch_x = dev_x[i:i+batch_size]\n",
        "            batch_y = dev_y[i:i+batch_size]\n",
        "\n",
        "            loss, probs = forward_and_backward(batch_x, batch_y, params, grad=False)\n",
        "            pred_y = probs.argmax(axis=1)\n",
        "            accs.append(pred_y == batch_y)\n",
        "        acc = np.mean(accs) * 100\n",
        "        acc_list.append(float(acc))#@\n",
        "        print(f'epoch {epoch} train loss = {np.mean(train_loss):.3f} dev accuracy = {acc:.2f}%')\n",
        "        if acc > best_acc:\n",
        "            best_acc = acc\n",
        "  \n",
        "    print(f'best dev accuracy = {best_acc:.2f}%')\n",
        "    return acc_list#@"
      ],
      "execution_count": 0,
      "outputs": []
    },
    {
      "cell_type": "markdown",
      "metadata": {
        "id": "KslzAMpabAiV",
        "colab_type": "text"
      },
      "source": [
        "## Q2.1 Linear Classifier\n",
        "\n",
        "Let $x \\in R^{1\\times N}$ be a single sample. $N$ is the number of the feature dimension and $C$ is the number of class in the final classification. Note $N=28*28$ and $C=10$\n",
        "\n",
        "In the softmax layer, $W_{sm} \\in R^{N \\times C}$. The unnormalized score $s \\in R^{C}$ is\n",
        "\n",
        "$$s = x\\cdot W_{sm}$$\n",
        "\n",
        "With softmax function, we get the probability $p(c_i)$ of class $i$ where $i \\in \\{1,\\cdots,C\\}$\n",
        "\n",
        "$$p(c_i) = \\frac {\\exp(s_i)} {\\sum_i \\exp(s_i)}$$\n",
        "\n",
        "where $s_i$ is the $i^{th}$ element of $s$.\n",
        "\n",
        "Assuming $y \\in \\{1,\\cdots,C\\}$, we want to minimize $-\\log p(c_y)$, the cross-entropy loss between one hot true distribution `q(c_i) = 1 if i == y else 0` and $p(c_i)$.\n",
        "\n",
        "We will take the average $-\\log p(c_y)$ of a batch of x as the loss.\n",
        "\n",
        "In `linear_classifier_forward_and_backward`, `batch_x` and `batch_y` are matrixs, where each row are $x$ and $y$, respectively."
      ]
    },
    {
      "cell_type": "code",
      "metadata": {
        "id": "oAD_MC9lbELf",
        "colab_type": "code",
        "colab": {}
      },
      "source": [
        "linear_classifier = Parameters()\n",
        "linear_classifier.set_param('w_sm', init_linear(NB_FEAT, 10))"
      ],
      "execution_count": 0,
      "outputs": []
    },
    {
      "cell_type": "markdown",
      "metadata": {
        "id": "rpjfQEn_xjI6",
        "colab_type": "text"
      },
      "source": [
        "### TODO"
      ]
    },
    {
      "cell_type": "code",
      "metadata": {
        "id": "aICn5CtgbMMt",
        "colab_type": "code",
        "colab": {}
      },
      "source": [
        "def linear_classifier_forward_and_backward(batch_x, batch_y, param: Parameters, grad=True) -> (float, np.ndarray):\n",
        "    '''\n",
        "    compute the loss and the gradient of each parameter\n",
        "    return loss (float) and probs p(c_i) (matrix with shape batch_size x C)\n",
        "    '''\n",
        "    param.zero_grad()\n",
        "    w_sm = param.get_param('w_sm')\n",
        "\n",
        "    # compute loss and probs\n",
        "    loss = 0\n",
        "    probs = np.zeros((len(batch_x), 10))\n",
        "\n",
        "    s = np.dot(batch_x,w_sm)\n",
        "    s_exp = np.exp(s)\n",
        "    probs = s_exp/np.sum(s_exp,axis=1,keepdims=True)\n",
        "    log_probs = -np.log(probs[range(len(batch_x)),batch_y])\n",
        "    loss = np.sum(log_probs)/len(batch_x)\n",
        "    if not grad:\n",
        "        return loss, probs\n",
        "\n",
        "    # compute gradient\n",
        "    w_sm_grad = np.zeros_like(w_sm)\n",
        "    d_s = probs\n",
        "    d_s[range(len(batch_x)),batch_y] -= 1\n",
        "    d_s /= len(batch_x)\n",
        "    w_sm_grad = np.dot(batch_x.T,d_s)\n",
        "\n",
        "    # save the gradient\n",
        "    param.accumlate_grad('w_sm', w_sm_grad)\n",
        "    return loss, probs"
      ],
      "execution_count": 0,
      "outputs": []
    },
    {
      "cell_type": "markdown",
      "metadata": {
        "id": "2pbBBpkpbbMz",
        "colab_type": "text"
      },
      "source": [
        "### Loss & Gradient Check\n",
        "\n",
        "If all assertions are passed, it means you are good to go."
      ]
    },
    {
      "cell_type": "code",
      "metadata": {
        "id": "y3tTXJTrbfek",
        "colab_type": "code",
        "colab": {}
      },
      "source": [
        "# use a prime number for batch size would make debugging easier\n",
        "bs = 7\n",
        "batch_x = train_x[:bs]\n",
        "batch_y = train_y[:bs]\n",
        "loss, _ = linear_classifier_forward_and_backward(batch_x, batch_y, linear_classifier)\n",
        "\n",
        "w_sm = linear_classifier.get_param('w_sm')\n",
        "_w_sm = torch.tensor(w_sm, dtype=torch.double, requires_grad=True)\n",
        "_batch_x = torch.tensor(batch_x, dtype=torch.double, requires_grad=False)\n",
        "_batch_y = torch.tensor(batch_y, dtype=torch.long, requires_grad=False)\n",
        "\n",
        "_logits = F.linear(_batch_x, _w_sm.T)\n",
        "_logprobs = F.log_softmax(_logits, dim=-1)\n",
        "_loss = -_logprobs[torch.arange(len(_batch_y)), _batch_y].mean()\n",
        "_loss.backward()\n",
        "#assert np.isclose(loss, _loss.item())\n",
        "assert np.allclose(_w_sm.grad.numpy(), linear_classifier.grad['w_sm'])"
      ],
      "execution_count": 0,
      "outputs": []
    },
    {
      "cell_type": "markdown",
      "metadata": {
        "id": "egX8ucvXbsP7",
        "colab_type": "text"
      },
      "source": [
        "### Training"
      ]
    },
    {
      "cell_type": "code",
      "metadata": {
        "id": "N7C_vFBwbvGG",
        "colab_type": "code",
        "colab": {
          "base_uri": "https://localhost:8080/",
          "height": 383
        },
        "outputId": "7d125a49-2f22-47d6-b24c-b40e42e4350f"
      },
      "source": [
        "BS = 50\n",
        "LR = 0.005\n",
        "NB_EPOCH = 20\n",
        "\n",
        "linear_classifier = Parameters()\n",
        "linear_classifier.set_param('w_sm', init_linear(NB_FEAT, 10))\n",
        "acc_list0 = []\n",
        "acc_list0= main_training(linear_classifier, linear_classifier_forward_and_backward, train_x, train_y, dev_x, dev_y, BS, LR, NB_EPOCH,acc_list0)\n"
      ],
      "execution_count": 16,
      "outputs": [
        {
          "output_type": "stream",
          "text": [
            "  5%|| 1/20 [00:01<00:24,  1.28s/it]"
          ],
          "name": "stderr"
        },
        {
          "output_type": "stream",
          "text": [
            "epoch 0 train loss = 0.619 dev accuracy = 87.97%\n"
          ],
          "name": "stdout"
        },
        {
          "output_type": "stream",
          "text": [
            "\r 10%|| 2/20 [00:02<00:21,  1.19s/it]"
          ],
          "name": "stderr"
        },
        {
          "output_type": "stream",
          "text": [
            "epoch 1 train loss = 0.380 dev accuracy = 89.59%\n"
          ],
          "name": "stdout"
        },
        {
          "output_type": "stream",
          "text": [
            "\r 15%|| 3/20 [00:03<00:18,  1.09s/it]"
          ],
          "name": "stderr"
        },
        {
          "output_type": "stream",
          "text": [
            "epoch 2 train loss = 0.347 dev accuracy = 90.25%\n"
          ],
          "name": "stdout"
        },
        {
          "output_type": "stream",
          "text": [
            "\r 20%|| 4/20 [00:03<00:16,  1.02s/it]"
          ],
          "name": "stderr"
        },
        {
          "output_type": "stream",
          "text": [
            "epoch 3 train loss = 0.330 dev accuracy = 90.87%\n"
          ],
          "name": "stdout"
        },
        {
          "output_type": "stream",
          "text": [
            "\r 25%|| 5/20 [00:04<00:14,  1.02it/s]"
          ],
          "name": "stderr"
        },
        {
          "output_type": "stream",
          "text": [
            "epoch 4 train loss = 0.318 dev accuracy = 91.14%\n"
          ],
          "name": "stdout"
        },
        {
          "output_type": "stream",
          "text": [
            "\r 30%|| 6/20 [00:05<00:13,  1.06it/s]"
          ],
          "name": "stderr"
        },
        {
          "output_type": "stream",
          "text": [
            "epoch 5 train loss = 0.310 dev accuracy = 91.33%\n"
          ],
          "name": "stdout"
        },
        {
          "output_type": "stream",
          "text": [
            "\r 35%|| 7/20 [00:06<00:12,  1.08it/s]"
          ],
          "name": "stderr"
        },
        {
          "output_type": "stream",
          "text": [
            "epoch 6 train loss = 0.304 dev accuracy = 91.48%\n"
          ],
          "name": "stdout"
        },
        {
          "output_type": "stream",
          "text": [
            "\r 40%|| 8/20 [00:07<00:10,  1.11it/s]"
          ],
          "name": "stderr"
        },
        {
          "output_type": "stream",
          "text": [
            "epoch 7 train loss = 0.299 dev accuracy = 91.57%\n"
          ],
          "name": "stdout"
        },
        {
          "output_type": "stream",
          "text": [
            "\r 45%|| 9/20 [00:08<00:09,  1.13it/s]"
          ],
          "name": "stderr"
        },
        {
          "output_type": "stream",
          "text": [
            "epoch 8 train loss = 0.295 dev accuracy = 91.60%\n"
          ],
          "name": "stdout"
        },
        {
          "output_type": "stream",
          "text": [
            "\r 50%|| 10/20 [00:09<00:08,  1.14it/s]"
          ],
          "name": "stderr"
        },
        {
          "output_type": "stream",
          "text": [
            "epoch 9 train loss = 0.292 dev accuracy = 91.68%\n"
          ],
          "name": "stdout"
        },
        {
          "output_type": "stream",
          "text": [
            "\r 55%|| 11/20 [00:10<00:07,  1.14it/s]"
          ],
          "name": "stderr"
        },
        {
          "output_type": "stream",
          "text": [
            "epoch 10 train loss = 0.289 dev accuracy = 91.79%\n"
          ],
          "name": "stdout"
        },
        {
          "output_type": "stream",
          "text": [
            "\r 60%|| 12/20 [00:10<00:06,  1.15it/s]"
          ],
          "name": "stderr"
        },
        {
          "output_type": "stream",
          "text": [
            "epoch 11 train loss = 0.286 dev accuracy = 91.80%\n"
          ],
          "name": "stdout"
        },
        {
          "output_type": "stream",
          "text": [
            "\r 65%|| 13/20 [00:11<00:06,  1.16it/s]"
          ],
          "name": "stderr"
        },
        {
          "output_type": "stream",
          "text": [
            "epoch 12 train loss = 0.284 dev accuracy = 91.78%\n"
          ],
          "name": "stdout"
        },
        {
          "output_type": "stream",
          "text": [
            "\r 70%|| 14/20 [00:12<00:05,  1.16it/s]"
          ],
          "name": "stderr"
        },
        {
          "output_type": "stream",
          "text": [
            "epoch 13 train loss = 0.281 dev accuracy = 91.79%\n"
          ],
          "name": "stdout"
        },
        {
          "output_type": "stream",
          "text": [
            "\r 75%|| 15/20 [00:13<00:04,  1.16it/s]"
          ],
          "name": "stderr"
        },
        {
          "output_type": "stream",
          "text": [
            "epoch 14 train loss = 0.280 dev accuracy = 91.79%\n"
          ],
          "name": "stdout"
        },
        {
          "output_type": "stream",
          "text": [
            "\r 80%|| 16/20 [00:14<00:03,  1.16it/s]"
          ],
          "name": "stderr"
        },
        {
          "output_type": "stream",
          "text": [
            "epoch 15 train loss = 0.278 dev accuracy = 91.82%\n"
          ],
          "name": "stdout"
        },
        {
          "output_type": "stream",
          "text": [
            "\r 85%|| 17/20 [00:15<00:02,  1.17it/s]"
          ],
          "name": "stderr"
        },
        {
          "output_type": "stream",
          "text": [
            "epoch 16 train loss = 0.276 dev accuracy = 91.88%\n"
          ],
          "name": "stdout"
        },
        {
          "output_type": "stream",
          "text": [
            "\r 90%|| 18/20 [00:15<00:01,  1.19it/s]"
          ],
          "name": "stderr"
        },
        {
          "output_type": "stream",
          "text": [
            "epoch 17 train loss = 0.275 dev accuracy = 91.86%\n"
          ],
          "name": "stdout"
        },
        {
          "output_type": "stream",
          "text": [
            "\r 95%|| 19/20 [00:16<00:00,  1.18it/s]"
          ],
          "name": "stderr"
        },
        {
          "output_type": "stream",
          "text": [
            "epoch 18 train loss = 0.273 dev accuracy = 91.86%\n"
          ],
          "name": "stdout"
        },
        {
          "output_type": "stream",
          "text": [
            "\r100%|| 20/20 [00:17<00:00,  1.18it/s]"
          ],
          "name": "stderr"
        },
        {
          "output_type": "stream",
          "text": [
            "epoch 19 train loss = 0.272 dev accuracy = 91.93%\n",
            "best dev accuracy = 91.93%\n"
          ],
          "name": "stdout"
        },
        {
          "output_type": "stream",
          "text": [
            "\n"
          ],
          "name": "stderr"
        }
      ]
    },
    {
      "cell_type": "code",
      "metadata": {
        "id": "rn7gO3v_RgHi",
        "colab_type": "code",
        "colab": {
          "base_uri": "https://localhost:8080/",
          "height": 278
        },
        "outputId": "d2557e8e-1593-4693-cd1d-a2f576e89395"
      },
      "source": [
        "it=[i for i in range(NB_EPOCH)]\n",
        "plt.plot(it, acc_list0, color=\"r\", linestyle=\"-\", marker=\"^\", linewidth=1)\n",
        "plt.xlabel(\"iter\")\n",
        "plt.ylabel(\"acc\")\n",
        "plt.show()"
      ],
      "execution_count": 17,
      "outputs": [
        {
          "output_type": "display_data",
          "data": {
            "image/png": "[encoded data removed]",
            "text/plain": [
              "<Figure size 432x288 with 1 Axes>"
            ]
          },
          "metadata": {
            "tags": []
          }
        }
      ]
    },
    {
      "cell_type": "markdown",
      "metadata": {
        "id": "AkaYMGxZOqT1",
        "colab_type": "text"
      },
      "source": [
        "## Q2.1 MLP with Single Hidden Layer\n",
        "\n",
        "Let $x \\in R^{1\\times N}$ be a single sample. $N$ is the number of the feature dimension and $C$ is the number of class in the final classification.\n",
        "\n",
        "For the first layer, $W_1 \\in R^{N\\times \\frac{N}{2}}$ and $b_1 \\in R^{\\frac{N}{2}}$\n",
        "\n",
        "$$\\bar{h}_1 = x\\cdot W_1 + b_1$$\n",
        "\n",
        "$$h_1 = ReLU(\\bar{h}_1)$$\n",
        "\n",
        "In the softmax layer, $W_{sm} \\in R^{\\frac{N}{2} \\times C}$. The unnormalized score $s \\in R^{C}$ is\n",
        "\n",
        "$$s = h_1\\cdot W_{sm}$$\n",
        "\n",
        "With softmax function, we get the probability $p(c_i)$ of class $i$ where $i \\in \\{1,\\cdots,C\\}$\n",
        "\n",
        "$$p(c_i) = \\frac {\\exp(s_i)} {\\sum_i \\exp(s_i)}$$\n",
        "\n",
        "where $s_i$ is the $i^{th}$ element of $s$.\n",
        "\n",
        "Assuming $y \\in \\{1,\\cdots,C\\}$, we want to minimize $-\\log p(c_y)$, the cross-entropy loss between one hot true distribution `q(c_i) = 1 if i == y else 0` and $p(c_i)$.\n",
        "\n",
        "We will take the average $-\\log p(c_y)$ of a batch of x as the loss.\n",
        "\n",
        "In `mlp_single_hidden_forward_and_backward`, `batch_x` and `batch_y` are matrixs, where each row are $x$ and $y$, respectively."
      ]
    },
    {
      "cell_type": "code",
      "metadata": {
        "id": "OtO3xNMYRevK",
        "colab_type": "code",
        "colab": {}
      },
      "source": [
        ""
      ],
      "execution_count": 0,
      "outputs": []
    },
    {
      "cell_type": "code",
      "metadata": {
        "id": "LQlWUL_f520s",
        "colab_type": "code",
        "colab": {}
      },
      "source": [
        "mlp_single_hidden = Parameters()\n",
        "mlp_single_hidden.set_param('w1', init_linear(NB_FEAT, NB_FEAT // 2))\n",
        "mlp_single_hidden.set_param('b1', np.zeros(NB_FEAT // 2))\n",
        "mlp_single_hidden.set_param('w_sm', init_linear(NB_FEAT // 2, 10))"
      ],
      "execution_count": 0,
      "outputs": []
    },
    {
      "cell_type": "markdown",
      "metadata": {
        "id": "37K-xIMFxeZo",
        "colab_type": "text"
      },
      "source": [
        "### TODO\n",
        "\n"
      ]
    },
    {
      "cell_type": "code",
      "metadata": {
        "id": "12xq8CDgCZYX",
        "colab_type": "code",
        "colab": {}
      },
      "source": [
        "def mlp_single_hidden_forward_and_backward(batch_x, batch_y, param: Parameters, grad=True):\n",
        "    '''\n",
        "    compute the loss and the gradient of each parameter\n",
        "    return loss (float) and p(c_i) (matrix with shape batch_size x C)\n",
        "    '''\n",
        "    param.zero_grad()\n",
        "    w1 = param.get_param('w1')\n",
        "    b1 = param.get_param('b1')\n",
        "    w_sm = param.get_param('w_sm')\n",
        "\n",
        "\n",
        "    # compute loss and probs\n",
        "    loss = 0\n",
        "    probs = np.zeros((len(batch_x), 10))\n",
        "    h1_hat = np.dot(batch_x,w1)+b1\n",
        "    h1 = np.maximum(0,h1_hat)\n",
        "    s = np.dot(h1,w_sm)\n",
        "    s_exp = np.exp(s)\n",
        "    probs = s_exp/np.sum(s_exp,axis = 1,keepdims =True)\n",
        "    log_probs = -np.log(probs[range(len(batch_x)),batch_y])\n",
        "    loss = np.sum(log_probs)/len(batch_x)\n",
        "\n",
        "    if not grad:\n",
        "        return loss, probs\n",
        "\n",
        "    # compute gradient\n",
        "    w1_grad = np.zeros_like(w1)\n",
        "    b1_grad = np.zeros_like(b1)\n",
        "    w_sm_grad = np.zeros_like(w_sm)\n",
        "    d_s = probs\n",
        "    d_s[range(len(h1)),batch_y] -= 1\n",
        "    d_s /= len(h1)\n",
        "    w_sm_grad = np.dot(h1.T,d_s)\n",
        "    d_h1 = np.dot(d_s,w_sm.T)\n",
        "    d_h1[h1<=0]=0\n",
        "    w1_grad = np.dot(batch_x.T,d_h1)\n",
        "    b1_grad = np.sum(d_h1,axis=0,keepdims=True)[0]\n",
        "\n",
        "    param.accumlate_grad('w1', w1_grad)\n",
        "    param.accumlate_grad('b1', b1_grad)\n",
        "    param.accumlate_grad('w_sm', w_sm_grad)\n",
        "    return loss, probs"
      ],
      "execution_count": 0,
      "outputs": []
    },
    {
      "cell_type": "markdown",
      "metadata": {
        "id": "-vpqro3iO0Am",
        "colab_type": "text"
      },
      "source": [
        "### Loss & Gradient Check\n",
        "\n",
        "If all assertions are passed, it means you are good to go."
      ]
    },
    {
      "cell_type": "code",
      "metadata": {
        "id": "BAl0A2_nCx-y",
        "colab_type": "code",
        "colab": {}
      },
      "source": [
        "# use a prime number for batch size would make debugging easier\n",
        "bs = 7\n",
        "batch_x = train_x[:bs]\n",
        "batch_y = train_y[:bs]\n",
        "loss, _ = mlp_single_hidden_forward_and_backward(batch_x, batch_y, mlp_single_hidden)\n",
        "\n",
        "w1 = mlp_single_hidden.get_param('w1')\n",
        "b1 = mlp_single_hidden.get_param('b1')\n",
        "w_sm = mlp_single_hidden.get_param('w_sm')\n",
        "_w1 = torch.tensor(w1, dtype=torch.double, requires_grad=True)\n",
        "_b1 = torch.tensor(b1, dtype=torch.double, requires_grad=True)\n",
        "_w_sm = torch.tensor(w_sm, dtype=torch.double, requires_grad=True)\n",
        "_batch_x = torch.tensor(batch_x, dtype=torch.double, requires_grad=False)\n",
        "_batch_y = torch.tensor(batch_y, dtype=torch.long, requires_grad=False)\n",
        "\n",
        "_h1 = F.linear(_batch_x, _w1.T) + _b1\n",
        "_h1 = F.relu(_h1)\n",
        "_logits = F.linear(_h1, _w_sm.T)\n",
        "_logprobs = F.log_softmax(_logits, dim=-1)\n",
        "_loss = -_logprobs[torch.arange(len(_batch_y)), _batch_y].mean()\n",
        "_loss.backward()\n",
        "\n",
        "assert np.isclose(loss, _loss.item())\n",
        "assert np.allclose(_w_sm.grad.numpy(), mlp_single_hidden.grad['w_sm'])\n",
        "assert np.allclose(_w1.grad.numpy(), mlp_single_hidden.grad['w1'])\n",
        "assert np.allclose(_b1.grad.numpy(), mlp_single_hidden.grad['b1'])"
      ],
      "execution_count": 0,
      "outputs": []
    },
    {
      "cell_type": "markdown",
      "metadata": {
        "id": "PaEBK2p_azU6",
        "colab_type": "text"
      },
      "source": [
        "### Train!"
      ]
    },
    {
      "cell_type": "code",
      "metadata": {
        "id": "INoZSBXT52_o",
        "colab_type": "code",
        "colab": {
          "base_uri": "https://localhost:8080/",
          "height": 383
        },
        "outputId": "f5fae89e-990f-4417-b7e4-72e45bd6f94e"
      },
      "source": [
        "BS = 50\n",
        "LR = 0.005\n",
        "NB_EPOCH = 20\n",
        "\n",
        "mlp_single_hidden = Parameters()\n",
        "mlp_single_hidden.set_param('w1', init_linear(NB_FEAT, NB_FEAT // 2))\n",
        "mlp_single_hidden.set_param('b1', np.zeros(NB_FEAT // 2))\n",
        "mlp_single_hidden.set_param('w_sm', init_linear(NB_FEAT // 2, 10))\n",
        "acc_list1 = []\n",
        "acc_list1 =main_training(mlp_single_hidden, mlp_single_hidden_forward_and_backward, train_x, train_y, dev_x, dev_y, BS, LR, NB_EPOCH,acc_list1)"
      ],
      "execution_count": 21,
      "outputs": [
        {
          "output_type": "stream",
          "text": [
            "  5%|| 1/20 [00:08<02:36,  8.21s/it]"
          ],
          "name": "stderr"
        },
        {
          "output_type": "stream",
          "text": [
            "epoch 0 train loss = 0.533 dev accuracy = 90.39%\n"
          ],
          "name": "stdout"
        },
        {
          "output_type": "stream",
          "text": [
            "\r 10%|| 2/20 [00:16<02:27,  8.22s/it]"
          ],
          "name": "stderr"
        },
        {
          "output_type": "stream",
          "text": [
            "epoch 1 train loss = 0.293 dev accuracy = 92.34%\n"
          ],
          "name": "stdout"
        },
        {
          "output_type": "stream",
          "text": [
            "\r 15%|| 3/20 [00:24<02:20,  8.25s/it]"
          ],
          "name": "stderr"
        },
        {
          "output_type": "stream",
          "text": [
            "epoch 2 train loss = 0.244 dev accuracy = 93.34%\n"
          ],
          "name": "stdout"
        },
        {
          "output_type": "stream",
          "text": [
            "\r 20%|| 4/20 [00:32<02:11,  8.23s/it]"
          ],
          "name": "stderr"
        },
        {
          "output_type": "stream",
          "text": [
            "epoch 3 train loss = 0.214 dev accuracy = 94.07%\n"
          ],
          "name": "stdout"
        },
        {
          "output_type": "stream",
          "text": [
            "\r 25%|| 5/20 [00:41<02:03,  8.23s/it]"
          ],
          "name": "stderr"
        },
        {
          "output_type": "stream",
          "text": [
            "epoch 4 train loss = 0.193 dev accuracy = 94.39%\n"
          ],
          "name": "stdout"
        },
        {
          "output_type": "stream",
          "text": [
            "\r 30%|| 6/20 [00:49<01:55,  8.23s/it]"
          ],
          "name": "stderr"
        },
        {
          "output_type": "stream",
          "text": [
            "epoch 5 train loss = 0.177 dev accuracy = 94.76%\n"
          ],
          "name": "stdout"
        },
        {
          "output_type": "stream",
          "text": [
            "\r 35%|| 7/20 [00:57<01:46,  8.20s/it]"
          ],
          "name": "stderr"
        },
        {
          "output_type": "stream",
          "text": [
            "epoch 6 train loss = 0.163 dev accuracy = 95.08%\n"
          ],
          "name": "stdout"
        },
        {
          "output_type": "stream",
          "text": [
            "\r 40%|| 8/20 [01:05<01:38,  8.18s/it]"
          ],
          "name": "stderr"
        },
        {
          "output_type": "stream",
          "text": [
            "epoch 7 train loss = 0.152 dev accuracy = 95.35%\n"
          ],
          "name": "stdout"
        },
        {
          "output_type": "stream",
          "text": [
            "\r 45%|| 9/20 [01:13<01:29,  8.17s/it]"
          ],
          "name": "stderr"
        },
        {
          "output_type": "stream",
          "text": [
            "epoch 8 train loss = 0.142 dev accuracy = 95.55%\n"
          ],
          "name": "stdout"
        },
        {
          "output_type": "stream",
          "text": [
            "\r 50%|| 10/20 [01:22<01:22,  8.27s/it]"
          ],
          "name": "stderr"
        },
        {
          "output_type": "stream",
          "text": [
            "epoch 9 train loss = 0.134 dev accuracy = 95.79%\n"
          ],
          "name": "stdout"
        },
        {
          "output_type": "stream",
          "text": [
            "\r 55%|| 11/20 [01:30<01:14,  8.30s/it]"
          ],
          "name": "stderr"
        },
        {
          "output_type": "stream",
          "text": [
            "epoch 10 train loss = 0.126 dev accuracy = 95.94%\n"
          ],
          "name": "stdout"
        },
        {
          "output_type": "stream",
          "text": [
            "\r 60%|| 12/20 [01:38<01:06,  8.28s/it]"
          ],
          "name": "stderr"
        },
        {
          "output_type": "stream",
          "text": [
            "epoch 11 train loss = 0.119 dev accuracy = 96.07%\n"
          ],
          "name": "stdout"
        },
        {
          "output_type": "stream",
          "text": [
            "\r 65%|| 13/20 [01:47<00:58,  8.29s/it]"
          ],
          "name": "stderr"
        },
        {
          "output_type": "stream",
          "text": [
            "epoch 12 train loss = 0.113 dev accuracy = 96.15%\n"
          ],
          "name": "stdout"
        },
        {
          "output_type": "stream",
          "text": [
            "\r 70%|| 14/20 [01:56<00:50,  8.45s/it]"
          ],
          "name": "stderr"
        },
        {
          "output_type": "stream",
          "text": [
            "epoch 13 train loss = 0.108 dev accuracy = 96.26%\n"
          ],
          "name": "stdout"
        },
        {
          "output_type": "stream",
          "text": [
            "\r 75%|| 15/20 [02:04<00:42,  8.40s/it]"
          ],
          "name": "stderr"
        },
        {
          "output_type": "stream",
          "text": [
            "epoch 14 train loss = 0.103 dev accuracy = 96.40%\n"
          ],
          "name": "stdout"
        },
        {
          "output_type": "stream",
          "text": [
            "\r 80%|| 16/20 [02:12<00:33,  8.35s/it]"
          ],
          "name": "stderr"
        },
        {
          "output_type": "stream",
          "text": [
            "epoch 15 train loss = 0.098 dev accuracy = 96.52%\n"
          ],
          "name": "stdout"
        },
        {
          "output_type": "stream",
          "text": [
            "\r 85%|| 17/20 [02:20<00:25,  8.34s/it]"
          ],
          "name": "stderr"
        },
        {
          "output_type": "stream",
          "text": [
            "epoch 16 train loss = 0.094 dev accuracy = 96.57%\n"
          ],
          "name": "stdout"
        },
        {
          "output_type": "stream",
          "text": [
            "\r 90%|| 18/20 [02:29<00:16,  8.29s/it]"
          ],
          "name": "stderr"
        },
        {
          "output_type": "stream",
          "text": [
            "epoch 17 train loss = 0.090 dev accuracy = 96.63%\n"
          ],
          "name": "stdout"
        },
        {
          "output_type": "stream",
          "text": [
            "\r 95%|| 19/20 [02:37<00:08,  8.27s/it]"
          ],
          "name": "stderr"
        },
        {
          "output_type": "stream",
          "text": [
            "epoch 18 train loss = 0.087 dev accuracy = 96.66%\n"
          ],
          "name": "stdout"
        },
        {
          "output_type": "stream",
          "text": [
            "\r100%|| 20/20 [02:45<00:00,  8.26s/it]"
          ],
          "name": "stderr"
        },
        {
          "output_type": "stream",
          "text": [
            "epoch 19 train loss = 0.083 dev accuracy = 96.77%\n",
            "best dev accuracy = 96.77%\n"
          ],
          "name": "stdout"
        },
        {
          "output_type": "stream",
          "text": [
            "\n"
          ],
          "name": "stderr"
        }
      ]
    },
    {
      "cell_type": "code",
      "metadata": {
        "id": "siWRroXQHSSo",
        "colab_type": "code",
        "colab": {
          "base_uri": "https://localhost:8080/",
          "height": 281
        },
        "outputId": "8d0609e6-0486-4797-c771-25370b212275"
      },
      "source": [
        "it=[i for i in range(NB_EPOCH)]\n",
        "plt.plot(it, acc_list1, color=\"r\", linestyle=\"-\", marker=\"^\", linewidth=1)\n",
        "plt.xlabel(\"iter\")\n",
        "plt.ylabel(\"acc\")\n",
        "plt.show()"
      ],
      "execution_count": 22,
      "outputs": [
        {
          "output_type": "display_data",
          "data": {
            "image/png": "[encoded data removed]",
            "text/plain": [
              "<Figure size 432x288 with 1 Axes>"
            ]
          },
          "metadata": {
            "tags": []
          }
        }
      ]
    },
    {
      "cell_type": "code",
      "metadata": {
        "id": "14ZhYaVwHSRE",
        "colab_type": "code",
        "colab": {}
      },
      "source": [
        ""
      ],
      "execution_count": 0,
      "outputs": []
    },
    {
      "cell_type": "markdown",
      "metadata": {
        "id": "tzyRX0-fcCBs",
        "colab_type": "text"
      },
      "source": [
        "## Q2.3 MLP with Two Hidden Layer\n",
        "\n",
        "Let $x \\in R^{1\\times N}$ be a single sample. $N$ is the number of the feature dimension and $C$ is the number of class in the final classification.\n",
        "\n",
        "For the first layer, $W_1 \\in R^{N\\times \\frac{N}{2}}$ and $b_1 \\in R^{\\frac{N}{2}}$\n",
        "\n",
        "$$\\bar{h}_1 = x\\cdot W_1 + b_1$$\n",
        "\n",
        "$$h_1 = ReLU(\\bar{h}_1)$$\n",
        "\n",
        "For the second layer, $W_2 \\in R^{\\frac{N}{2} \\times \\frac{N}{2}}$ and $b_2 \\in R^{\\frac{N}{2}}$\n",
        "\n",
        "$$\\bar{h}_2 = h_1\\cdot W_2 + b_2$$\n",
        "\n",
        "$$h_2 = h_1 + ReLU(\\bar{h}_2)$$\n",
        "\n",
        "*Sidenote: in deep learning, $g(x, f) = x + f(x)$ is usually referred to as skip connection.*\n",
        "\n",
        "In the softmax layer, $W_{sm} \\in R^{\\frac{N}{2} \\times C}$. The unnormalized score $s \\in R^{C}$ is\n",
        "\n",
        "$$s = h_2\\cdot W_{sm}$$\n",
        "\n",
        "With softmax function, we get the probability $p(c_i)$ of class $i$ where $i \\in \\{1,\\cdots,C\\}$\n",
        "\n",
        "$$p(c_i) = \\frac {\\exp(s_i)} {\\sum_i \\exp(s_i)}$$\n",
        "\n",
        "where $s_i$ is the $i^{th}$ element of $s$.\n",
        "\n",
        "Assuming $y \\in \\{1,\\cdots,C\\}$, we want to minimize $-\\log p(c_y)$, the cross-entropy loss between one hot true distribution `q(c_i) = 1 if i == y else 0` and $p(c_i)$.\n",
        "\n",
        "We will take the average $-\\log p(c_y)$ of a batch of x as the loss.\n",
        "\n",
        "In `mlp_two_hidden_forward_and_backward`, `batch_x` and `batch_y` are matrixs, where each row are $x$ and $y$, respectively."
      ]
    },
    {
      "cell_type": "code",
      "metadata": {
        "id": "N1XBElNccHeu",
        "colab_type": "code",
        "colab": {}
      },
      "source": [
        "mlp_two_hidden = Parameters()\n",
        "mlp_two_hidden.set_param('w1', init_linear(NB_FEAT, NB_FEAT // 2))\n",
        "mlp_two_hidden.set_param('b1', np.zeros(NB_FEAT // 2))\n",
        "mlp_two_hidden.set_param('w2', init_linear(NB_FEAT // 2, NB_FEAT // 2))\n",
        "mlp_two_hidden.set_param('b2', np.zeros(NB_FEAT // 2))\n",
        "mlp_two_hidden.set_param('w_sm', init_linear(NB_FEAT // 2, 10))"
      ],
      "execution_count": 0,
      "outputs": []
    },
    {
      "cell_type": "markdown",
      "metadata": {
        "id": "QiVRXqN4xXgm",
        "colab_type": "text"
      },
      "source": [
        "### TODO\n"
      ]
    },
    {
      "cell_type": "code",
      "metadata": {
        "id": "2tsJbpmgcHh6",
        "colab_type": "code",
        "colab": {}
      },
      "source": [
        "def mlp_two_hidden_forward_and_backward(batch_x, batch_y, param: Parameters, grad=True):\n",
        "    '''\n",
        "    compute the loss and the gradient of each parameter\n",
        "    return loss (float) and p(c_i) (matrix with shape batch_size x C)\n",
        "    '''\n",
        "    param.zero_grad()\n",
        "    w1 = param.get_param('w1')\n",
        "    b1 = param.get_param('b1')\n",
        "    w2 = param.get_param('w2')\n",
        "    b2 = param.get_param('b2')\n",
        "    w_sm = param.get_param('w_sm')\n",
        "\n",
        "    # compute loss and probs\n",
        "    loss = 0\n",
        "    probs = np.zeros((len(batch_x), 10))\n",
        "    h1_hat = np.dot(batch_x,w1)+b1\n",
        "    h1 = np.maximum(0,h1_hat)\n",
        "    h2_hat = np.dot(h1,w2)+b2\n",
        "    h2_hat_relu = np.maximum(0,h2_hat)\n",
        "\n",
        "    h2 = h1+h2_hat_relu\n",
        "    s = np.dot(h2,w_sm)\n",
        "    s_exp = np.exp(s)\n",
        "    probs = s_exp/np.sum(s_exp,axis = 1,keepdims =True)\n",
        "    log_probs = -np.log(probs[range(len(batch_x)),batch_y])\n",
        "    loss = np.sum(log_probs)/len(batch_x)\n",
        "\n",
        "    if not grad:\n",
        "        return loss, probs\n",
        "\n",
        "    # compute gradient\n",
        "    w1_grad = np.zeros_like(w1)\n",
        "    b1_grad = np.zeros_like(b1)\n",
        "    w2_grad = np.zeros_like(w2)\n",
        "    b2_grad = np.zeros_like(b2)\n",
        "    w_sm_grad = np.zeros_like(w_sm)\n",
        "    d_s = probs\n",
        "    d_s[range(len(h2)),batch_y] -= 1\n",
        "    d_s /= len(h2)\n",
        "    w_sm_grad = np.dot(h2.T,d_s)\n",
        "    d_h2 = np.dot(d_s,w_sm.T)\n",
        "    d_h2_hat = d_h2\n",
        "    d_h2_hat[h2_hat_relu<=0]=0\n",
        "    w2_grad = np.dot(h1.T,d_h2_hat)\n",
        "    b2_grad = np.sum(d_h2_hat,axis=0)\n",
        "    d_h1 = np.dot(d_h2_hat,w2.T) + np.dot(d_s,w_sm.T)\n",
        "    d_h1_hat= d_h1\n",
        "    d_h1_hat[h1<=0] =0\n",
        "    w1_grad = np.dot(batch_x.T,d_h1_hat)\n",
        "    b1_grad = np.sum(d_h1_hat,axis=0)\n",
        "    \n",
        "    \n",
        "\n",
        "    param.accumlate_grad('w1', w1_grad)\n",
        "    param.accumlate_grad('b1', b1_grad)\n",
        "    param.accumlate_grad('w2', w2_grad)\n",
        "    param.accumlate_grad('b2', b2_grad)\n",
        "    param.accumlate_grad('w_sm', w_sm_grad)\n",
        "    return loss, probs\n"
      ],
      "execution_count": 0,
      "outputs": []
    },
    {
      "cell_type": "markdown",
      "metadata": {
        "colab_type": "text",
        "id": "BCF5GRKvdGaw"
      },
      "source": [
        "### Loss & Gradient Check\n",
        "\n",
        "If all assertions are passed, it means you are good to go."
      ]
    },
    {
      "cell_type": "code",
      "metadata": {
        "id": "gnkCUnV6cHlC",
        "colab_type": "code",
        "colab": {}
      },
      "source": [
        "# use a prime number for batch size would make debugging easier\n",
        "bs = 7\n",
        "batch_x = train_x[:bs]\n",
        "batch_y = train_y[:bs]\n",
        "loss, _ = mlp_two_hidden_forward_and_backward(batch_x, batch_y, mlp_two_hidden)\n",
        "\n",
        "w1 = mlp_two_hidden.get_param('w1')\n",
        "b1 = mlp_two_hidden.get_param('b1')\n",
        "w2 = mlp_two_hidden.get_param('w2')\n",
        "b2 = mlp_two_hidden.get_param('b2')\n",
        "w_sm = mlp_two_hidden.get_param('w_sm')\n",
        "_w1 = torch.tensor(w1, dtype=torch.double, requires_grad=True)\n",
        "_b1 = torch.tensor(b1, dtype=torch.double, requires_grad=True)\n",
        "_w2 = torch.tensor(w2, dtype=torch.double, requires_grad=True)\n",
        "_b2 = torch.tensor(b2, dtype=torch.double, requires_grad=True)\n",
        "_w_sm = torch.tensor(w_sm, dtype=torch.double, requires_grad=True)\n",
        "_batch_x = torch.tensor(batch_x, dtype=torch.double, requires_grad=False)\n",
        "_batch_y = torch.tensor(batch_y, dtype=torch.long, requires_grad=False)\n",
        "\n",
        "_h1 = F.linear(_batch_x, _w1.T) + _b1\n",
        "_h1 = F.relu(_h1)\n",
        "\n",
        "_h2 = F.linear(_h1, _w2.T) + _b2\n",
        "_h2 = F.relu(_h2)\n",
        "_h2 = _h2 + _h1\n",
        "\n",
        "_logits = F.linear(_h2, _w_sm.T)\n",
        "_logprobs = F.log_softmax(_logits, dim=-1)\n",
        "_loss = -_logprobs[torch.arange(len(_batch_y)), _batch_y].mean()\n",
        "_loss.backward()\n",
        "assert np.isclose(loss, _loss.item())\n",
        "assert np.allclose(_w_sm.grad.numpy(), mlp_two_hidden.grad['w_sm'])\n",
        "assert np.allclose(_w2.grad.numpy(), mlp_two_hidden.grad['w2'])\n",
        "assert np.allclose(_b2.grad.numpy(), mlp_two_hidden.grad['b2'])\n",
        "assert np.allclose(_w1.grad.numpy(), mlp_two_hidden.grad['w1'])\n",
        "assert np.allclose(_b1.grad.numpy(), mlp_two_hidden.grad['b1'])"
      ],
      "execution_count": 0,
      "outputs": []
    },
    {
      "cell_type": "markdown",
      "metadata": {
        "colab_type": "text",
        "id": "fNjUcsPoenly"
      },
      "source": [
        "### Train!"
      ]
    },
    {
      "cell_type": "code",
      "metadata": {
        "id": "4bnIsb-heqWE",
        "colab_type": "code",
        "colab": {
          "base_uri": "https://localhost:8080/",
          "height": 383
        },
        "outputId": "9db1815f-9ce4-4878-c984-6758f8e184a0"
      },
      "source": [
        "BS = 50\n",
        "LR = 0.005\n",
        "NB_EPOCH = 20\n",
        "\n",
        "mlp_two_hidden = Parameters()\n",
        "mlp_two_hidden.set_param('w1', init_linear(NB_FEAT, NB_FEAT // 2))\n",
        "mlp_two_hidden.set_param('b1', np.zeros(NB_FEAT // 2))\n",
        "mlp_two_hidden.set_param('w2', init_linear(NB_FEAT // 2, NB_FEAT // 2))\n",
        "mlp_two_hidden.set_param('b2', np.zeros(NB_FEAT // 2))\n",
        "mlp_two_hidden.set_param('w_sm', init_linear(NB_FEAT // 2, 10))\n",
        "acc_list2 =[]\n",
        "acc_list2 = main_training(mlp_two_hidden, mlp_two_hidden_forward_and_backward, train_x, train_y, dev_x, dev_y, BS, LR, NB_EPOCH,acc_list2)"
      ],
      "execution_count": 26,
      "outputs": [
        {
          "output_type": "stream",
          "text": [
            "  5%|| 1/20 [00:15<04:50, 15.30s/it]"
          ],
          "name": "stderr"
        },
        {
          "output_type": "stream",
          "text": [
            "epoch 0 train loss = 0.450 dev accuracy = 91.54%\n"
          ],
          "name": "stdout"
        },
        {
          "output_type": "stream",
          "text": [
            "\r 10%|| 2/20 [00:30<04:34, 15.27s/it]"
          ],
          "name": "stderr"
        },
        {
          "output_type": "stream",
          "text": [
            "epoch 1 train loss = 0.237 dev accuracy = 93.28%\n"
          ],
          "name": "stdout"
        },
        {
          "output_type": "stream",
          "text": [
            "\r 15%|| 3/20 [00:45<04:19, 15.26s/it]"
          ],
          "name": "stderr"
        },
        {
          "output_type": "stream",
          "text": [
            "epoch 2 train loss = 0.190 dev accuracy = 94.27%\n"
          ],
          "name": "stdout"
        },
        {
          "output_type": "stream",
          "text": [
            "\r 20%|| 4/20 [01:01<04:04, 15.29s/it]"
          ],
          "name": "stderr"
        },
        {
          "output_type": "stream",
          "text": [
            "epoch 3 train loss = 0.161 dev accuracy = 94.84%\n"
          ],
          "name": "stdout"
        },
        {
          "output_type": "stream",
          "text": [
            "\r 25%|| 5/20 [01:16<03:48, 15.26s/it]"
          ],
          "name": "stderr"
        },
        {
          "output_type": "stream",
          "text": [
            "epoch 4 train loss = 0.140 dev accuracy = 95.28%\n"
          ],
          "name": "stdout"
        },
        {
          "output_type": "stream",
          "text": [
            "\r 30%|| 6/20 [01:31<03:33, 15.23s/it]"
          ],
          "name": "stderr"
        },
        {
          "output_type": "stream",
          "text": [
            "epoch 5 train loss = 0.124 dev accuracy = 95.59%\n"
          ],
          "name": "stdout"
        },
        {
          "output_type": "stream",
          "text": [
            "\r 35%|| 7/20 [01:46<03:18, 15.27s/it]"
          ],
          "name": "stderr"
        },
        {
          "output_type": "stream",
          "text": [
            "epoch 6 train loss = 0.111 dev accuracy = 95.86%\n"
          ],
          "name": "stdout"
        },
        {
          "output_type": "stream",
          "text": [
            "\r 40%|| 8/20 [02:02<03:03, 15.26s/it]"
          ],
          "name": "stderr"
        },
        {
          "output_type": "stream",
          "text": [
            "epoch 7 train loss = 0.101 dev accuracy = 96.06%\n"
          ],
          "name": "stdout"
        },
        {
          "output_type": "stream",
          "text": [
            "\r 45%|| 9/20 [02:17<02:47, 15.22s/it]"
          ],
          "name": "stderr"
        },
        {
          "output_type": "stream",
          "text": [
            "epoch 8 train loss = 0.092 dev accuracy = 96.24%\n"
          ],
          "name": "stdout"
        },
        {
          "output_type": "stream",
          "text": [
            "\r 50%|| 10/20 [02:32<02:32, 15.20s/it]"
          ],
          "name": "stderr"
        },
        {
          "output_type": "stream",
          "text": [
            "epoch 9 train loss = 0.084 dev accuracy = 96.43%\n"
          ],
          "name": "stdout"
        },
        {
          "output_type": "stream",
          "text": [
            "\r 55%|| 11/20 [02:47<02:17, 15.23s/it]"
          ],
          "name": "stderr"
        },
        {
          "output_type": "stream",
          "text": [
            "epoch 10 train loss = 0.077 dev accuracy = 96.65%\n"
          ],
          "name": "stdout"
        },
        {
          "output_type": "stream",
          "text": [
            "\r 60%|| 12/20 [03:02<02:01, 15.24s/it]"
          ],
          "name": "stderr"
        },
        {
          "output_type": "stream",
          "text": [
            "epoch 11 train loss = 0.072 dev accuracy = 96.73%\n"
          ],
          "name": "stdout"
        },
        {
          "output_type": "stream",
          "text": [
            "\r 65%|| 13/20 [03:18<01:46, 15.23s/it]"
          ],
          "name": "stderr"
        },
        {
          "output_type": "stream",
          "text": [
            "epoch 12 train loss = 0.066 dev accuracy = 96.80%\n"
          ],
          "name": "stdout"
        },
        {
          "output_type": "stream",
          "text": [
            "\r 70%|| 14/20 [03:33<01:31, 15.23s/it]"
          ],
          "name": "stderr"
        },
        {
          "output_type": "stream",
          "text": [
            "epoch 13 train loss = 0.061 dev accuracy = 96.88%\n"
          ],
          "name": "stdout"
        },
        {
          "output_type": "stream",
          "text": [
            "\r 75%|| 15/20 [03:48<01:16, 15.29s/it]"
          ],
          "name": "stderr"
        },
        {
          "output_type": "stream",
          "text": [
            "epoch 14 train loss = 0.057 dev accuracy = 96.96%\n"
          ],
          "name": "stdout"
        },
        {
          "output_type": "stream",
          "text": [
            "\r 80%|| 16/20 [04:04<01:01, 15.42s/it]"
          ],
          "name": "stderr"
        },
        {
          "output_type": "stream",
          "text": [
            "epoch 15 train loss = 0.053 dev accuracy = 97.05%\n"
          ],
          "name": "stdout"
        },
        {
          "output_type": "stream",
          "text": [
            "\r 85%|| 17/20 [04:19<00:46, 15.41s/it]"
          ],
          "name": "stderr"
        },
        {
          "output_type": "stream",
          "text": [
            "epoch 16 train loss = 0.050 dev accuracy = 97.08%\n"
          ],
          "name": "stdout"
        },
        {
          "output_type": "stream",
          "text": [
            "\r 90%|| 18/20 [04:35<00:31, 15.57s/it]"
          ],
          "name": "stderr"
        },
        {
          "output_type": "stream",
          "text": [
            "epoch 17 train loss = 0.047 dev accuracy = 97.23%\n"
          ],
          "name": "stdout"
        },
        {
          "output_type": "stream",
          "text": [
            "\r 95%|| 19/20 [04:50<00:15, 15.45s/it]"
          ],
          "name": "stderr"
        },
        {
          "output_type": "stream",
          "text": [
            "epoch 18 train loss = 0.044 dev accuracy = 97.26%\n"
          ],
          "name": "stdout"
        },
        {
          "output_type": "stream",
          "text": [
            "\r100%|| 20/20 [05:06<00:00, 15.38s/it]"
          ],
          "name": "stderr"
        },
        {
          "output_type": "stream",
          "text": [
            "epoch 19 train loss = 0.041 dev accuracy = 97.29%\n",
            "best dev accuracy = 97.29%\n"
          ],
          "name": "stdout"
        },
        {
          "output_type": "stream",
          "text": [
            "\n"
          ],
          "name": "stderr"
        }
      ]
    },
    {
      "cell_type": "code",
      "metadata": {
        "id": "Nu8XTc-PSh6S",
        "colab_type": "code",
        "colab": {
          "base_uri": "https://localhost:8080/",
          "height": 278
        },
        "outputId": "537a0679-a675-47e3-c655-d49fcc5d17c3"
      },
      "source": [
        "it=[i for i in range(NB_EPOCH)]\n",
        "plt.plot(it, acc_list2, color=\"r\", linestyle=\"-\", marker=\"^\", linewidth=1)\n",
        "plt.xlabel(\"iter\")\n",
        "plt.ylabel(\"acc\")\n",
        "plt.show()"
      ],
      "execution_count": 27,
      "outputs": [
        {
          "output_type": "display_data",
          "data": {
            "image/png": "[encoded data removed]",
            "text/plain": [
              "<Figure size 432x288 with 1 Axes>"
            ]
          },
          "metadata": {
            "tags": []
          }
        }
      ]
    },
    {
      "cell_type": "code",
      "metadata": {
        "id": "tiWnI6LFZIYy",
        "colab_type": "code",
        "colab": {
          "base_uri": "https://localhost:8080/",
          "height": 278
        },
        "outputId": "e981de05-f6b0-4a31-bf82-42eb47bb6d55"
      },
      "source": [
        "it=[i for i in range(NB_EPOCH)]\n",
        "plt.plot(it, acc_list0, color=\"r\", linestyle=\"-\", linewidth=1,label='linear')\n",
        "plt.plot(it, acc_list1, color=\"b\", linestyle=\"-\", linewidth=1,label='single hidden')\n",
        "plt.plot(it, acc_list2, color=\"g\", linestyle=\"-\", linewidth=1,label='two hidden')\n",
        "plt.xlabel(\"iter\")\n",
        "plt.ylabel(\"acc\")\n",
        "plt.show()"
      ],
      "execution_count": 28,
      "outputs": [
        {
          "output_type": "display_data",
          "data": {
            "image/png": "[encoded data removed]",
            "text/plain": [
              "<Figure size 432x288 with 1 Axes>"
            ]
          },
          "metadata": {
            "tags": []
          }
        }
      ]
    },
    {
      "cell_type": "code",
      "metadata": {
        "id": "GAcJWKiNfZ_w",
        "colab_type": "code",
        "colab": {}
      },
      "source": [
        "def para_training(params: Parameters, forward_and_backward, train_x, train_y, dev_x, dev_y, batch_size, learning_rate, nb_epochs):#@\n",
        "    assert isinstance(params, Parameters)\n",
        "    step = 0\n",
        "    best_acc = 0\n",
        "    for epoch in tqdm(range(nb_epochs)):\n",
        "        train_loss = []\n",
        "        lr = learning_rate\n",
        "        for i in range(0, len(train_x), batch_size):\n",
        "            batch_x = train_x[i:i+batch_size]\n",
        "            batch_y = train_y[i:i+batch_size]\n",
        "\n",
        "            loss, probs = forward_and_backward(batch_x, batch_y, params)\n",
        "            params.apply_grad(lr)\n",
        "\n",
        "            train_loss.append(loss)\n",
        "            step += 1\n",
        "\n",
        "        accs = []\n",
        "        for i in range(0, len(dev_x), batch_size):\n",
        "            batch_x = dev_x[i:i+batch_size]\n",
        "            batch_y = dev_y[i:i+batch_size]\n",
        "\n",
        "            loss, probs = forward_and_backward(batch_x, batch_y, params, grad=False)\n",
        "            pred_y = probs.argmax(axis=1)\n",
        "            accs.append(pred_y == batch_y)\n",
        "        acc = np.mean(accs) * 100\n",
        "        if acc > best_acc:\n",
        "            best_acc = acc\n",
        "    return best_acc"
      ],
      "execution_count": 0,
      "outputs": []
    },
    {
      "cell_type": "code",
      "metadata": {
        "id": "wjpeyjRpd5L-",
        "colab_type": "code",
        "colab": {
          "base_uri": "https://localhost:8080/",
          "height": 433
        },
        "outputId": "576c9fcc-bd65-44a6-e976-2a78c37e1cd7"
      },
      "source": [
        "BS_list = [20,50]\n",
        "LR_list = [0.001,0.005]\n",
        "NB_EPOCH_list = [5,10]\n",
        "listpara = [0,0,0,0]\n",
        "best_acc = 0\n",
        "for b in BS_list:\n",
        "  for l in LR_list:\n",
        "    for n in NB_EPOCH_list:\n",
        "      acc = para_training(linear_classifier, linear_classifier_forward_and_backward, train_x, train_y, dev_x, dev_y, b, l, n)\n",
        "      if acc > best_acc:\n",
        "        best_acc =acc\n",
        "        listpara[0] = b\n",
        "        listpara[1] = l\n",
        "        listpara[2] = n\n",
        "        listpara[3] = 0\n",
        "      acc = para_training(mlp_single_hidden, mlp_single_hidden_forward_and_backward, train_x, train_y, dev_x, dev_y, b, l, n)\n",
        "      if acc > best_acc:\n",
        "        best_acc =acc\n",
        "        listpara[0] = b\n",
        "        listpara[1] = l\n",
        "        listpara[2] = n\n",
        "        listpara[3] = 1\n",
        "      acc = para_training(mlp_two_hidden, mlp_two_hidden_forward_and_backward, train_x, train_y, dev_x, dev_y, b, l, n)\n",
        "      if acc > best_acc:\n",
        "        best_acc =acc\n",
        "        listpara[0] = b\n",
        "        listpara[1] = l\n",
        "        listpara[2] = n\n",
        "        listpara[3] = 2\n",
        "print(listpara)\n",
        "\n"
      ],
      "execution_count": 37,
      "outputs": [
        {
          "output_type": "stream",
          "text": [
            "100%|| 5/5 [00:03<00:00,  1.29it/s]\n",
            "100%|| 5/5 [01:28<00:00, 17.80s/it]\n",
            "100%|| 5/5 [02:22<00:00, 28.56s/it]\n",
            "100%|| 10/10 [00:07<00:00,  1.30it/s]\n",
            "100%|| 10/10 [02:57<00:00, 17.65s/it]\n",
            "100%|| 10/10 [04:46<00:00, 28.57s/it]\n",
            "100%|| 5/5 [00:04<00:00,  1.23it/s]\n",
            "100%|| 5/5 [01:28<00:00, 17.55s/it]\n",
            "100%|| 5/5 [02:22<00:00, 28.60s/it]\n",
            "100%|| 10/10 [00:07<00:00,  1.27it/s]\n",
            "100%|| 10/10 [02:54<00:00, 17.44s/it]\n",
            "100%|| 10/10 [04:46<00:00, 28.52s/it]\n",
            "100%|| 5/5 [00:04<00:00,  1.15it/s]\n",
            "100%|| 5/5 [00:45<00:00,  9.19s/it]\n",
            "100%|| 5/5 [01:14<00:00, 14.80s/it]\n",
            "100%|| 10/10 [00:08<00:00,  1.15it/s]\n",
            "100%|| 10/10 [01:33<00:00,  9.23s/it]\n",
            "100%|| 10/10 [02:29<00:00, 14.87s/it]\n",
            "100%|| 5/5 [00:04<00:00,  1.11it/s]\n",
            "100%|| 5/5 [00:47<00:00,  9.37s/it]\n",
            "100%|| 5/5 [01:15<00:00, 15.09s/it]\n",
            "100%|| 10/10 [00:08<00:00,  1.17it/s]\n",
            "100%|| 10/10 [01:31<00:00,  9.12s/it]\n",
            "100%|| 10/10 [02:28<00:00, 14.83s/it]"
          ],
          "name": "stderr"
        },
        {
          "output_type": "stream",
          "text": [
            "[20, 0.001, 5, 1]\n"
          ],
          "name": "stdout"
        },
        {
          "output_type": "stream",
          "text": [
            "\n"
          ],
          "name": "stderr"
        }
      ]
    },
    {
      "cell_type": "markdown",
      "metadata": {
        "id": "kyc6MtXjtAL5",
        "colab_type": "text"
      },
      "source": [
        "When the batch size is 20, learning rate is 0.001 and the epoch is  5 , the accuracy of single hidden layer is the best"
      ]
    },
    {
      "cell_type": "code",
      "metadata": {
        "id": "gvHIY7ycfZMp",
        "colab_type": "code",
        "colab": {
          "base_uri": "https://localhost:8080/",
          "height": 395
        },
        "outputId": "fe71d453-459c-48d4-971d-dba3e8000efe"
      },
      "source": [
        "acc_list4 =[]\n",
        "if listpara[3] ==0:\n",
        "  acc_list4 = main_training(mlp_two_hidden, mlp_two_hidden_forward_and_backward, train_x, train_y, dev_x, dev_y, listpara[0], listpara[1], listpara[2],acc_list4)\n",
        "if listpara[3] ==1:\n",
        "  acc_list4 = main_training(mlp_two_hidden, mlp_two_hidden_forward_and_backward, train_x, train_y, dev_x, dev_y, listpara[0], listpara[1], listpara[2],acc_list4)\n",
        "if listpara[3] ==2:\n",
        "  acc_list4 = main_training(mlp_two_hidden, mlp_two_hidden_forward_and_backward, train_x, train_y, dev_x, dev_y, listpara[0], listpara[1], listpara[2],acc_list4)\n",
        "it=[i for i in range(listpara[2])]\n",
        "plt.plot(it, acc_list4, color=\"r\", linestyle=\"-\", linewidth=1,label='best')\n",
        "plt.xlabel(\"iter\")\n",
        "plt.ylabel(\"acc\")\n",
        "plt.show()"
      ],
      "execution_count": 40,
      "outputs": [
        {
          "output_type": "stream",
          "text": [
            " 20%|| 1/5 [00:28<01:55, 28.84s/it]"
          ],
          "name": "stderr"
        },
        {
          "output_type": "stream",
          "text": [
            "epoch 0 train loss = 0.001 dev accuracy = 98.17%\n"
          ],
          "name": "stdout"
        },
        {
          "output_type": "stream",
          "text": [
            "\r 40%|| 2/5 [00:57<01:26, 28.87s/it]"
          ],
          "name": "stderr"
        },
        {
          "output_type": "stream",
          "text": [
            "epoch 1 train loss = 0.001 dev accuracy = 98.17%\n"
          ],
          "name": "stdout"
        },
        {
          "output_type": "stream",
          "text": [
            "\r 60%|| 3/5 [01:26<00:57, 28.92s/it]"
          ],
          "name": "stderr"
        },
        {
          "output_type": "stream",
          "text": [
            "epoch 2 train loss = 0.001 dev accuracy = 98.17%\n"
          ],
          "name": "stdout"
        },
        {
          "output_type": "stream",
          "text": [
            "\r 80%|| 4/5 [01:55<00:28, 28.83s/it]"
          ],
          "name": "stderr"
        },
        {
          "output_type": "stream",
          "text": [
            "epoch 3 train loss = 0.001 dev accuracy = 98.17%\n"
          ],
          "name": "stdout"
        },
        {
          "output_type": "stream",
          "text": [
            "\r100%|| 5/5 [02:24<00:00, 28.76s/it]"
          ],
          "name": "stderr"
        },
        {
          "output_type": "stream",
          "text": [
            "epoch 4 train loss = 0.001 dev accuracy = 98.17%\n",
            "best dev accuracy = 98.17%\n"
          ],
          "name": "stdout"
        },
        {
          "output_type": "stream",
          "text": [
            "\n"
          ],
          "name": "stderr"
        },
        {
          "output_type": "display_data",
          "data": {
            "image/png": "[encoded data removed]",
            "text/plain": [
              "<Figure size 432x288 with 1 Axes>"
            ]
          },
          "metadata": {
            "tags": []
          }
        }
      ]
    }
  ]
}