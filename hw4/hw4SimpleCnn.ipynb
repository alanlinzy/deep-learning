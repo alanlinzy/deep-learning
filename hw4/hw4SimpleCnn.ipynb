{
  "nbformat": 4,
  "nbformat_minor": 0,
  "metadata": {
    "colab": {
      "name": "hw4SimpleCnn.ipynb",
      "provenance": [],
      "machine_shape": "hm"
    },
    "kernelspec": {
      "name": "python3",
      "display_name": "Python 3"
    },
    "accelerator": "GPU"
  },
  "cells": [
    {
      "cell_type": "code",
      "metadata": {
        "id": "-CrF6VfSNdzW",
        "colab_type": "code",
        "outputId": "1f58b447-96b7-4bef-d7fd-ce675f307bc1",
        "colab": {
          "base_uri": "https://localhost:8080/",
          "height": 436
        }
      },
      "source": [
        "!wget https://www.dropbox.com/s/h1n73cw33no99mz/data.pth"
      ],
      "execution_count": 0,
      "outputs": [
        {
          "output_type": "stream",
          "text": [
            "--2020-03-20 15:13:33--  https://www.dropbox.com/s/h1n73cw33no99mz/data.pth\n",
            "Resolving www.dropbox.com (www.dropbox.com)... 162.125.9.1, 2620:100:601f:1::a27d:901\n",
            "Connecting to www.dropbox.com (www.dropbox.com)|162.125.9.1|:443... connected.\n",
            "HTTP request sent, awaiting response... 301 Moved Permanently\n",
            "Location: /s/raw/h1n73cw33no99mz/data.pth [following]\n",
            "--2020-03-20 15:13:33--  https://www.dropbox.com/s/raw/h1n73cw33no99mz/data.pth\n",
            "Reusing existing connection to www.dropbox.com:443.\n",
            "HTTP request sent, awaiting response... 302 Found\n",
            "Location: https://uc201693bb42369b11c9cee40ce1.dl.dropboxusercontent.com/cd/0/inline/A0Sum2UgcEP9R-yaqAHt9icPPs0p1wSWdH10OvFzhBRVgorCxCfjxOXZDzC7qfFzf0wfmJWTGdk6_mbovb0xm0FD-A0zKFGw9ernuDfRi178nM3x68QfoQDp76n_A9NnNCI/file# [following]\n",
            "--2020-03-20 15:13:33--  https://uc201693bb42369b11c9cee40ce1.dl.dropboxusercontent.com/cd/0/inline/A0Sum2UgcEP9R-yaqAHt9icPPs0p1wSWdH10OvFzhBRVgorCxCfjxOXZDzC7qfFzf0wfmJWTGdk6_mbovb0xm0FD-A0zKFGw9ernuDfRi178nM3x68QfoQDp76n_A9NnNCI/file\n",
            "Resolving uc201693bb42369b11c9cee40ce1.dl.dropboxusercontent.com (uc201693bb42369b11c9cee40ce1.dl.dropboxusercontent.com)... 162.125.9.6, 2620:100:601f:6::a27d:906\n",
            "Connecting to uc201693bb42369b11c9cee40ce1.dl.dropboxusercontent.com (uc201693bb42369b11c9cee40ce1.dl.dropboxusercontent.com)|162.125.9.6|:443... connected.\n",
            "HTTP request sent, awaiting response... 302 FOUND\n",
            "Location: /cd/0/inline2/A0SHiVDT-q4Krd6W0Z1btAHOkI6KNMl5UJpntdQBkLOmqHuaEYitSe6mXHKjYOUdXg2_FoOqLriIx-cZUJD8HZFDbJnVluByQ--1CqBGckL4tamJcG2WkvGuI9-3tPm7GxGekyAzNtFlzDadjTJ-PCQoFdnb3wFWha3rrg9tzSOQivrKF7XXlwMUIBv7XwN36UbV2G8ow1cNrq-AbUBsel-QeaaPBAbqdVEftVx401r_jrxMqlERjndEccUgKyowAHXsjynWeFCayHMKF4OSZYSUidm5-_sAsZOeFIL9r_XyUR44blQFDmr4GsdFVSnWP-4wCOpdUKzg3mk4BBmJ0JH3VGWMHgVFmDC6hGC0m6HgDg/file [following]\n",
            "--2020-03-20 15:13:34--  https://uc201693bb42369b11c9cee40ce1.dl.dropboxusercontent.com/cd/0/inline2/A0SHiVDT-q4Krd6W0Z1btAHOkI6KNMl5UJpntdQBkLOmqHuaEYitSe6mXHKjYOUdXg2_FoOqLriIx-cZUJD8HZFDbJnVluByQ--1CqBGckL4tamJcG2WkvGuI9-3tPm7GxGekyAzNtFlzDadjTJ-PCQoFdnb3wFWha3rrg9tzSOQivrKF7XXlwMUIBv7XwN36UbV2G8ow1cNrq-AbUBsel-QeaaPBAbqdVEftVx401r_jrxMqlERjndEccUgKyowAHXsjynWeFCayHMKF4OSZYSUidm5-_sAsZOeFIL9r_XyUR44blQFDmr4GsdFVSnWP-4wCOpdUKzg3mk4BBmJ0JH3VGWMHgVFmDC6hGC0m6HgDg/file\n",
            "Reusing existing connection to uc201693bb42369b11c9cee40ce1.dl.dropboxusercontent.com:443.\n",
            "HTTP request sent, awaiting response... 200 OK\n",
            "Length: 266735560 (254M) [application/octet-stream]\n",
            "Saving to: ‘data.pth.2’\n",
            "\n",
            "data.pth.2          100%[===================>] 254.38M  35.2MB/s    in 7.2s    \n",
            "\n",
            "2020-03-20 15:13:42 (35.1 MB/s) - ‘data.pth.2’ saved [266735560/266735560]\n",
            "\n"
          ],
          "name": "stdout"
        }
      ]
    },
    {
      "cell_type": "code",
      "metadata": {
        "id": "nYSQ_r4ZNoj6",
        "colab_type": "code",
        "colab": {}
      },
      "source": [
        "import torch\n",
        "import torch.nn as nn\n",
        "import torch.nn.functional as F\n",
        "import torch.optim as optim\n",
        "from torchvision import datasets, transforms\n",
        "import numpy as np\n",
        "import matplotlib.pyplot as plt\n",
        "from torch.autograd import Variable"
      ],
      "execution_count": 0,
      "outputs": []
    },
    {
      "cell_type": "code",
      "metadata": {
        "id": "rPFKsQwsNpg2",
        "colab_type": "code",
        "outputId": "c21dbf8c-60ae-45d3-ca24-1d441b414cf2",
        "colab": {
          "base_uri": "https://localhost:8080/",
          "height": 66
        }
      },
      "source": [
        "train_x, train_y, dev_x, dev_y, test_x = torch.load('data.pth')\n",
        "\n",
        "print('Training size:', train_x.shape, train_y.shape)\n",
        "print('Development size:', dev_x.shape, dev_y.shape)\n",
        "print('Test size:', test_x.shape)"
      ],
      "execution_count": 0,
      "outputs": [
        {
          "output_type": "stream",
          "text": [
            "Training size: (45000, 3, 32, 32) (45000,)\n",
            "Development size: (5000, 3, 32, 32) (5000,)\n",
            "Test size: (10000, 3, 32, 32)\n"
          ],
          "name": "stdout"
        }
      ]
    },
    {
      "cell_type": "code",
      "metadata": {
        "id": "4UUcCCnDNtLd",
        "colab_type": "code",
        "outputId": "dae2ff29-638c-4dee-de97-89b2544963dd",
        "colab": {
          "base_uri": "https://localhost:8080/",
          "height": 282
        }
      },
      "source": [
        "import random\n",
        "random.seed(0)\n",
        "sample_num =random.randint(1,len(train_x))\n",
        "image = train_x[sample_num]\n",
        "image_ = Variable(torch.from_numpy(image))\n",
        "image_ = torch.unsqueeze(image_.permute(1, 2, 0), 0)\n",
        "plt.imshow(image_.detach().cpu().numpy().squeeze())"
      ],
      "execution_count": 0,
      "outputs": [
        {
          "output_type": "execute_result",
          "data": {
            "text/plain": [
              "<matplotlib.image.AxesImage at 0x7f33998b6e10>"
            ]
          },
          "metadata": {
            "tags": []
          },
          "execution_count": 32
        },
        {
          "output_type": "display_data",
          "data": {
            "image/png": "[encoded data removed]",
            "text/plain": [
              "<Figure size 432x288 with 1 Axes>"
            ]
          },
          "metadata": {
            "tags": []
          }
        }
      ]
    },
    {
      "cell_type": "code",
      "metadata": {
        "id": "Q0Au_1E-Nyzu",
        "colab_type": "code",
        "colab": {}
      },
      "source": [
        "def normalize_stats_image_by_image(images):\n",
        "  mean = images.mean(axis=(1,2), keepdims=True)\n",
        "  stdev = images.std(axis=(1,2), keepdims=True)\n",
        "  return (images - mean) / (images.max() - images.min())\n",
        "  \n",
        "train_images = normalize_stats_image_by_image(train_x)\n",
        "dev_images = normalize_stats_image_by_image(dev_x)\n",
        "test_images = normalize_stats_image_by_image(test_x)"
      ],
      "execution_count": 0,
      "outputs": []
    },
    {
      "cell_type": "code",
      "metadata": {
        "id": "xxsWn2zPN2ZW",
        "colab_type": "code",
        "outputId": "859715fe-7c54-4033-83e8-babc1858ffc3",
        "colab": {
          "base_uri": "https://localhost:8080/",
          "height": 33
        }
      },
      "source": [
        "trx = Variable(torch.from_numpy(train_images))\n",
        "dx = Variable(torch.from_numpy(dev_images))\n",
        "tex = Variable(torch.from_numpy(test_images))\n",
        "print(trx.shape)"
      ],
      "execution_count": 0,
      "outputs": [
        {
          "output_type": "stream",
          "text": [
            "torch.Size([45000, 3, 32, 32])\n"
          ],
          "name": "stdout"
        }
      ]
    },
    {
      "cell_type": "code",
      "metadata": {
        "id": "nqsstZZqN7a9",
        "colab_type": "code",
        "colab": {}
      },
      "source": [
        "torch.cuda.is_available()\n",
        "torch.cuda.empty_cache() "
      ],
      "execution_count": 0,
      "outputs": []
    },
    {
      "cell_type": "code",
      "metadata": {
        "id": "xXSRTPDgN-Dm",
        "colab_type": "code",
        "colab": {}
      },
      "source": [
        "\n",
        "class Net(nn.Module):\n",
        "    def __init__(self):\n",
        "        super(Net, self).__init__()\n",
        "        self.conv1 = nn.Conv2d(3, 32, 3)#输入3通道，输出6通道，kernelsize=5\n",
        "        #通过stride可以定义每次卷积移动的步长\n",
        "        self.pool = nn.MaxPool2d(2, 2)\n",
        "        #通过池化对信息进行筛选过滤\n",
        "        self.conv2 = nn.Conv2d(32, 64, 3)\n",
        "        self.pool = nn.MaxPool2d(2, 2)\n",
        "        self.conv3 = nn.Conv2d(64, 256, 3)\n",
        "        self.pool = nn.MaxPool2d(2, 2)\n",
        "\n",
        "        #self.fc0 = nn.Linear(16 *5*5,10)\n",
        "        \n",
        "        #也可以直接进行输出，不用全连接层\n",
        "        self.fc1 = nn.Linear(1024,512)\n",
        "        self.fc2 = nn.Linear(512,256)\n",
        "        self.fc3 = nn.Linear(256, 100)\n",
        " \n",
        "    def forward(self, x):\n",
        "        #print(0,x.size())\n",
        "        x = self.pool(F.relu(self.conv1(x)))\n",
        "        #print(1,x.size())\n",
        "        x = self.pool(F.relu(self.conv2(x)))\n",
        "        x = self.pool(F.relu(self.conv3(x)))\n",
        "\n",
        "        #print(2,x.size())\n",
        "        # fully connect\n",
        "        x = x.view(x.size(0), -1) \n",
        "       # x = self.fc0(x)\n",
        "       # print(3,x.size())\n",
        "        x = F.relu(self.fc1(x))\n",
        "       # print(4,x.size())\n",
        "        x = F.relu(self.fc2(x))\n",
        "       # print(5,x.size())\n",
        "        x = self.fc3(x)\n",
        "       # print(6,x.size())\n",
        "        return x\n",
        "    \n",
        "\n"
      ],
      "execution_count": 0,
      "outputs": []
    },
    {
      "cell_type": "code",
      "metadata": {
        "id": "T3eGxzqgO044",
        "colab_type": "code",
        "outputId": "d3c3495f-906c-477e-daa9-6a12ee417f9d",
        "colab": {
          "base_uri": "https://localhost:8080/",
          "height": 166
        }
      },
      "source": [
        "model = Net()\n",
        "model.cuda()"
      ],
      "execution_count": 0,
      "outputs": [
        {
          "output_type": "execute_result",
          "data": {
            "text/plain": [
              "Net(\n",
              "  (conv1): Conv2d(3, 32, kernel_size=(3, 3), stride=(1, 1))\n",
              "  (pool): MaxPool2d(kernel_size=2, stride=2, padding=0, dilation=1, ceil_mode=False)\n",
              "  (conv2): Conv2d(32, 64, kernel_size=(3, 3), stride=(1, 1))\n",
              "  (conv3): Conv2d(64, 256, kernel_size=(3, 3), stride=(1, 1))\n",
              "  (fc1): Linear(in_features=1024, out_features=512, bias=True)\n",
              "  (fc2): Linear(in_features=512, out_features=256, bias=True)\n",
              "  (fc3): Linear(in_features=256, out_features=100, bias=True)\n",
              ")"
            ]
          },
          "metadata": {
            "tags": []
          },
          "execution_count": 37
        }
      ]
    },
    {
      "cell_type": "code",
      "metadata": {
        "id": "LsKWiLtjOYRm",
        "colab_type": "code",
        "colab": {}
      },
      "source": [
        "criterion = nn.CrossEntropyLoss()\n",
        "optimizer = optim.SGD(model.parameters(), lr=0.001, momentum=0.9)"
      ],
      "execution_count": 0,
      "outputs": []
    },
    {
      "cell_type": "code",
      "metadata": {
        "id": "VONuAjP1OuQ_",
        "colab_type": "code",
        "colab": {}
      },
      "source": [
        "def train_step(batch_size=128):\n",
        "  \n",
        "  model.train()\n",
        "\n",
        "  input_batch, label_batch = batch(batch_size, training=True)\n",
        "  #print(input_batch)\n",
        "  output_batch = model(input_batch)\n",
        "  #print(output_batch)\n",
        "  loss = F.cross_entropy(output_batch, label_batch)\n",
        "  train_loss = loss.item()\n",
        "  _, pred_batch = torch.max(output_batch, dim=1)\n",
        "  error_rate = 1.0 - (pred_batch == label_batch).float().mean()\n",
        "  #correct = pred_batch.eq(output_batch).cpu().sum()\n",
        "  #error_rate =1.0 - correct\n",
        "\n",
        "  optimizer.zero_grad()\n",
        "  loss.backward()\n",
        "  \n",
        "  optimizer.step()\n",
        "  \n",
        "  return train_loss, error_rate.item()#loss.item(), error_rate.item()"
      ],
      "execution_count": 0,
      "outputs": []
    },
    {
      "cell_type": "code",
      "metadata": {
        "id": "-VXclR84PIrz",
        "colab_type": "code",
        "colab": {}
      },
      "source": [
        "def val(batch_size=100):\n",
        "  \n",
        "  model.eval()\n",
        "  input_batch, label_batch = batch(batch_size, training=False)\n",
        "  output_batch = model(input_batch)\n",
        "\n",
        "  loss = criterion(output_batch, label_batch)\n",
        "  test_loss = loss.item()\n",
        "  #print(loss)\n",
        "  _, pred_batch = torch.max(output_batch, dim=1)\n",
        "  error_rate = 1.0 - (pred_batch == label_batch).float().mean()\n",
        "  #correct = pred_batch.eq(output_batch).cpu().sum()\n",
        "  #error_rate =1.0 - correct\n",
        "  return test_loss, error_rate.item() #loss.item(), error_rate.item()"
      ],
      "execution_count": 0,
      "outputs": []
    },
    {
      "cell_type": "code",
      "metadata": {
        "id": "wSI-5CBfPNFe",
        "colab_type": "code",
        "colab": {}
      },
      "source": [
        "def batch(batch_size, training=True):\n",
        "  \"\"\"Create a batch of examples.\n",
        "  \n",
        "  This creates a batch of input images and a batch of corresponding\n",
        "  ground-truth labels. We assume CUDA is available (with a GPU).\n",
        "  \n",
        "  Args:\n",
        "    batch_size: An integer.\n",
        "    training: A boolean. If True, grab examples from the training\n",
        "      set; otherwise, grab them from the validation set.\n",
        "  \n",
        "  Returns:\n",
        "    A tuple,\n",
        "    input_batch: A Variable of floats with shape\n",
        "      [batch_size, 1, height, width]\n",
        "    label_batch: A Variable of ints with shape\n",
        "      [batch_size].\n",
        "  \"\"\"\n",
        "  if training:\n",
        "    random_ind = np.random.choice(train_images.shape[0], size=batch_size, replace=False)\n",
        "    input_batch = train_images[random_ind]\n",
        "    label_batch = train_y[random_ind]\n",
        "  else:\n",
        "    input_batch = dev_images[:batch_size]\n",
        "    label_batch = dev_y[:batch_size]\n",
        "  \n",
        "  #input_batch = input_batch[:, np.newaxis, :, :]\n",
        "  \n",
        "  input_batch = torch.tensor(input_batch, requires_grad=False, device='cuda').type(torch.FloatTensor).cuda()\n",
        "  label_batch = torch.tensor(label_batch, requires_grad=False, device='cuda')\n",
        "  #print(input_batch.shape)\n",
        "  return input_batch, label_batch\n"
      ],
      "execution_count": 0,
      "outputs": []
    },
    {
      "cell_type": "code",
      "metadata": {
        "id": "jKKzMzCuPOv3",
        "colab_type": "code",
        "outputId": "a94ce909-eb05-4aeb-91d3-c0519c04fb5c",
        "colab": {
          "base_uri": "https://localhost:8080/",
          "height": 597
        }
      },
      "source": [
        "# Let's make sure we always start from scratch (that is,\n",
        "# without starting from parameters from a previous run).\n",
        "#for module in model.children():\n",
        "  #module.reset_parameters()\n",
        "\n",
        "info = []\n",
        "fig, ax = plt.subplots(2, 1, sharex=True)\n",
        "num_steps = 10000\n",
        "num_steps_per_val = 100\n",
        "best_val_err = 1.0\n",
        "for step in range(num_steps):\n",
        "  train_loss, train_err = train_step()\n",
        "  val_loss, val_err = val()\n",
        "  if val_err < best_val_err:\n",
        "    best_val_err = val_err\n",
        "    print('Step {:5d}: Obtained a best validation error of {:.3f}.'.format(step, best_val_err))\n",
        "  if step % num_steps_per_val == 0:\n",
        "    #print(val_loss)\n",
        "    info.append([step, train_loss, val_loss, train_err, val_err])\n",
        "    x, y11, y12, y21, y22 = zip(*info)\n",
        "    ax[0].plot(x, y11, x, y12)\n",
        "    ax[0].legend(['Train loss', 'Val loss'])\n",
        "    ax[1].plot(x, y21, x, y22)\n",
        "    ax[1].legend(['Train err', 'Val err'])\n",
        "    #ax[1].set_ylim([0.0, 0.25])\n",
        "    "
      ],
      "execution_count": 0,
      "outputs": [
        {
          "output_type": "stream",
          "text": [
            "Step     0: Obtained a best validation error of 0.970.\n",
            "Step   200: Obtained a best validation error of 0.960.\n",
            "Step   539: Obtained a best validation error of 0.950.\n",
            "Step   908: Obtained a best validation error of 0.940.\n",
            "Step  1044: Obtained a best validation error of 0.930.\n",
            "Step  1356: Obtained a best validation error of 0.920.\n",
            "Step  1362: Obtained a best validation error of 0.910.\n",
            "Step  1364: Obtained a best validation error of 0.900.\n",
            "Step  1706: Obtained a best validation error of 0.890.\n",
            "Step  3185: Obtained a best validation error of 0.880.\n",
            "Step  3186: Obtained a best validation error of 0.870.\n",
            "Step  4446: Obtained a best validation error of 0.860.\n",
            "Step  4625: Obtained a best validation error of 0.850.\n",
            "Step  4945: Obtained a best validation error of 0.840.\n",
            "Step  5005: Obtained a best validation error of 0.830.\n",
            "Step  5006: Obtained a best validation error of 0.820.\n",
            "Step  6530: Obtained a best validation error of 0.790.\n",
            "Step  9247: Obtained a best validation error of 0.770.\n",
            "Step  9689: Obtained a best validation error of 0.760.\n",
            "Step  9690: Obtained a best validation error of 0.750.\n"
          ],
          "name": "stdout"
        },
        {
          "output_type": "display_data",
          "data": {
            "image/png": "[encoded data removed]",
            "text/plain": [
              "<Figure size 432x288 with 2 Axes>"
            ]
          },
          "metadata": {
            "tags": []
          }
        }
      ]
    },
    {
      "cell_type": "code",
      "metadata": {
        "id": "kC8AHDZtOo44",
        "colab_type": "code",
        "colab": {}
      },
      "source": [
        "from typing import List\n",
        "def write_prediction(prediction: List[int], filename: str):\n",
        "    with open(filename, 'w') as fp:\n",
        "        print('Id,Category', file=fp)\n",
        "        for i, pred in enumerate(prediction):\n",
        "            print(f'{i},{pred}', file=fp)"
      ],
      "execution_count": 0,
      "outputs": []
    },
    {
      "cell_type": "code",
      "metadata": {
        "id": "Ith6mtstiLoq",
        "colab_type": "code",
        "colab": {}
      },
      "source": [
        "test = torch.tensor(test_images, requires_grad=False, device='cuda').type(torch.FloatTensor).cuda()\n",
        "outputs = model(test)\n",
        "_,prediction = torch.max(outputs.data, 1)\n",
        "write_prediction(prediction, 'output.csv')"
      ],
      "execution_count": 0,
      "outputs": []
    }
  ]
}