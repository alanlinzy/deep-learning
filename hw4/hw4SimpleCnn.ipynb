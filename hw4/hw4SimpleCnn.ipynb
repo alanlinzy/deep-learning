{
  "nbformat": 4,
  "nbformat_minor": 0,
  "metadata": {
    "colab": {
      "name": "hw4SimpleCnn.ipynb",
      "provenance": [],
      "collapsed_sections": [],
      "machine_shape": "hm"
    },
    "kernelspec": {
      "name": "python3",
      "display_name": "Python 3"
    },
    "accelerator": "GPU"
  },
  "cells": [
    {
      "cell_type": "code",
      "metadata": {
        "id": "-CrF6VfSNdzW",
        "colab_type": "code",
        "outputId": "36b3d374-128d-4695-ca6d-7da199387004",
        "colab": {
          "base_uri": "https://localhost:8080/",
          "height": 436
        }
      },
      "source": [
        "!wget https://www.dropbox.com/s/h1n73cw33no99mz/data.pth"
      ],
      "execution_count": 0,
      "outputs": [
        {
          "output_type": "stream",
          "text": [
            "--2020-03-23 23:48:58--  https://www.dropbox.com/s/h1n73cw33no99mz/data.pth\n",
            "Resolving www.dropbox.com (www.dropbox.com)... 162.125.9.1, 2620:100:601f:1::a27d:901\n",
            "Connecting to www.dropbox.com (www.dropbox.com)|162.125.9.1|:443... connected.\n",
            "HTTP request sent, awaiting response... 301 Moved Permanently\n",
            "Location: /s/raw/h1n73cw33no99mz/data.pth [following]\n",
            "--2020-03-23 23:48:58--  https://www.dropbox.com/s/raw/h1n73cw33no99mz/data.pth\n",
            "Reusing existing connection to www.dropbox.com:443.\n",
            "HTTP request sent, awaiting response... 302 Found\n",
            "Location: https://uc1fa70de76b4c469ac7c216b457.dl.dropboxusercontent.com/cd/0/inline/A0cDbvURlvXUMM0cRFanBnGOkqKQuJ7maBE2pMjRIetZHnf2uk9jvvg4P-iQTM6xzj3n0vaFcuRSjp2_xJ3GioEk9l-7zk3-Ms8gQDnt1lk0p0NPnTRql3MtlaeCDpB74-0/file# [following]\n",
            "--2020-03-23 23:48:58--  https://uc1fa70de76b4c469ac7c216b457.dl.dropboxusercontent.com/cd/0/inline/A0cDbvURlvXUMM0cRFanBnGOkqKQuJ7maBE2pMjRIetZHnf2uk9jvvg4P-iQTM6xzj3n0vaFcuRSjp2_xJ3GioEk9l-7zk3-Ms8gQDnt1lk0p0NPnTRql3MtlaeCDpB74-0/file\n",
            "Resolving uc1fa70de76b4c469ac7c216b457.dl.dropboxusercontent.com (uc1fa70de76b4c469ac7c216b457.dl.dropboxusercontent.com)... 162.125.8.6, 2620:100:601f:6::a27d:906\n",
            "Connecting to uc1fa70de76b4c469ac7c216b457.dl.dropboxusercontent.com (uc1fa70de76b4c469ac7c216b457.dl.dropboxusercontent.com)|162.125.8.6|:443... connected.\n",
            "HTTP request sent, awaiting response... 302 FOUND\n",
            "Location: /cd/0/inline2/A0cDy8KGRJ1fHiZCZHFSOWzd3V6ZY8BGDOee98PwZV0tWiHRm1kv9L8vNpv9Wcb-JMq104Fule_rpUTfL881gaUt-Nu-nlV1nEK5SymNCMv241QeDLoRbUg4DxnbEABkfR6f7YILH03lQbPoO8qFx8PXLbu70dBkvwVwjmwu6TxEWqPaZeqsoTCOaqQ9dp4veNDPQ0nI2ATMkyW6B0IjO2GDyj6teElwJE8u_Ywv2yNoNbtH0f9A7lOXvIPVeH16mp6LurFClnaBfGooKrbh9On_Q0Y60_pVoQx9hgaQtJtJN-Ngj6UYe4Xfb0si3kLcoReQJjX3cMOyVBNZVWBVTJQWMXOwfvCE14nM7qAQTNMEYQ/file [following]\n",
            "--2020-03-23 23:48:59--  https://uc1fa70de76b4c469ac7c216b457.dl.dropboxusercontent.com/cd/0/inline2/A0cDy8KGRJ1fHiZCZHFSOWzd3V6ZY8BGDOee98PwZV0tWiHRm1kv9L8vNpv9Wcb-JMq104Fule_rpUTfL881gaUt-Nu-nlV1nEK5SymNCMv241QeDLoRbUg4DxnbEABkfR6f7YILH03lQbPoO8qFx8PXLbu70dBkvwVwjmwu6TxEWqPaZeqsoTCOaqQ9dp4veNDPQ0nI2ATMkyW6B0IjO2GDyj6teElwJE8u_Ywv2yNoNbtH0f9A7lOXvIPVeH16mp6LurFClnaBfGooKrbh9On_Q0Y60_pVoQx9hgaQtJtJN-Ngj6UYe4Xfb0si3kLcoReQJjX3cMOyVBNZVWBVTJQWMXOwfvCE14nM7qAQTNMEYQ/file\n",
            "Reusing existing connection to uc1fa70de76b4c469ac7c216b457.dl.dropboxusercontent.com:443.\n",
            "HTTP request sent, awaiting response... 200 OK\n",
            "Length: 266735560 (254M) [application/octet-stream]\n",
            "Saving to: ‘data.pth’\n",
            "\n",
            "data.pth            100%[===================>] 254.38M  36.0MB/s    in 6.9s    \n",
            "\n",
            "2020-03-23 23:49:07 (36.8 MB/s) - ‘data.pth’ saved [266735560/266735560]\n",
            "\n"
          ],
          "name": "stdout"
        }
      ]
    },
    {
      "cell_type": "code",
      "metadata": {
        "id": "nYSQ_r4ZNoj6",
        "colab_type": "code",
        "colab": {}
      },
      "source": [
        "import torch\n",
        "import torch.nn as nn\n",
        "import torch.nn.functional as F\n",
        "import torch.optim as optim\n",
        "from torchvision import datasets, transforms\n",
        "import numpy as np\n",
        "import matplotlib.pyplot as plt\n",
        "from torch.autograd import Variable\n",
        "from PIL import Image\n",
        "import random\n",
        "random.seed(7)\n",
        "torch.manual_seed(7)\n",
        "torch.cuda.manual_seed(7)\n",
        "np.random.seed(7)\n",
        "torch.backends.cudnn.deterministic = True\n",
        "torch.backends.cudnn.benchmark = False"
      ],
      "execution_count": 0,
      "outputs": []
    },
    {
      "cell_type": "code",
      "metadata": {
        "id": "rPFKsQwsNpg2",
        "colab_type": "code",
        "outputId": "bac78bbb-9500-48fe-f590-f10595b54b10",
        "colab": {
          "base_uri": "https://localhost:8080/",
          "height": 66
        }
      },
      "source": [
        "train_x, train_y, dev_x, dev_y, test_x = torch.load('data.pth')\n",
        "print('Training size:', train_x.shape, train_y.shape)\n",
        "print('Development size:', dev_x.shape, dev_y.shape)\n",
        "print('Test size:', test_x.shape)"
      ],
      "execution_count": 0,
      "outputs": [
        {
          "output_type": "stream",
          "text": [
            "Training size: (45000, 3, 32, 32) (45000,)\n",
            "Development size: (5000, 3, 32, 32) (5000,)\n",
            "Test size: (10000, 3, 32, 32)\n"
          ],
          "name": "stdout"
        }
      ]
    },
    {
      "cell_type": "code",
      "metadata": {
        "id": "hdK4fXot8BVF",
        "colab_type": "code",
        "colab": {}
      },
      "source": [
        "#define the data augmentation\n",
        "img_tran = transforms.Compose([\n",
        " \t transforms.RandomHorizontalFlip(p=0.5),\n",
        "\t transforms.RandomVerticalFlip(p=0.5)\n",
        "   \n",
        "])\n",
        "img_tran_train = transforms.Compose([\n",
        " \t transforms.RandomHorizontalFlip(p=0.5),\n",
        "\t transforms.RandomVerticalFlip(p=0.5),\n",
        "   transforms.ToTensor()\n",
        "])"
      ],
      "execution_count": 0,
      "outputs": []
    },
    {
      "cell_type": "code",
      "metadata": {
        "id": "RMzxRygeACKu",
        "colab_type": "code",
        "colab": {}
      },
      "source": [
        "# filp the trianing data\n",
        "for i in range(len(train_x)):\n",
        "  if random.randint(0,1):\n",
        "    image = Variable(torch.from_numpy(train_x[i]))\n",
        "    image = torch.unsqueeze(image.permute(1, 2, 0), 0)\n",
        "    image  = image.detach().cpu().numpy().squeeze()   \n",
        "    img = Image.fromarray(image.astype('uint8')).convert('RGB')\n",
        "    image = img_tran_train(img)\n",
        "    train_x[i] = np.array(image)"
      ],
      "execution_count": 0,
      "outputs": []
    },
    {
      "cell_type": "code",
      "metadata": {
        "id": "4UUcCCnDNtLd",
        "colab_type": "code",
        "outputId": "2012f878-a7fc-4468-85bc-18a0cb8d5c10",
        "colab": {
          "base_uri": "https://localhost:8080/",
          "height": 282
        }
      },
      "source": [
        "sample_num =random.randint(1,len(train_x))\n",
        "image = train_x[sample_num]\n",
        "image_ = Variable(torch.from_numpy(image))\n",
        "image_ = torch.unsqueeze(image_.permute(1, 2, 0), 0)\n",
        "image  = image_.detach().cpu().numpy().squeeze()\n",
        "img = Image.fromarray(image.astype('uint8')).convert('RGB')\n",
        "image = img_tran(img)\n",
        "plt.imshow(image)"
      ],
      "execution_count": 0,
      "outputs": [
        {
          "output_type": "execute_result",
          "data": {
            "text/plain": [
              "<matplotlib.image.AxesImage at 0x7f43312847b8>"
            ]
          },
          "metadata": {
            "tags": []
          },
          "execution_count": 6
        },
        {
          "output_type": "display_data",
          "data": {
            "image/png": "[encoded data removed]",
            "text/plain": [
              "<Figure size 432x288 with 1 Axes>"
            ]
          },
          "metadata": {
            "tags": []
          }
        }
      ]
    },
    {
      "cell_type": "code",
      "metadata": {
        "id": "Q0Au_1E-Nyzu",
        "colab_type": "code",
        "colab": {}
      },
      "source": [
        "def normalize_stats_image_by_image(images):\n",
        "  mean = images.mean(axis=(1,2), keepdims=True)\n",
        "  stdev = images.std(axis=(1,2), keepdims=True)\n",
        "  return (images - mean) / (images.max() - images.min())\n",
        "  \n",
        "train_images = normalize_stats_image_by_image(train_x)\n",
        "dev_images = normalize_stats_image_by_image(dev_x)\n",
        "test_images = normalize_stats_image_by_image(test_x)"
      ],
      "execution_count": 0,
      "outputs": []
    },
    {
      "cell_type": "code",
      "metadata": {
        "id": "xxsWn2zPN2ZW",
        "colab_type": "code",
        "outputId": "5b09515b-1081-4c48-c3ac-62e0bd3d23d3",
        "colab": {
          "base_uri": "https://localhost:8080/",
          "height": 33
        }
      },
      "source": [
        "trx = Variable(torch.from_numpy(train_images))\n",
        "dx = Variable(torch.from_numpy(dev_images))\n",
        "tex = Variable(torch.from_numpy(test_images))\n",
        "print(trx.shape)"
      ],
      "execution_count": 0,
      "outputs": [
        {
          "output_type": "stream",
          "text": [
            "torch.Size([45000, 3, 32, 32])\n"
          ],
          "name": "stdout"
        }
      ]
    },
    {
      "cell_type": "code",
      "metadata": {
        "id": "nqsstZZqN7a9",
        "colab_type": "code",
        "colab": {}
      },
      "source": [
        "torch.cuda.is_available()\n",
        "torch.cuda.empty_cache() "
      ],
      "execution_count": 0,
      "outputs": []
    },
    {
      "cell_type": "code",
      "metadata": {
        "id": "xXSRTPDgN-Dm",
        "colab_type": "code",
        "colab": {}
      },
      "source": [
        "\n",
        "class Net(nn.Module):\n",
        "    def __init__(self):\n",
        "        super(Net, self).__init__()\n",
        "        self.conv1 = nn.Conv2d(3, 32, 3)\n",
        "        self.pool = nn.MaxPool2d(2, 2)\n",
        "        self.conv2 = nn.Conv2d(32, 64, 3)\n",
        "        #self.pool = nn.MaxPool2d(2, 2)\n",
        "        self.conv3 = nn.Conv2d(64, 256, 3)\n",
        "        #self.pool = nn.MaxPool2d(2, 2)\n",
        "\n",
        "        self.dropout1 = nn.Dropout(p=0.1)\n",
        "        self.dropout2 = nn.Dropout(p=0.2)\n",
        " \n",
        "        #self.fc0 = nn.Linear(16 *5*5,10)\n",
        "        self.fc1 = nn.Linear(1024,512)\n",
        "        self.fc2 = nn.Linear(512,256)\n",
        "        self.fc3 = nn.Linear(256, 100)\n",
        " \n",
        "    def forward(self, x):\n",
        "        #print(0,x.size())\n",
        "        x = self.pool(F.relu(self.conv1(x)))\n",
        "        x = self.dropout1(x) # add dropout layer\n",
        "        #print(1,x.size())\n",
        "        x = self.pool(F.relu(self.conv2(x)))\n",
        "        x = self.dropout2(x)\n",
        "        x = self.pool(F.relu(self.conv3(x)))\n",
        "\n",
        "        #print(2,x.size())\n",
        "        # fully connect\n",
        "        x = x.view(x.size(0), -1) \n",
        "       # x = self.fc0(x)\n",
        "       # print(3,x.size())\n",
        "        x = F.relu(self.fc1(x))\n",
        "       # print(4,x.size())\n",
        "        x = F.relu(self.fc2(x))\n",
        "       # print(5,x.size())\n",
        "        x = self.fc3(x)\n",
        "       # print(6,x.size())\n",
        "        return x\n",
        "    \n",
        "\n"
      ],
      "execution_count": 0,
      "outputs": []
    },
    {
      "cell_type": "code",
      "metadata": {
        "id": "T3eGxzqgO044",
        "colab_type": "code",
        "outputId": "299adb02-08cd-45ff-949b-1ea1a6455ab6",
        "colab": {
          "base_uri": "https://localhost:8080/",
          "height": 200
        }
      },
      "source": [
        "model = Net()\n",
        "model.cuda()"
      ],
      "execution_count": 0,
      "outputs": [
        {
          "output_type": "execute_result",
          "data": {
            "text/plain": [
              "Net(\n",
              "  (conv1): Conv2d(3, 32, kernel_size=(3, 3), stride=(1, 1))\n",
              "  (pool): MaxPool2d(kernel_size=2, stride=2, padding=0, dilation=1, ceil_mode=False)\n",
              "  (conv2): Conv2d(32, 64, kernel_size=(3, 3), stride=(1, 1))\n",
              "  (conv3): Conv2d(64, 256, kernel_size=(3, 3), stride=(1, 1))\n",
              "  (dropout1): Dropout(p=0.1, inplace=False)\n",
              "  (dropout2): Dropout(p=0.2, inplace=False)\n",
              "  (fc1): Linear(in_features=1024, out_features=512, bias=True)\n",
              "  (fc2): Linear(in_features=512, out_features=256, bias=True)\n",
              "  (fc3): Linear(in_features=256, out_features=100, bias=True)\n",
              ")"
            ]
          },
          "metadata": {
            "tags": []
          },
          "execution_count": 11
        }
      ]
    },
    {
      "cell_type": "code",
      "metadata": {
        "id": "LsKWiLtjOYRm",
        "colab_type": "code",
        "colab": {}
      },
      "source": [
        "criterion = nn.CrossEntropyLoss()\n",
        "optimizer = optim.Adam(model.parameters(), lr=0.001)"
      ],
      "execution_count": 0,
      "outputs": []
    },
    {
      "cell_type": "code",
      "metadata": {
        "id": "VONuAjP1OuQ_",
        "colab_type": "code",
        "colab": {}
      },
      "source": [
        "def train_step(batch_size=128):\n",
        "  \n",
        "  model.train()\n",
        "\n",
        "  input_batch, label_batch = batch(batch_size, training=True)\n",
        "  #print(input_batch)\n",
        "  output_batch = model(input_batch)\n",
        "  #print(output_batch)\n",
        "  loss = F.cross_entropy(output_batch, label_batch)\n",
        "  train_loss = loss.item()\n",
        "  _, pred_batch = torch.max(output_batch, dim=1)\n",
        "  error_rate = 1.0 - (pred_batch == label_batch).float().mean()\n",
        "  #correct = pred_batch.eq(output_batch).cpu().sum()\n",
        "  #error_rate =1.0 - correct\n",
        "\n",
        "  optimizer.zero_grad()\n",
        "  loss.backward()\n",
        "  \n",
        "  optimizer.step()\n",
        "  \n",
        "  return train_loss, error_rate.item()#loss.item(), error_rate.item()"
      ],
      "execution_count": 0,
      "outputs": []
    },
    {
      "cell_type": "code",
      "metadata": {
        "id": "-VXclR84PIrz",
        "colab_type": "code",
        "colab": {}
      },
      "source": [
        "def val(batch_size=100):\n",
        "  \n",
        "  model.eval()\n",
        "  input_batch, label_batch = batch(batch_size, training=False)\n",
        "  output_batch = model(input_batch)\n",
        "\n",
        "  loss = criterion(output_batch, label_batch)\n",
        "  test_loss = loss.item()\n",
        "  #print(loss)\n",
        "  _, pred_batch = torch.max(output_batch, dim=1)\n",
        "  error_rate = 1.0 - (pred_batch == label_batch).float().mean()\n",
        "  #correct = pred_batch.eq(output_batch).cpu().sum()\n",
        "  #error_rate =1.0 - correct\n",
        "  return test_loss, error_rate.item() #loss.item(), error_rate.item()"
      ],
      "execution_count": 0,
      "outputs": []
    },
    {
      "cell_type": "code",
      "metadata": {
        "id": "wSI-5CBfPNFe",
        "colab_type": "code",
        "colab": {}
      },
      "source": [
        "def batch(batch_size, training=True):\n",
        "  \"\"\"Create a batch of examples.\n",
        "  \n",
        "  This creates a batch of input images and a batch of corresponding\n",
        "  ground-truth labels. We assume CUDA is available (with a GPU).\n",
        "  \n",
        "  Args:\n",
        "    batch_size: An integer.\n",
        "    training: A boolean. If True, grab examples from the training\n",
        "      set; otherwise, grab them from the validation set.\n",
        "  \n",
        "  Returns:\n",
        "    A tuple,\n",
        "    input_batch: A Variable of floats with shape\n",
        "      [batch_size, 1, height, width]\n",
        "    label_batch: A Variable of ints with shape\n",
        "      [batch_size].\n",
        "  \"\"\"\n",
        "  if training:\n",
        "    random_ind = np.random.choice(train_images.shape[0], size=batch_size, replace=False)\n",
        "    input_batch = train_images[random_ind]\n",
        "    label_batch = train_y[random_ind]\n",
        "  else:\n",
        "    input_batch = dev_images[:batch_size]\n",
        "    label_batch = dev_y[:batch_size]\n",
        "  \n",
        "  #input_batch = input_batch[:, np.newaxis, :, :]\n",
        "  \n",
        "  input_batch = torch.tensor(input_batch, requires_grad=False, device='cuda').type(torch.FloatTensor).cuda()\n",
        "  label_batch = torch.tensor(label_batch, requires_grad=False, device='cuda')\n",
        "  #print(input_batch.shape)\n",
        "  return input_batch, label_batch\n"
      ],
      "execution_count": 0,
      "outputs": []
    },
    {
      "cell_type": "code",
      "metadata": {
        "id": "jKKzMzCuPOv3",
        "colab_type": "code",
        "outputId": "a7ce864f-ebb3-44c6-bb4b-ea413ee5d6e2",
        "colab": {
          "base_uri": "https://localhost:8080/",
          "height": 864
        }
      },
      "source": [
        "# Let's make sure we always start from scratch (that is,\n",
        "# without starting from parameters from a previous run).\n",
        "#for module in model.children():\n",
        " # module.reset_parameters()\n",
        "\n",
        "info = []\n",
        "fig, ax = plt.subplots(2, 1, sharex=True)\n",
        "num_steps = 10000\n",
        "num_steps_per_val = 100\n",
        "best_val_err = 1.0\n",
        "for step in range(num_steps):\n",
        "  train_loss, train_err = train_step()\n",
        "  val_loss, val_err = val()\n",
        "  if val_err < best_val_err:\n",
        "    best_val_err = val_err\n",
        "    print('Step {:5d}: Obtained a best validation error of {:.3f}.'.format(step, best_val_err))\n",
        "  if step % num_steps_per_val == 0:\n",
        "    #print(val_loss)\n",
        "    info.append([step, train_loss, val_loss, train_err, val_err])\n",
        "    x, y11, y12, y21, y22 = zip(*info)\n",
        "    ax[0].plot(x, y11, x, y12)\n",
        "    ax[0].legend(['Train loss', 'Val loss'])\n",
        "    ax[1].plot(x, y21, x, y22)\n",
        "    ax[1].legend(['Train err', 'Val err'])\n",
        "    #ax[1].set_ylim([0.0, 0.25])\n",
        "    "
      ],
      "execution_count": 0,
      "outputs": [
        {
          "output_type": "stream",
          "text": [
            "Step    15: Obtained a best validation error of 0.990.\n",
            "Step    45: Obtained a best validation error of 0.980.\n",
            "Step    57: Obtained a best validation error of 0.970.\n",
            "Step    79: Obtained a best validation error of 0.960.\n",
            "Step   116: Obtained a best validation error of 0.950.\n",
            "Step   119: Obtained a best validation error of 0.940.\n",
            "Step   125: Obtained a best validation error of 0.930.\n",
            "Step   127: Obtained a best validation error of 0.920.\n",
            "Step   136: Obtained a best validation error of 0.910.\n",
            "Step   399: Obtained a best validation error of 0.890.\n",
            "Step   400: Obtained a best validation error of 0.860.\n",
            "Step   443: Obtained a best validation error of 0.850.\n",
            "Step   451: Obtained a best validation error of 0.840.\n",
            "Step   472: Obtained a best validation error of 0.820.\n",
            "Step   500: Obtained a best validation error of 0.810.\n",
            "Step   745: Obtained a best validation error of 0.800.\n",
            "Step   757: Obtained a best validation error of 0.790.\n",
            "Step   758: Obtained a best validation error of 0.780.\n",
            "Step   760: Obtained a best validation error of 0.770.\n",
            "Step   761: Obtained a best validation error of 0.760.\n",
            "Step   827: Obtained a best validation error of 0.750.\n",
            "Step   848: Obtained a best validation error of 0.730.\n",
            "Step  1094: Obtained a best validation error of 0.720.\n",
            "Step  1101: Obtained a best validation error of 0.700.\n",
            "Step  1255: Obtained a best validation error of 0.690.\n",
            "Step  1256: Obtained a best validation error of 0.670.\n",
            "Step  1594: Obtained a best validation error of 0.660.\n",
            "Step  1595: Obtained a best validation error of 0.650.\n",
            "Step  1984: Obtained a best validation error of 0.640.\n",
            "Step  1987: Obtained a best validation error of 0.630.\n",
            "Step  1988: Obtained a best validation error of 0.610.\n",
            "Step  3538: Obtained a best validation error of 0.600.\n",
            "Step  3684: Obtained a best validation error of 0.590.\n",
            "Step  3845: Obtained a best validation error of 0.580.\n",
            "Step  5443: Obtained a best validation error of 0.570.\n",
            "Step  5695: Obtained a best validation error of 0.550.\n"
          ],
          "name": "stdout"
        },
        {
          "output_type": "display_data",
          "data": {
            "image/png": "[encoded data removed]",
            "text/plain": [
              "<Figure size 432x288 with 2 Axes>"
            ]
          },
          "metadata": {
            "tags": []
          }
        }
      ]
    },
    {
      "cell_type": "code",
      "metadata": {
        "id": "kC8AHDZtOo44",
        "colab_type": "code",
        "colab": {}
      },
      "source": [
        "from typing import List\n",
        "def write_prediction(prediction: List[int], filename: str):\n",
        "    with open(filename, 'w') as fp:\n",
        "        print('Id,Category', file=fp)\n",
        "        for i, pred in enumerate(prediction):\n",
        "            print(f'{i},{pred}', file=fp)"
      ],
      "execution_count": 0,
      "outputs": []
    },
    {
      "cell_type": "code",
      "metadata": {
        "id": "Ith6mtstiLoq",
        "colab_type": "code",
        "colab": {}
      },
      "source": [
        "test = torch.tensor(test_images, requires_grad=False, device='cuda').type(torch.FloatTensor).cuda()\n",
        "outputs = model(test)\n",
        "_,prediction = torch.max(outputs.data, 1)\n",
        "write_prediction(prediction, 'output.csv')"
      ],
      "execution_count": 0,
      "outputs": []
    }
  ]
}