{
  "nbformat": 4,
  "nbformat_minor": 0,
  "metadata": {
    "colab": {
      "name": "hw4resnet.ipynb",
      "provenance": [],
      "collapsed_sections": []
    },
    "kernelspec": {
      "name": "python3",
      "display_name": "Python 3"
    },
    "accelerator": "GPU"
  },
  "cells": [
    {
      "cell_type": "code",
      "metadata": {
        "id": "TjmPgk5c34Zq",
        "colab_type": "code",
        "outputId": "0e8f03c9-11a0-4b76-9c74-2bbe2bfe515f",
        "colab": {
          "base_uri": "https://localhost:8080/",
          "height": 436
        }
      },
      "source": [
        "!wget https://www.dropbox.com/s/h1n73cw33no99mz/data.pth"
      ],
      "execution_count": 0,
      "outputs": [
        {
          "output_type": "stream",
          "text": [
            "--2020-03-25 00:29:50--  https://www.dropbox.com/s/h1n73cw33no99mz/data.pth\n",
            "Resolving www.dropbox.com (www.dropbox.com)... 162.125.8.1, 2620:100:601b:1::a27d:801\n",
            "Connecting to www.dropbox.com (www.dropbox.com)|162.125.8.1|:443... connected.\n",
            "HTTP request sent, awaiting response... 301 Moved Permanently\n",
            "Location: /s/raw/h1n73cw33no99mz/data.pth [following]\n",
            "--2020-03-25 00:29:51--  https://www.dropbox.com/s/raw/h1n73cw33no99mz/data.pth\n",
            "Reusing existing connection to www.dropbox.com:443.\n",
            "HTTP request sent, awaiting response... 302 Found\n",
            "Location: https://uc07b66ceb4c0504c152608fd510.dl.dropboxusercontent.com/cd/0/inline/A0gs5Ye64a_1nXV-kyNtKEJPVCG8a4wQwOGAxZ0P9z8QsTHXB1iSqbYgO-C2YWQV0imzJCyl3OrXpRGo0MpUmX0Qw76R34dccqZGJ7Vy0Ygi9yGe1FQ_-Tt2vd4jm4Dso-M/file# [following]\n",
            "--2020-03-25 00:29:51--  https://uc07b66ceb4c0504c152608fd510.dl.dropboxusercontent.com/cd/0/inline/A0gs5Ye64a_1nXV-kyNtKEJPVCG8a4wQwOGAxZ0P9z8QsTHXB1iSqbYgO-C2YWQV0imzJCyl3OrXpRGo0MpUmX0Qw76R34dccqZGJ7Vy0Ygi9yGe1FQ_-Tt2vd4jm4Dso-M/file\n",
            "Resolving uc07b66ceb4c0504c152608fd510.dl.dropboxusercontent.com (uc07b66ceb4c0504c152608fd510.dl.dropboxusercontent.com)... 162.125.8.6, 2620:100:601b:6::a27d:806\n",
            "Connecting to uc07b66ceb4c0504c152608fd510.dl.dropboxusercontent.com (uc07b66ceb4c0504c152608fd510.dl.dropboxusercontent.com)|162.125.8.6|:443... connected.\n",
            "HTTP request sent, awaiting response... 302 FOUND\n",
            "Location: /cd/0/inline2/A0hby57_CdVwwdxKzd2NAYgmU8auGeRS1lZvYMNRGNMvS8htxIS4fFW7BkcvCvouHbDTFywCVSEuFiVPTSpcdXoHszskoM3AIu7Fq-jSOUzcKRgcF7u5OhfMjUvMfO7cgnNDBsQmrhfiOE1w0Q2_wgHO3p6Ae7isSBxTUjESLLUzuIIKD_EGcL46PxOjr-J05qSYIlsMyWtwzQQLaidX4xR0F0DztGDZJB_RRU4Kocv0adB2f5IqpZfpdi2VRTtI9hbkwuGARH6WTPZNJ73KmD6JSrZ1GwV3NGg75--d0o-eF99dsWJLiemPIOWO6SxFVw-mNvl51nN7B4N-KZoAn7dXfoTf4qPieRSYQTk9ONgSsw/file [following]\n",
            "--2020-03-25 00:29:51--  https://uc07b66ceb4c0504c152608fd510.dl.dropboxusercontent.com/cd/0/inline2/A0hby57_CdVwwdxKzd2NAYgmU8auGeRS1lZvYMNRGNMvS8htxIS4fFW7BkcvCvouHbDTFywCVSEuFiVPTSpcdXoHszskoM3AIu7Fq-jSOUzcKRgcF7u5OhfMjUvMfO7cgnNDBsQmrhfiOE1w0Q2_wgHO3p6Ae7isSBxTUjESLLUzuIIKD_EGcL46PxOjr-J05qSYIlsMyWtwzQQLaidX4xR0F0DztGDZJB_RRU4Kocv0adB2f5IqpZfpdi2VRTtI9hbkwuGARH6WTPZNJ73KmD6JSrZ1GwV3NGg75--d0o-eF99dsWJLiemPIOWO6SxFVw-mNvl51nN7B4N-KZoAn7dXfoTf4qPieRSYQTk9ONgSsw/file\n",
            "Reusing existing connection to uc07b66ceb4c0504c152608fd510.dl.dropboxusercontent.com:443.\n",
            "HTTP request sent, awaiting response... 200 OK\n",
            "Length: 266735560 (254M) [application/octet-stream]\n",
            "Saving to: ‘data.pth’\n",
            "\n",
            "data.pth            100%[===================>] 254.38M  46.4MB/s    in 6.0s    \n",
            "\n",
            "2020-03-25 00:29:58 (42.6 MB/s) - ‘data.pth’ saved [266735560/266735560]\n",
            "\n"
          ],
          "name": "stdout"
        }
      ]
    },
    {
      "cell_type": "code",
      "metadata": {
        "id": "Bc3Svj2-1Cae",
        "colab_type": "code",
        "colab": {}
      },
      "source": [
        "import torch\n",
        "import torch.nn as nn\n",
        "import torch.nn.functional as F\n",
        "import torch.optim as optim\n",
        "from torchvision import datasets, transforms\n",
        "import numpy as np\n",
        "import matplotlib.pyplot as plt\n",
        "from torch.autograd import Variable\n",
        "from PIL import Image\n",
        "import random\n",
        "random.seed(7)\n",
        "torch.manual_seed(7)\n",
        "torch.cuda.manual_seed(7)\n",
        "np.random.seed(7)\n",
        "torch.backends.cudnn.deterministic = True\n",
        "torch.backends.cudnn.benchmark = False"
      ],
      "execution_count": 0,
      "outputs": []
    },
    {
      "cell_type": "code",
      "metadata": {
        "id": "PmFh0P_E7RmZ",
        "colab_type": "code",
        "outputId": "0fb5102c-f3ac-41cd-abab-b83275cdcece",
        "colab": {
          "base_uri": "https://localhost:8080/",
          "height": 66
        }
      },
      "source": [
        "\n",
        "train_x, train_y, dev_x, dev_y, test_x = torch.load('data.pth')\n",
        "\n",
        "print('Training size:', train_x.shape, train_y.shape)\n",
        "print('Development size:', dev_x.shape, dev_y.shape)\n",
        "print('Test size:', test_x.shape)\n",
        "\n",
        "\n"
      ],
      "execution_count": 0,
      "outputs": [
        {
          "output_type": "stream",
          "text": [
            "Training size: (45000, 3, 32, 32) (45000,)\n",
            "Development size: (5000, 3, 32, 32) (5000,)\n",
            "Test size: (10000, 3, 32, 32)\n"
          ],
          "name": "stdout"
        }
      ]
    },
    {
      "cell_type": "code",
      "metadata": {
        "id": "7QL-4b9O04pb",
        "colab_type": "code",
        "colab": {}
      },
      "source": [
        "img_tran_train = transforms.Compose([\n",
        " \t transforms.RandomHorizontalFlip(p=0.5),\n",
        "\t transforms.RandomVerticalFlip(p=0.5),\n",
        "   transforms.ToTensor()\n",
        "])"
      ],
      "execution_count": 0,
      "outputs": []
    },
    {
      "cell_type": "code",
      "metadata": {
        "id": "RJGUE3uz04zH",
        "colab_type": "code",
        "colab": {}
      },
      "source": [
        "for i in range(len(train_x)):\n",
        "  if random.randint(0,1):\n",
        "    image = Variable(torch.from_numpy(train_x[i]))\n",
        "    image = torch.unsqueeze(image.permute(1, 2, 0), 0)\n",
        "    image  = image.detach().cpu().numpy().squeeze()   \n",
        "    img = Image.fromarray(image.astype('uint8')).convert('RGB')\n",
        "    image = img_tran_train(img)\n",
        "    train_x[i] = np.array(image)"
      ],
      "execution_count": 0,
      "outputs": []
    },
    {
      "cell_type": "code",
      "metadata": {
        "id": "Hyp6EnmUppO9",
        "colab_type": "code",
        "outputId": "104dc3bb-9b53-42ef-9c7e-82ed73898ca7",
        "colab": {
          "base_uri": "https://localhost:8080/",
          "height": 282
        }
      },
      "source": [
        "\n",
        "sample_num =random.randint(1,len(train_x))\n",
        "image = train_x[sample_num]\n",
        "image_ = Variable(torch.from_numpy(image))\n",
        "image_ = torch.unsqueeze(image_.permute(1, 2, 0), 0)\n",
        "plt.imshow(image_.detach().cpu().numpy().squeeze())"
      ],
      "execution_count": 0,
      "outputs": [
        {
          "output_type": "execute_result",
          "data": {
            "text/plain": [
              "<matplotlib.image.AxesImage at 0x7f98914806d8>"
            ]
          },
          "metadata": {
            "tags": []
          },
          "execution_count": 6
        },
        {
          "output_type": "display_data",
          "data": {
            "image/png": "[encoded data removed]",
            "text/plain": [
              "<Figure size 432x288 with 1 Axes>"
            ]
          },
          "metadata": {
            "tags": []
          }
        }
      ]
    },
    {
      "cell_type": "code",
      "metadata": {
        "id": "3zL4maCJXyQf",
        "colab_type": "code",
        "colab": {}
      },
      "source": [
        "def normalize_stats_image_by_image(images):\n",
        "  mean = images.mean(axis=(1,2), keepdims=True)\n",
        "  stdev = images.std(axis=(1,2), keepdims=True)\n",
        "  return (images - mean) / (images.max() - images.min())\n",
        "  \n",
        "train_images = normalize_stats_image_by_image(train_x)\n",
        "dev_images = normalize_stats_image_by_image(dev_x)\n",
        "test_images = normalize_stats_image_by_image(test_x)"
      ],
      "execution_count": 0,
      "outputs": []
    },
    {
      "cell_type": "code",
      "metadata": {
        "id": "TO1pdrl_ruGu",
        "colab_type": "code",
        "outputId": "20973790-bc83-49a1-84fe-ed29edd6538e",
        "colab": {
          "base_uri": "https://localhost:8080/",
          "height": 33
        }
      },
      "source": [
        "trx = Variable(torch.from_numpy(train_images))\n",
        "dx = Variable(torch.from_numpy(dev_images))\n",
        "tex = Variable(torch.from_numpy(test_images))\n",
        "print(trx.shape)"
      ],
      "execution_count": 0,
      "outputs": [
        {
          "output_type": "stream",
          "text": [
            "torch.Size([45000, 3, 32, 32])\n"
          ],
          "name": "stdout"
        }
      ]
    },
    {
      "cell_type": "code",
      "metadata": {
        "id": "KKrIRF3XS6H8",
        "colab_type": "code",
        "outputId": "fbfcab73-4c1b-4bce-bfb3-a1af1223e1da",
        "colab": {
          "base_uri": "https://localhost:8080/",
          "height": 33
        }
      },
      "source": [
        "torch.cuda.is_available()"
      ],
      "execution_count": 0,
      "outputs": [
        {
          "output_type": "execute_result",
          "data": {
            "text/plain": [
              "True"
            ]
          },
          "metadata": {
            "tags": []
          },
          "execution_count": 9
        }
      ]
    },
    {
      "cell_type": "code",
      "metadata": {
        "id": "faBJuQOMXnJT",
        "colab_type": "code",
        "colab": {}
      },
      "source": [
        "torch.cuda.empty_cache() "
      ],
      "execution_count": 0,
      "outputs": []
    },
    {
      "cell_type": "code",
      "metadata": {
        "id": "J7pybAt8iW_x",
        "colab_type": "code",
        "colab": {}
      },
      "source": [
        "\n",
        "\n",
        "class BasicBlock(nn.Module):\n",
        "    \"\"\"Basic Block for resnet 18 and resnet 34\n",
        "    \"\"\"\n",
        "\n",
        "    #BasicBlock and BottleNeck block \n",
        "    #have different output size\n",
        "    #we use class attribute expansion\n",
        "    #to distinct\n",
        "    expansion = 1\n",
        "\n",
        "    def __init__(self, in_channels, out_channels, stride=1):\n",
        "        super().__init__()\n",
        "\n",
        "        #residual function\n",
        "        self.residual_function = nn.Sequential(\n",
        "            nn.Conv2d(in_channels, out_channels, kernel_size=3, stride=stride, padding=1, bias=False),\n",
        "            nn.BatchNorm2d(out_channels),\n",
        "            nn.ReLU(inplace=True),\n",
        "            nn.Conv2d(out_channels, out_channels * BasicBlock.expansion, kernel_size=3, padding=1, bias=False),\n",
        "            nn.BatchNorm2d(out_channels * BasicBlock.expansion)\n",
        "        )\n",
        "\n",
        "        #shortcut\n",
        "        self.shortcut = nn.Sequential()\n",
        "\n",
        "        #the shortcut output dimension is not the same with residual function\n",
        "        #use 1*1 convolution to match the dimension\n",
        "        if stride != 1 or in_channels != BasicBlock.expansion * out_channels:\n",
        "            self.shortcut = nn.Sequential(\n",
        "                nn.Conv2d(in_channels, out_channels * BasicBlock.expansion, kernel_size=1, stride=stride, bias=False),\n",
        "                nn.BatchNorm2d(out_channels * BasicBlock.expansion)\n",
        "            )\n",
        "        \n",
        "    def forward(self, x):\n",
        "        return nn.ReLU(inplace=True)(self.residual_function(x) + self.shortcut(x))\n",
        "\n",
        "class BottleNeck(nn.Module):\n",
        "    \"\"\"Residual block for resnet over 50 layers\n",
        "    \"\"\"\n",
        "    expansion = 4\n",
        "    def __init__(self, in_channels, out_channels, stride=1):\n",
        "        super().__init__()\n",
        "        self.residual_function = nn.Sequential(\n",
        "            nn.Conv2d(in_channels, out_channels, kernel_size=1, bias=False),\n",
        "            nn.BatchNorm2d(out_channels),\n",
        "            nn.ReLU(inplace=True),\n",
        "            nn.Conv2d(out_channels, out_channels, stride=stride, kernel_size=3, padding=1, bias=False),\n",
        "            nn.BatchNorm2d(out_channels),\n",
        "            nn.ReLU(inplace=True),\n",
        "            nn.Conv2d(out_channels, out_channels * BottleNeck.expansion, kernel_size=1, bias=False),\n",
        "            nn.BatchNorm2d(out_channels * BottleNeck.expansion),\n",
        "        )\n",
        "\n",
        "        self.shortcut = nn.Sequential()\n",
        "\n",
        "        if stride != 1 or in_channels != out_channels * BottleNeck.expansion:\n",
        "            self.shortcut = nn.Sequential(\n",
        "                nn.Conv2d(in_channels, out_channels * BottleNeck.expansion, stride=stride, kernel_size=1, bias=False),\n",
        "                nn.BatchNorm2d(out_channels * BottleNeck.expansion)\n",
        "            )\n",
        "        \n",
        "    def forward(self, x):\n",
        "        return nn.ReLU(inplace=True)(self.residual_function(x) + self.shortcut(x))\n",
        "    \n",
        "class ResNet(nn.Module):\n",
        "\n",
        "    def __init__(self, block, num_block, num_classes=100):\n",
        "        super().__init__()\n",
        "\n",
        "        self.in_channels = 64\n",
        "\n",
        "        self.conv1 = nn.Sequential(\n",
        "            nn.Conv2d(3, 64, kernel_size=3, padding=1, bias=False),\n",
        "            nn.BatchNorm2d(64),\n",
        "            nn.ReLU(inplace=True))\n",
        "        #we use a different inputsize than the original paper\n",
        "        #so conv2_x's stride is 1\n",
        "        self.conv2_x = self._make_layer(block, 64, num_block[0], 1)\n",
        "        self.conv3_x = self._make_layer(block, 128, num_block[1], 2)\n",
        "        self.conv4_x = self._make_layer(block, 256, num_block[2], 2)\n",
        "        self.conv5_x = self._make_layer(block, 512, num_block[3], 2)\n",
        "        self.avg_pool = nn.AdaptiveAvgPool2d((1, 1))\n",
        "        self.fc = nn.Linear(512 * block.expansion, num_classes)\n",
        "\n",
        "    def _make_layer(self, block, out_channels, num_blocks, stride):\n",
        "        \"\"\"make resnet layers(by layer i didnt mean this 'layer' was the \n",
        "        same as a neuron netowork layer, ex. conv layer), one layer may \n",
        "        contain more than one residual block \n",
        "        Args:\n",
        "            block: block type, basic block or bottle neck block\n",
        "            out_channels: output depth channel number of this layer\n",
        "            num_blocks: how many blocks per layer\n",
        "            stride: the stride of the first block of this layer\n",
        "        \n",
        "        Return:\n",
        "            return a resnet layer\n",
        "        \"\"\"\n",
        "\n",
        "        # we have num_block blocks per layer, the first block \n",
        "        # could be 1 or 2, other blocks would always be 1\n",
        "        strides = [stride] + [1] * (num_blocks - 1)\n",
        "        layers = []\n",
        "        for stride in strides:\n",
        "            layers.append(block(self.in_channels, out_channels, stride))\n",
        "            self.in_channels = out_channels * block.expansion\n",
        "        \n",
        "        return nn.Sequential(*layers)\n",
        "\n",
        "    def forward(self, x):\n",
        "        output = self.conv1(x)\n",
        "        output = self.conv2_x(output)\n",
        "        output = self.conv3_x(output)\n",
        "        output = self.conv4_x(output)\n",
        "        output = self.conv5_x(output)\n",
        "        output = self.avg_pool(output)\n",
        "        output = output.view(output.size(0), -1)\n",
        "        output = self.fc(output)\n",
        "\n",
        "        return output \n",
        "\n",
        "def resnet18():\n",
        "    \"\"\" return a ResNet 18 object\n",
        "    \"\"\"\n",
        "    return ResNet(BasicBlock, [2, 2, 2, 2])\n",
        "\n",
        "def resnet34():\n",
        "    \"\"\" return a ResNet 34 object\n",
        "    \"\"\"\n",
        "    return ResNet(BasicBlock, [3, 4, 6, 3])\n",
        "\n",
        "def resnet50():\n",
        "    \"\"\" return a ResNet 50 object\n",
        "    \"\"\"\n",
        "    return ResNet(BottleNeck, [3, 4, 6, 3])\n",
        "\n",
        "def resnet101():\n",
        "    \"\"\" return a ResNet 101 object\n",
        "    \"\"\"\n",
        "    return ResNet(BottleNeck, [3, 4, 23, 3])\n",
        "\n",
        "def resnet152():\n",
        "    \"\"\" return a ResNet 152 object\n",
        "    \"\"\"\n",
        "    return ResNet(BottleNeck, [3, 8, 36, 3])\n"
      ],
      "execution_count": 0,
      "outputs": []
    },
    {
      "cell_type": "code",
      "metadata": {
        "id": "DnoEzfVH-Ns5",
        "colab_type": "code",
        "outputId": "ca9c9d7b-f018-4237-ca22-9729fa41e205",
        "colab": {
          "base_uri": "https://localhost:8080/",
          "height": 1000
        }
      },
      "source": [
        "model = resnet34()# myCNN()\n",
        "model.cuda()\n",
        "#x = torch.randn(100,3,32,32)\n",
        "#print(model(Variable(x).cuda()).size())\n",
        "#print(model.parameters)"
      ],
      "execution_count": 0,
      "outputs": [
        {
          "output_type": "execute_result",
          "data": {
            "text/plain": [
              "ResNet(\n",
              "  (conv1): Sequential(\n",
              "    (0): Conv2d(3, 64, kernel_size=(3, 3), stride=(1, 1), padding=(1, 1), bias=False)\n",
              "    (1): BatchNorm2d(64, eps=1e-05, momentum=0.1, affine=True, track_running_stats=True)\n",
              "    (2): ReLU(inplace=True)\n",
              "  )\n",
              "  (conv2_x): Sequential(\n",
              "    (0): BasicBlock(\n",
              "      (residual_function): Sequential(\n",
              "        (0): Conv2d(64, 64, kernel_size=(3, 3), stride=(1, 1), padding=(1, 1), bias=False)\n",
              "        (1): BatchNorm2d(64, eps=1e-05, momentum=0.1, affine=True, track_running_stats=True)\n",
              "        (2): ReLU(inplace=True)\n",
              "        (3): Conv2d(64, 64, kernel_size=(3, 3), stride=(1, 1), padding=(1, 1), bias=False)\n",
              "        (4): BatchNorm2d(64, eps=1e-05, momentum=0.1, affine=True, track_running_stats=True)\n",
              "      )\n",
              "      (shortcut): Sequential()\n",
              "    )\n",
              "    (1): BasicBlock(\n",
              "      (residual_function): Sequential(\n",
              "        (0): Conv2d(64, 64, kernel_size=(3, 3), stride=(1, 1), padding=(1, 1), bias=False)\n",
              "        (1): BatchNorm2d(64, eps=1e-05, momentum=0.1, affine=True, track_running_stats=True)\n",
              "        (2): ReLU(inplace=True)\n",
              "        (3): Conv2d(64, 64, kernel_size=(3, 3), stride=(1, 1), padding=(1, 1), bias=False)\n",
              "        (4): BatchNorm2d(64, eps=1e-05, momentum=0.1, affine=True, track_running_stats=True)\n",
              "      )\n",
              "      (shortcut): Sequential()\n",
              "    )\n",
              "    (2): BasicBlock(\n",
              "      (residual_function): Sequential(\n",
              "        (0): Conv2d(64, 64, kernel_size=(3, 3), stride=(1, 1), padding=(1, 1), bias=False)\n",
              "        (1): BatchNorm2d(64, eps=1e-05, momentum=0.1, affine=True, track_running_stats=True)\n",
              "        (2): ReLU(inplace=True)\n",
              "        (3): Conv2d(64, 64, kernel_size=(3, 3), stride=(1, 1), padding=(1, 1), bias=False)\n",
              "        (4): BatchNorm2d(64, eps=1e-05, momentum=0.1, affine=True, track_running_stats=True)\n",
              "      )\n",
              "      (shortcut): Sequential()\n",
              "    )\n",
              "  )\n",
              "  (conv3_x): Sequential(\n",
              "    (0): BasicBlock(\n",
              "      (residual_function): Sequential(\n",
              "        (0): Conv2d(64, 128, kernel_size=(3, 3), stride=(2, 2), padding=(1, 1), bias=False)\n",
              "        (1): BatchNorm2d(128, eps=1e-05, momentum=0.1, affine=True, track_running_stats=True)\n",
              "        (2): ReLU(inplace=True)\n",
              "        (3): Conv2d(128, 128, kernel_size=(3, 3), stride=(1, 1), padding=(1, 1), bias=False)\n",
              "        (4): BatchNorm2d(128, eps=1e-05, momentum=0.1, affine=True, track_running_stats=True)\n",
              "      )\n",
              "      (shortcut): Sequential(\n",
              "        (0): Conv2d(64, 128, kernel_size=(1, 1), stride=(2, 2), bias=False)\n",
              "        (1): BatchNorm2d(128, eps=1e-05, momentum=0.1, affine=True, track_running_stats=True)\n",
              "      )\n",
              "    )\n",
              "    (1): BasicBlock(\n",
              "      (residual_function): Sequential(\n",
              "        (0): Conv2d(128, 128, kernel_size=(3, 3), stride=(1, 1), padding=(1, 1), bias=False)\n",
              "        (1): BatchNorm2d(128, eps=1e-05, momentum=0.1, affine=True, track_running_stats=True)\n",
              "        (2): ReLU(inplace=True)\n",
              "        (3): Conv2d(128, 128, kernel_size=(3, 3), stride=(1, 1), padding=(1, 1), bias=False)\n",
              "        (4): BatchNorm2d(128, eps=1e-05, momentum=0.1, affine=True, track_running_stats=True)\n",
              "      )\n",
              "      (shortcut): Sequential()\n",
              "    )\n",
              "    (2): BasicBlock(\n",
              "      (residual_function): Sequential(\n",
              "        (0): Conv2d(128, 128, kernel_size=(3, 3), stride=(1, 1), padding=(1, 1), bias=False)\n",
              "        (1): BatchNorm2d(128, eps=1e-05, momentum=0.1, affine=True, track_running_stats=True)\n",
              "        (2): ReLU(inplace=True)\n",
              "        (3): Conv2d(128, 128, kernel_size=(3, 3), stride=(1, 1), padding=(1, 1), bias=False)\n",
              "        (4): BatchNorm2d(128, eps=1e-05, momentum=0.1, affine=True, track_running_stats=True)\n",
              "      )\n",
              "      (shortcut): Sequential()\n",
              "    )\n",
              "    (3): BasicBlock(\n",
              "      (residual_function): Sequential(\n",
              "        (0): Conv2d(128, 128, kernel_size=(3, 3), stride=(1, 1), padding=(1, 1), bias=False)\n",
              "        (1): BatchNorm2d(128, eps=1e-05, momentum=0.1, affine=True, track_running_stats=True)\n",
              "        (2): ReLU(inplace=True)\n",
              "        (3): Conv2d(128, 128, kernel_size=(3, 3), stride=(1, 1), padding=(1, 1), bias=False)\n",
              "        (4): BatchNorm2d(128, eps=1e-05, momentum=0.1, affine=True, track_running_stats=True)\n",
              "      )\n",
              "      (shortcut): Sequential()\n",
              "    )\n",
              "  )\n",
              "  (conv4_x): Sequential(\n",
              "    (0): BasicBlock(\n",
              "      (residual_function): Sequential(\n",
              "        (0): Conv2d(128, 256, kernel_size=(3, 3), stride=(2, 2), padding=(1, 1), bias=False)\n",
              "        (1): BatchNorm2d(256, eps=1e-05, momentum=0.1, affine=True, track_running_stats=True)\n",
              "        (2): ReLU(inplace=True)\n",
              "        (3): Conv2d(256, 256, kernel_size=(3, 3), stride=(1, 1), padding=(1, 1), bias=False)\n",
              "        (4): BatchNorm2d(256, eps=1e-05, momentum=0.1, affine=True, track_running_stats=True)\n",
              "      )\n",
              "      (shortcut): Sequential(\n",
              "        (0): Conv2d(128, 256, kernel_size=(1, 1), stride=(2, 2), bias=False)\n",
              "        (1): BatchNorm2d(256, eps=1e-05, momentum=0.1, affine=True, track_running_stats=True)\n",
              "      )\n",
              "    )\n",
              "    (1): BasicBlock(\n",
              "      (residual_function): Sequential(\n",
              "        (0): Conv2d(256, 256, kernel_size=(3, 3), stride=(1, 1), padding=(1, 1), bias=False)\n",
              "        (1): BatchNorm2d(256, eps=1e-05, momentum=0.1, affine=True, track_running_stats=True)\n",
              "        (2): ReLU(inplace=True)\n",
              "        (3): Conv2d(256, 256, kernel_size=(3, 3), stride=(1, 1), padding=(1, 1), bias=False)\n",
              "        (4): BatchNorm2d(256, eps=1e-05, momentum=0.1, affine=True, track_running_stats=True)\n",
              "      )\n",
              "      (shortcut): Sequential()\n",
              "    )\n",
              "    (2): BasicBlock(\n",
              "      (residual_function): Sequential(\n",
              "        (0): Conv2d(256, 256, kernel_size=(3, 3), stride=(1, 1), padding=(1, 1), bias=False)\n",
              "        (1): BatchNorm2d(256, eps=1e-05, momentum=0.1, affine=True, track_running_stats=True)\n",
              "        (2): ReLU(inplace=True)\n",
              "        (3): Conv2d(256, 256, kernel_size=(3, 3), stride=(1, 1), padding=(1, 1), bias=False)\n",
              "        (4): BatchNorm2d(256, eps=1e-05, momentum=0.1, affine=True, track_running_stats=True)\n",
              "      )\n",
              "      (shortcut): Sequential()\n",
              "    )\n",
              "    (3): BasicBlock(\n",
              "      (residual_function): Sequential(\n",
              "        (0): Conv2d(256, 256, kernel_size=(3, 3), stride=(1, 1), padding=(1, 1), bias=False)\n",
              "        (1): BatchNorm2d(256, eps=1e-05, momentum=0.1, affine=True, track_running_stats=True)\n",
              "        (2): ReLU(inplace=True)\n",
              "        (3): Conv2d(256, 256, kernel_size=(3, 3), stride=(1, 1), padding=(1, 1), bias=False)\n",
              "        (4): BatchNorm2d(256, eps=1e-05, momentum=0.1, affine=True, track_running_stats=True)\n",
              "      )\n",
              "      (shortcut): Sequential()\n",
              "    )\n",
              "    (4): BasicBlock(\n",
              "      (residual_function): Sequential(\n",
              "        (0): Conv2d(256, 256, kernel_size=(3, 3), stride=(1, 1), padding=(1, 1), bias=False)\n",
              "        (1): BatchNorm2d(256, eps=1e-05, momentum=0.1, affine=True, track_running_stats=True)\n",
              "        (2): ReLU(inplace=True)\n",
              "        (3): Conv2d(256, 256, kernel_size=(3, 3), stride=(1, 1), padding=(1, 1), bias=False)\n",
              "        (4): BatchNorm2d(256, eps=1e-05, momentum=0.1, affine=True, track_running_stats=True)\n",
              "      )\n",
              "      (shortcut): Sequential()\n",
              "    )\n",
              "    (5): BasicBlock(\n",
              "      (residual_function): Sequential(\n",
              "        (0): Conv2d(256, 256, kernel_size=(3, 3), stride=(1, 1), padding=(1, 1), bias=False)\n",
              "        (1): BatchNorm2d(256, eps=1e-05, momentum=0.1, affine=True, track_running_stats=True)\n",
              "        (2): ReLU(inplace=True)\n",
              "        (3): Conv2d(256, 256, kernel_size=(3, 3), stride=(1, 1), padding=(1, 1), bias=False)\n",
              "        (4): BatchNorm2d(256, eps=1e-05, momentum=0.1, affine=True, track_running_stats=True)\n",
              "      )\n",
              "      (shortcut): Sequential()\n",
              "    )\n",
              "  )\n",
              "  (conv5_x): Sequential(\n",
              "    (0): BasicBlock(\n",
              "      (residual_function): Sequential(\n",
              "        (0): Conv2d(256, 512, kernel_size=(3, 3), stride=(2, 2), padding=(1, 1), bias=False)\n",
              "        (1): BatchNorm2d(512, eps=1e-05, momentum=0.1, affine=True, track_running_stats=True)\n",
              "        (2): ReLU(inplace=True)\n",
              "        (3): Conv2d(512, 512, kernel_size=(3, 3), stride=(1, 1), padding=(1, 1), bias=False)\n",
              "        (4): BatchNorm2d(512, eps=1e-05, momentum=0.1, affine=True, track_running_stats=True)\n",
              "      )\n",
              "      (shortcut): Sequential(\n",
              "        (0): Conv2d(256, 512, kernel_size=(1, 1), stride=(2, 2), bias=False)\n",
              "        (1): BatchNorm2d(512, eps=1e-05, momentum=0.1, affine=True, track_running_stats=True)\n",
              "      )\n",
              "    )\n",
              "    (1): BasicBlock(\n",
              "      (residual_function): Sequential(\n",
              "        (0): Conv2d(512, 512, kernel_size=(3, 3), stride=(1, 1), padding=(1, 1), bias=False)\n",
              "        (1): BatchNorm2d(512, eps=1e-05, momentum=0.1, affine=True, track_running_stats=True)\n",
              "        (2): ReLU(inplace=True)\n",
              "        (3): Conv2d(512, 512, kernel_size=(3, 3), stride=(1, 1), padding=(1, 1), bias=False)\n",
              "        (4): BatchNorm2d(512, eps=1e-05, momentum=0.1, affine=True, track_running_stats=True)\n",
              "      )\n",
              "      (shortcut): Sequential()\n",
              "    )\n",
              "    (2): BasicBlock(\n",
              "      (residual_function): Sequential(\n",
              "        (0): Conv2d(512, 512, kernel_size=(3, 3), stride=(1, 1), padding=(1, 1), bias=False)\n",
              "        (1): BatchNorm2d(512, eps=1e-05, momentum=0.1, affine=True, track_running_stats=True)\n",
              "        (2): ReLU(inplace=True)\n",
              "        (3): Conv2d(512, 512, kernel_size=(3, 3), stride=(1, 1), padding=(1, 1), bias=False)\n",
              "        (4): BatchNorm2d(512, eps=1e-05, momentum=0.1, affine=True, track_running_stats=True)\n",
              "      )\n",
              "      (shortcut): Sequential()\n",
              "    )\n",
              "  )\n",
              "  (avg_pool): AdaptiveAvgPool2d(output_size=(1, 1))\n",
              "  (fc): Linear(in_features=512, out_features=100, bias=True)\n",
              ")"
            ]
          },
          "metadata": {
            "tags": []
          },
          "execution_count": 12
        }
      ]
    },
    {
      "cell_type": "code",
      "metadata": {
        "id": "KfYfoZ4G_KNQ",
        "colab_type": "code",
        "colab": {}
      },
      "source": [
        "criterion = nn.CrossEntropyLoss()\n",
        "optimizer = optim.SGD(model.parameters(), lr=0.001, momentum=0.9, weight_decay=5e-4)"
      ],
      "execution_count": 0,
      "outputs": []
    },
    {
      "cell_type": "code",
      "metadata": {
        "id": "ev0zo0t5_K-O",
        "colab_type": "code",
        "colab": {}
      },
      "source": [
        "def train_step(batch_size=128):\n",
        "  \n",
        "  model.train()\n",
        "\n",
        "  input_batch, label_batch = batch(batch_size, training=True)\n",
        "  #print(input_batch)\n",
        "  output_batch = model(input_batch)\n",
        "  #print(output_batch)\n",
        "  loss = F.cross_entropy(output_batch, label_batch)\n",
        "  train_loss = loss.item()\n",
        "  _, pred_batch = torch.max(output_batch, dim=1)\n",
        "  error_rate = 1.0 - (pred_batch == label_batch).float().mean()\n",
        "  #correct = pred_batch.eq(output_batch).cpu().sum()\n",
        "  #error_rate =1.0 - correct\n",
        "\n",
        "  optimizer.zero_grad()\n",
        "  loss.backward()\n",
        "  \n",
        "  optimizer.step()\n",
        "  \n",
        "  return train_loss, error_rate.item()#loss.item(), error_rate.item()"
      ],
      "execution_count": 0,
      "outputs": []
    },
    {
      "cell_type": "code",
      "metadata": {
        "id": "ZUKNceos_LCI",
        "colab_type": "code",
        "colab": {}
      },
      "source": [
        "def val(batch_size=100):\n",
        "  \n",
        "  model.eval()\n",
        "  input_batch, label_batch = batch(batch_size, training=False)\n",
        "  output_batch = model(input_batch)\n",
        "\n",
        "  loss = criterion(output_batch, label_batch)\n",
        "  test_loss = loss.item()\n",
        "  #print(loss)\n",
        "  _, pred_batch = torch.max(output_batch, dim=1)\n",
        "  error_rate = 1.0 - (pred_batch == label_batch).float().mean()\n",
        "  #correct = pred_batch.eq(output_batch).cpu().sum()\n",
        "  #error_rate =1.0 - correct\n",
        "  return test_loss, error_rate.item() #loss.item(), error_rate.item()"
      ],
      "execution_count": 0,
      "outputs": []
    },
    {
      "cell_type": "code",
      "metadata": {
        "id": "CriC1ebl_pao",
        "colab_type": "code",
        "colab": {}
      },
      "source": [
        "\n",
        "\n",
        "def batch(batch_size, training=True):\n",
        "  \"\"\"Create a batch of examples.\n",
        "  \n",
        "  This creates a batch of input images and a batch of corresponding\n",
        "  ground-truth labels. We assume CUDA is available (with a GPU).\n",
        "  \n",
        "  Args:\n",
        "    batch_size: An integer.\n",
        "    training: A boolean. If True, grab examples from the training\n",
        "      set; otherwise, grab them from the validation set.\n",
        "  \n",
        "  Returns:\n",
        "    A tuple,\n",
        "    input_batch: A Variable of floats with shape\n",
        "      [batch_size, 1, height, width]\n",
        "    label_batch: A Variable of ints with shape\n",
        "      [batch_size].\n",
        "  \"\"\"\n",
        "  if training:\n",
        "    random_ind = np.random.choice(train_images.shape[0], size=batch_size, replace=False)\n",
        "    input_batch = train_images[random_ind]\n",
        "    label_batch = train_y[random_ind]\n",
        "  else:\n",
        "    input_batch = dev_images[:batch_size]\n",
        "    label_batch = dev_y[:batch_size]\n",
        "  \n",
        "  #input_batch = input_batch[:, np.newaxis, :, :]\n",
        "  \n",
        "  input_batch = torch.tensor(input_batch, requires_grad=False, device='cuda').type(torch.FloatTensor).cuda()\n",
        "  label_batch = torch.tensor(label_batch, requires_grad=False, device='cuda')\n",
        "  #print(input_batch.shape)\n",
        "  return input_batch, label_batch\n"
      ],
      "execution_count": 0,
      "outputs": []
    },
    {
      "cell_type": "code",
      "metadata": {
        "id": "Dtl5neSf_LFB",
        "colab_type": "code",
        "outputId": "8c10c9f9-2c5b-49f9-8a25-2a5d9ea47fc3",
        "colab": {
          "base_uri": "https://localhost:8080/",
          "height": 784
        }
      },
      "source": [
        "\n",
        "# Let's make sure we always start from scratch (that is,\n",
        "# without starting from parameters from a previous run).\n",
        "#for module in model.children():\n",
        "  #module.reset_parameters()\n",
        "\n",
        "info = []\n",
        "fig, ax = plt.subplots(2, 1, sharex=True)\n",
        "num_steps = 10000\n",
        "num_steps_per_val = 100\n",
        "best_val_err = 1.0\n",
        "for step in range(num_steps):\n",
        "  train_loss, train_err = train_step()\n",
        "  val_loss, val_err = val()\n",
        "  if val_err < best_val_err:\n",
        "    best_val_err = val_err\n",
        "    print('Step {:5d}: Obtained a best validation error of {:.3f}.'.format(step, best_val_err))\n",
        "  if step % num_steps_per_val == 0:\n",
        "    #print(val_loss)\n",
        "    info.append([step, train_loss, val_loss, train_err, val_err])\n",
        "    x, y11, y12, y21, y22 = zip(*info)\n",
        "    ax[0].plot(x, y11, x, y12)\n",
        "    ax[0].legend(['Train loss', 'Val loss'])\n",
        "    ax[1].plot(x, y21, x, y22)\n",
        "    ax[1].legend(['Train err', 'Val err'])\n",
        "    #ax[1].set_ylim([0.0, 0.25])\n",
        "    "
      ],
      "execution_count": 0,
      "outputs": [
        {
          "output_type": "stream",
          "text": [
            "Step     9: Obtained a best validation error of 0.990.\n",
            "Step    51: Obtained a best validation error of 0.980.\n",
            "Step    52: Obtained a best validation error of 0.970.\n",
            "Step    53: Obtained a best validation error of 0.960.\n",
            "Step    56: Obtained a best validation error of 0.950.\n",
            "Step    62: Obtained a best validation error of 0.940.\n",
            "Step    87: Obtained a best validation error of 0.930.\n",
            "Step    88: Obtained a best validation error of 0.910.\n",
            "Step   129: Obtained a best validation error of 0.890.\n",
            "Step   131: Obtained a best validation error of 0.880.\n",
            "Step   132: Obtained a best validation error of 0.870.\n",
            "Step   168: Obtained a best validation error of 0.860.\n",
            "Step   169: Obtained a best validation error of 0.840.\n",
            "Step   170: Obtained a best validation error of 0.830.\n",
            "Step   397: Obtained a best validation error of 0.820.\n",
            "Step   439: Obtained a best validation error of 0.810.\n",
            "Step   440: Obtained a best validation error of 0.790.\n",
            "Step   446: Obtained a best validation error of 0.780.\n",
            "Step   547: Obtained a best validation error of 0.760.\n",
            "Step   548: Obtained a best validation error of 0.740.\n",
            "Step   619: Obtained a best validation error of 0.710.\n",
            "Step   620: Obtained a best validation error of 0.700.\n",
            "Step   772: Obtained a best validation error of 0.690.\n",
            "Step   781: Obtained a best validation error of 0.680.\n",
            "Step  1129: Obtained a best validation error of 0.670.\n",
            "Step  1130: Obtained a best validation error of 0.650.\n",
            "Step  1256: Obtained a best validation error of 0.630.\n",
            "Step  3050: Obtained a best validation error of 0.600.\n",
            "Step  4470: Obtained a best validation error of 0.590.\n",
            "Step  4471: Obtained a best validation error of 0.580.\n",
            "Step  7079: Obtained a best validation error of 0.570.\n"
          ],
          "name": "stdout"
        },
        {
          "output_type": "display_data",
          "data": {
            "image/png": "[encoded data removed]",
            "text/plain": [
              "<Figure size 432x288 with 2 Axes>"
            ]
          },
          "metadata": {
            "tags": []
          }
        }
      ]
    },
    {
      "cell_type": "code",
      "metadata": {
        "id": "8-0OsWEo7tr4",
        "colab_type": "code",
        "colab": {}
      },
      "source": [
        "\n",
        "from typing import List\n",
        "def write_prediction(prediction: List[int], filename: str,t):\n",
        "    with open(filename, 'a') as fp:\n",
        "        if t == 0:\n",
        "          print('Id,Category', file=fp)\n",
        "        \n",
        "        for i, pred in enumerate(prediction):\n",
        "          print(f'{t},{pred}', file=fp)"
      ],
      "execution_count": 0,
      "outputs": []
    },
    {
      "cell_type": "code",
      "metadata": {
        "id": "Pbt7sER91z_J",
        "colab_type": "code",
        "colab": {}
      },
      "source": [
        "test = torch.tensor(test_images, requires_grad=False, device='cuda').type(torch.FloatTensor).cuda()\n",
        "for t in range(len(test)):\n",
        "  #print(test[t:t+1,:,:,:])\n",
        "  outputs = model(test[t:t+1,:,:,:])\n",
        "  _,prediction = torch.max(outputs.data, 1)\n",
        "  write_prediction(prediction, 'output.csv',t)"
      ],
      "execution_count": 0,
      "outputs": []
    },
    {
      "cell_type": "code",
      "metadata": {
        "id": "P6S7s_n3gU30",
        "colab_type": "code",
        "colab": {}
      },
      "source": [
        "from google.colab import files\n",
        "\n",
        "files.download('output.csv')"
      ],
      "execution_count": 0,
      "outputs": []
    },
    {
      "cell_type": "code",
      "metadata": {
        "id": "0QJIg-3RmhKL",
        "colab_type": "code",
        "colab": {}
      },
      "source": [
        "output = model(test[0:2,:,:,:])\n",
        "_,prediction = torch.max(output.data, 1)\n",
        "print(prediction)"
      ],
      "execution_count": 0,
      "outputs": []
    }
  ]
}