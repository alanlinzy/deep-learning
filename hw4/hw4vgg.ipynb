{
  "nbformat": 4,
  "nbformat_minor": 0,
  "metadata": {
    "colab": {
      "name": "hw4vgg.ipynb",
      "provenance": [],
      "collapsed_sections": []
    },
    "kernelspec": {
      "name": "python3",
      "display_name": "Python 3"
    },
    "accelerator": "GPU"
  },
  "cells": [
    {
      "cell_type": "code",
      "metadata": {
        "id": "hjjzzTHKRy2_",
        "colab_type": "code",
        "outputId": "8655cc71-753a-41fb-e999-a3994b6095bb",
        "colab": {
          "base_uri": "https://localhost:8080/",
          "height": 436
        }
      },
      "source": [
        "!wget https://www.dropbox.com/s/h1n73cw33no99mz/data.pth"
      ],
      "execution_count": 0,
      "outputs": [
        {
          "output_type": "stream",
          "text": [
            "--2020-03-25 01:38:56--  https://www.dropbox.com/s/h1n73cw33no99mz/data.pth\n",
            "Resolving www.dropbox.com (www.dropbox.com)... 162.125.65.1, 2620:100:6021:1::a27d:4101\n",
            "Connecting to www.dropbox.com (www.dropbox.com)|162.125.65.1|:443... connected.\n",
            "HTTP request sent, awaiting response... 301 Moved Permanently\n",
            "Location: /s/raw/h1n73cw33no99mz/data.pth [following]\n",
            "--2020-03-25 01:38:56--  https://www.dropbox.com/s/raw/h1n73cw33no99mz/data.pth\n",
            "Reusing existing connection to www.dropbox.com:443.\n",
            "HTTP request sent, awaiting response... 302 Found\n",
            "Location: https://ucbdde09052dbb5c47c12ec55c12.dl.dropboxusercontent.com/cd/0/inline/A0g1f_k-YW0pSgfcUbBil3Z-v_VwschAJY8OYboe5Jgb7HELlcdwxnun210O5v8yOI89TzAMgEAyOssEIE3yAkzzaQp-4AzMcwx0FIflOxUPP6sZLiozqKcobYBhtq85-Ew/file# [following]\n",
            "--2020-03-25 01:38:56--  https://ucbdde09052dbb5c47c12ec55c12.dl.dropboxusercontent.com/cd/0/inline/A0g1f_k-YW0pSgfcUbBil3Z-v_VwschAJY8OYboe5Jgb7HELlcdwxnun210O5v8yOI89TzAMgEAyOssEIE3yAkzzaQp-4AzMcwx0FIflOxUPP6sZLiozqKcobYBhtq85-Ew/file\n",
            "Resolving ucbdde09052dbb5c47c12ec55c12.dl.dropboxusercontent.com (ucbdde09052dbb5c47c12ec55c12.dl.dropboxusercontent.com)... 162.125.65.6, 2620:100:6021:6::a27d:4106\n",
            "Connecting to ucbdde09052dbb5c47c12ec55c12.dl.dropboxusercontent.com (ucbdde09052dbb5c47c12ec55c12.dl.dropboxusercontent.com)|162.125.65.6|:443... connected.\n",
            "HTTP request sent, awaiting response... 302 FOUND\n",
            "Location: /cd/0/inline2/A0ji_fNe3MylpM14UNiyguWOppFrQOYS7tslx_0yjlw3jyBRMAj1SxqrRANkyWRhSmZ9mqMLN8zzcH99HglarMp96GYt1QuwhhGdYdvC0JGbno1iLCoFTZZaVx1hMU13CG2RrXimrkimznIZJe5o-6FNg-iQVBdCQYwRdl9lhbYNfduyH0Fcj_qwaq2re5SASNhNjeex4A1P1UzsdNmT643hjjBETwp89RRFGNqsPzh5Xsn98oTKh_3r5T2q8c0zKHFWfnK6Oa_FRum71yUBPRdbUnGHgQIpz2qQT_rOvMCWbtQfQMaXYWOTrVQ_bkY9LtdRGXTC3b0yJRq6cwGnImRZQg6HCT2Mya0ZvO5orrQBCw/file [following]\n",
            "--2020-03-25 01:38:57--  https://ucbdde09052dbb5c47c12ec55c12.dl.dropboxusercontent.com/cd/0/inline2/A0ji_fNe3MylpM14UNiyguWOppFrQOYS7tslx_0yjlw3jyBRMAj1SxqrRANkyWRhSmZ9mqMLN8zzcH99HglarMp96GYt1QuwhhGdYdvC0JGbno1iLCoFTZZaVx1hMU13CG2RrXimrkimznIZJe5o-6FNg-iQVBdCQYwRdl9lhbYNfduyH0Fcj_qwaq2re5SASNhNjeex4A1P1UzsdNmT643hjjBETwp89RRFGNqsPzh5Xsn98oTKh_3r5T2q8c0zKHFWfnK6Oa_FRum71yUBPRdbUnGHgQIpz2qQT_rOvMCWbtQfQMaXYWOTrVQ_bkY9LtdRGXTC3b0yJRq6cwGnImRZQg6HCT2Mya0ZvO5orrQBCw/file\n",
            "Reusing existing connection to ucbdde09052dbb5c47c12ec55c12.dl.dropboxusercontent.com:443.\n",
            "HTTP request sent, awaiting response... 200 OK\n",
            "Length: 266735560 (254M) [application/octet-stream]\n",
            "Saving to: ‘data.pth.1’\n",
            "\n",
            "data.pth.1          100%[===================>] 254.38M  50.3MB/s    in 4.8s    \n",
            "\n",
            "2020-03-25 01:39:03 (53.5 MB/s) - ‘data.pth.1’ saved [266735560/266735560]\n",
            "\n"
          ],
          "name": "stdout"
        }
      ]
    },
    {
      "cell_type": "code",
      "metadata": {
        "id": "exLdqIK2R6G4",
        "colab_type": "code",
        "colab": {}
      },
      "source": [
        "import torch\n",
        "import torch.nn as nn\n",
        "import torch.nn.functional as F\n",
        "import torch.optim as optim\n",
        "from torchvision import datasets, transforms\n",
        "import numpy as np\n",
        "import matplotlib.pyplot as plt\n",
        "from torch.autograd import Variable\n",
        "from PIL import Image\n",
        "import random\n",
        "random.seed(7)\n",
        "torch.manual_seed(7)\n",
        "torch.cuda.manual_seed(7)\n",
        "np.random.seed(7)\n",
        "torch.backends.cudnn.deterministic = True\n",
        "torch.backends.cudnn.benchmark = False"
      ],
      "execution_count": 0,
      "outputs": []
    },
    {
      "cell_type": "code",
      "metadata": {
        "id": "IFni7QGMSJR4",
        "colab_type": "code",
        "outputId": "f9718f4e-fe40-40d2-cfef-234f90e8784d",
        "colab": {
          "base_uri": "https://localhost:8080/",
          "height": 66
        }
      },
      "source": [
        "train_x, train_y, dev_x, dev_y, test_x = torch.load('data.pth')\n",
        "\n",
        "print('Training size:', train_x.shape, train_y.shape)\n",
        "print('Development size:', dev_x.shape, dev_y.shape)\n",
        "print('Test size:', test_x.shape)"
      ],
      "execution_count": 0,
      "outputs": [
        {
          "output_type": "stream",
          "text": [
            "Training size: (45000, 3, 32, 32) (45000,)\n",
            "Development size: (5000, 3, 32, 32) (5000,)\n",
            "Test size: (10000, 3, 32, 32)\n"
          ],
          "name": "stdout"
        }
      ]
    },
    {
      "cell_type": "code",
      "metadata": {
        "id": "8JfY3EXS0X94",
        "colab_type": "code",
        "colab": {}
      },
      "source": [
        "img_tran_train = transforms.Compose([\n",
        " \t transforms.RandomHorizontalFlip(p=0.5),\n",
        "\t transforms.RandomVerticalFlip(p=0.5),\n",
        "   transforms.ToTensor()\n",
        "])"
      ],
      "execution_count": 0,
      "outputs": []
    },
    {
      "cell_type": "code",
      "metadata": {
        "id": "e3ZcFQ9f0UeT",
        "colab_type": "code",
        "colab": {}
      },
      "source": [
        "for i in range(len(train_x)):\n",
        "  if random.randint(0,1):\n",
        "    image = Variable(torch.from_numpy(train_x[i]))\n",
        "    image = torch.unsqueeze(image.permute(1, 2, 0), 0)\n",
        "    image  = image.detach().cpu().numpy().squeeze()   \n",
        "    img = Image.fromarray(image.astype('uint8')).convert('RGB')\n",
        "    image = img_tran_train(img)\n",
        "    train_x[i] = np.array(image)"
      ],
      "execution_count": 0,
      "outputs": []
    },
    {
      "cell_type": "code",
      "metadata": {
        "id": "MGl5nCUNSNrA",
        "colab_type": "code",
        "outputId": "dd56d875-5b26-4343-971f-fade2a29278b",
        "colab": {
          "base_uri": "https://localhost:8080/",
          "height": 282
        }
      },
      "source": [
        "sample_num =random.randint(1,len(train_x))\n",
        "image = train_x[sample_num]\n",
        "image_ = Variable(torch.from_numpy(image))\n",
        "image_ = torch.unsqueeze(image_.permute(1, 2, 0), 0)\n",
        "plt.imshow(image_.detach().cpu().numpy().squeeze())"
      ],
      "execution_count": 0,
      "outputs": [
        {
          "output_type": "execute_result",
          "data": {
            "text/plain": [
              "<matplotlib.image.AxesImage at 0x7f34a0e063c8>"
            ]
          },
          "metadata": {
            "tags": []
          },
          "execution_count": 30
        },
        {
          "output_type": "display_data",
          "data": {
            "image/png": "[encoded data removed]",
            "text/plain": [
              "<Figure size 432x288 with 1 Axes>"
            ]
          },
          "metadata": {
            "tags": []
          }
        }
      ]
    },
    {
      "cell_type": "code",
      "metadata": {
        "id": "EQVVSUE2SOVo",
        "colab_type": "code",
        "colab": {}
      },
      "source": [
        "def normalize_stats_image_by_image(images):\n",
        "  mean = images.mean(axis=(1,2), keepdims=True)\n",
        "  stdev = images.std(axis=(1,2), keepdims=True)\n",
        "  return (images - mean) / (images.max() - images.min())\n",
        "  \n",
        "train_images = normalize_stats_image_by_image(train_x)\n",
        "dev_images = normalize_stats_image_by_image(dev_x)\n",
        "test_images = normalize_stats_image_by_image(test_x)"
      ],
      "execution_count": 0,
      "outputs": []
    },
    {
      "cell_type": "code",
      "metadata": {
        "id": "SKMm5uR-SRv_",
        "colab_type": "code",
        "outputId": "a126d60d-1e7b-465c-eac1-6c8416c3a1d3",
        "colab": {
          "base_uri": "https://localhost:8080/",
          "height": 33
        }
      },
      "source": [
        "trx = Variable(torch.from_numpy(train_images))\n",
        "dx = Variable(torch.from_numpy(dev_images))\n",
        "tex = Variable(torch.from_numpy(test_images))\n",
        "print(trx.shape)"
      ],
      "execution_count": 0,
      "outputs": [
        {
          "output_type": "stream",
          "text": [
            "torch.Size([45000, 3, 32, 32])\n"
          ],
          "name": "stdout"
        }
      ]
    },
    {
      "cell_type": "code",
      "metadata": {
        "id": "LOxcXCBGSVev",
        "colab_type": "code",
        "colab": {}
      },
      "source": [
        "torch.cuda.is_available()\n",
        "torch.cuda.empty_cache() "
      ],
      "execution_count": 0,
      "outputs": []
    },
    {
      "cell_type": "code",
      "metadata": {
        "id": "s2ARbNFTShaR",
        "colab_type": "code",
        "colab": {}
      },
      "source": [
        "cfg = {\n",
        "    'VGG11': [64, 'M', 128, 'M', 256, 256, 'M', 512, 512, 'M', 512, 512, 'M'],\n",
        "    'VGG13': [64, 64, 'M', 128, 128, 'M', 256, 256, 'M', 512, 512, 'M', 512, 512, 'M'],\n",
        "    'VGG16': [64, 64, 'M', 128, 128, 'M', 256, 256, 256, 'M', 512, 512, 512, 'M', 512, 512, 512, 'M'],\n",
        "    'VGG19': [64, 64, 'M', 128, 128, 'M', 256, 256, 256, 256, 'M', 512, 512, 512, 512, 'M', 512, 512, 512, 512, 'M'],\n",
        "}\n",
        "\n",
        "# 模型需继承nn.Module\n",
        "class VGG(nn.Module):\n",
        "# 初始化参数：\n",
        "    def __init__(self, vgg_name):\n",
        "        super(VGG, self).__init__()\n",
        "        self.features = self._make_layers(cfg[vgg_name])\n",
        "        self.classifier = nn.Linear(512, 100)\n",
        "\n",
        "# 模型计算时的前向过程，也就是按照这个过程进行计算\n",
        "    def forward(self, x):\n",
        "        out = self.features(x)\n",
        "        out = out.view(out.size(0), -1)\n",
        "        out = self.classifier(out)\n",
        "        return out\n",
        "\n",
        "    def _make_layers(self, cfg):\n",
        "        layers = []\n",
        "        in_channels = 3\n",
        "        for x in cfg:\n",
        "            if x == 'M':\n",
        "                layers += [nn.MaxPool2d(kernel_size=2, stride=2),nn.Dropout(p=0.1)]\n",
        "            else:\n",
        "                layers += [nn.Conv2d(in_channels, x, kernel_size=3, padding=1),\n",
        "                           nn.BatchNorm2d(x),\n",
        "                           nn.ReLU(inplace=True)]\n",
        "                in_channels = x\n",
        "        layers += [nn.AvgPool2d(kernel_size=1, stride=1)]\n",
        "        return nn.Sequential(*layers)\n"
      ],
      "execution_count": 0,
      "outputs": []
    },
    {
      "cell_type": "code",
      "metadata": {
        "id": "fcs7KRGsS81K",
        "colab_type": "code",
        "outputId": "628db36d-76d2-4dc3-ecf1-90f35aa0dabd",
        "colab": {
          "base_uri": "https://localhost:8080/",
          "height": 1000
        }
      },
      "source": [
        "model = VGG('VGG19')\n",
        "model.cuda()\n",
        "#x = torch.randn(2,3,32,32)\n",
        "#print(model(Variable(x)).size())"
      ],
      "execution_count": 0,
      "outputs": [
        {
          "output_type": "execute_result",
          "data": {
            "text/plain": [
              "VGG(\n",
              "  (features): Sequential(\n",
              "    (0): Conv2d(3, 64, kernel_size=(3, 3), stride=(1, 1), padding=(1, 1))\n",
              "    (1): BatchNorm2d(64, eps=1e-05, momentum=0.1, affine=True, track_running_stats=True)\n",
              "    (2): ReLU(inplace=True)\n",
              "    (3): Conv2d(64, 64, kernel_size=(3, 3), stride=(1, 1), padding=(1, 1))\n",
              "    (4): BatchNorm2d(64, eps=1e-05, momentum=0.1, affine=True, track_running_stats=True)\n",
              "    (5): ReLU(inplace=True)\n",
              "    (6): MaxPool2d(kernel_size=2, stride=2, padding=0, dilation=1, ceil_mode=False)\n",
              "    (7): Dropout(p=0.1, inplace=False)\n",
              "    (8): Conv2d(64, 128, kernel_size=(3, 3), stride=(1, 1), padding=(1, 1))\n",
              "    (9): BatchNorm2d(128, eps=1e-05, momentum=0.1, affine=True, track_running_stats=True)\n",
              "    (10): ReLU(inplace=True)\n",
              "    (11): Conv2d(128, 128, kernel_size=(3, 3), stride=(1, 1), padding=(1, 1))\n",
              "    (12): BatchNorm2d(128, eps=1e-05, momentum=0.1, affine=True, track_running_stats=True)\n",
              "    (13): ReLU(inplace=True)\n",
              "    (14): MaxPool2d(kernel_size=2, stride=2, padding=0, dilation=1, ceil_mode=False)\n",
              "    (15): Dropout(p=0.1, inplace=False)\n",
              "    (16): Conv2d(128, 256, kernel_size=(3, 3), stride=(1, 1), padding=(1, 1))\n",
              "    (17): BatchNorm2d(256, eps=1e-05, momentum=0.1, affine=True, track_running_stats=True)\n",
              "    (18): ReLU(inplace=True)\n",
              "    (19): Conv2d(256, 256, kernel_size=(3, 3), stride=(1, 1), padding=(1, 1))\n",
              "    (20): BatchNorm2d(256, eps=1e-05, momentum=0.1, affine=True, track_running_stats=True)\n",
              "    (21): ReLU(inplace=True)\n",
              "    (22): Conv2d(256, 256, kernel_size=(3, 3), stride=(1, 1), padding=(1, 1))\n",
              "    (23): BatchNorm2d(256, eps=1e-05, momentum=0.1, affine=True, track_running_stats=True)\n",
              "    (24): ReLU(inplace=True)\n",
              "    (25): Conv2d(256, 256, kernel_size=(3, 3), stride=(1, 1), padding=(1, 1))\n",
              "    (26): BatchNorm2d(256, eps=1e-05, momentum=0.1, affine=True, track_running_stats=True)\n",
              "    (27): ReLU(inplace=True)\n",
              "    (28): MaxPool2d(kernel_size=2, stride=2, padding=0, dilation=1, ceil_mode=False)\n",
              "    (29): Dropout(p=0.1, inplace=False)\n",
              "    (30): Conv2d(256, 512, kernel_size=(3, 3), stride=(1, 1), padding=(1, 1))\n",
              "    (31): BatchNorm2d(512, eps=1e-05, momentum=0.1, affine=True, track_running_stats=True)\n",
              "    (32): ReLU(inplace=True)\n",
              "    (33): Conv2d(512, 512, kernel_size=(3, 3), stride=(1, 1), padding=(1, 1))\n",
              "    (34): BatchNorm2d(512, eps=1e-05, momentum=0.1, affine=True, track_running_stats=True)\n",
              "    (35): ReLU(inplace=True)\n",
              "    (36): Conv2d(512, 512, kernel_size=(3, 3), stride=(1, 1), padding=(1, 1))\n",
              "    (37): BatchNorm2d(512, eps=1e-05, momentum=0.1, affine=True, track_running_stats=True)\n",
              "    (38): ReLU(inplace=True)\n",
              "    (39): Conv2d(512, 512, kernel_size=(3, 3), stride=(1, 1), padding=(1, 1))\n",
              "    (40): BatchNorm2d(512, eps=1e-05, momentum=0.1, affine=True, track_running_stats=True)\n",
              "    (41): ReLU(inplace=True)\n",
              "    (42): MaxPool2d(kernel_size=2, stride=2, padding=0, dilation=1, ceil_mode=False)\n",
              "    (43): Dropout(p=0.1, inplace=False)\n",
              "    (44): Conv2d(512, 512, kernel_size=(3, 3), stride=(1, 1), padding=(1, 1))\n",
              "    (45): BatchNorm2d(512, eps=1e-05, momentum=0.1, affine=True, track_running_stats=True)\n",
              "    (46): ReLU(inplace=True)\n",
              "    (47): Conv2d(512, 512, kernel_size=(3, 3), stride=(1, 1), padding=(1, 1))\n",
              "    (48): BatchNorm2d(512, eps=1e-05, momentum=0.1, affine=True, track_running_stats=True)\n",
              "    (49): ReLU(inplace=True)\n",
              "    (50): Conv2d(512, 512, kernel_size=(3, 3), stride=(1, 1), padding=(1, 1))\n",
              "    (51): BatchNorm2d(512, eps=1e-05, momentum=0.1, affine=True, track_running_stats=True)\n",
              "    (52): ReLU(inplace=True)\n",
              "    (53): Conv2d(512, 512, kernel_size=(3, 3), stride=(1, 1), padding=(1, 1))\n",
              "    (54): BatchNorm2d(512, eps=1e-05, momentum=0.1, affine=True, track_running_stats=True)\n",
              "    (55): ReLU(inplace=True)\n",
              "    (56): MaxPool2d(kernel_size=2, stride=2, padding=0, dilation=1, ceil_mode=False)\n",
              "    (57): Dropout(p=0.1, inplace=False)\n",
              "    (58): AvgPool2d(kernel_size=1, stride=1, padding=0)\n",
              "  )\n",
              "  (classifier): Linear(in_features=512, out_features=100, bias=True)\n",
              ")"
            ]
          },
          "metadata": {
            "tags": []
          },
          "execution_count": 35
        }
      ]
    },
    {
      "cell_type": "code",
      "metadata": {
        "id": "SHfUX4WFSi8h",
        "colab_type": "code",
        "colab": {}
      },
      "source": [
        "criterion = nn.CrossEntropyLoss()\n",
        "optimizer = optim.SGD(model.parameters(), lr=0.001, momentum=0.9, weight_decay=5e-4)"
      ],
      "execution_count": 0,
      "outputs": []
    },
    {
      "cell_type": "code",
      "metadata": {
        "id": "VONuAjP1OuQ_",
        "colab_type": "code",
        "colab": {}
      },
      "source": [
        "def train_step(batch_size=128):\n",
        "  \n",
        "  model.train()\n",
        "\n",
        "  input_batch, label_batch = batch(batch_size, training=True)\n",
        "  #print(input_batch)\n",
        "  output_batch = model(input_batch)\n",
        "  #print(output_batch)\n",
        "  loss = F.cross_entropy(output_batch, label_batch)\n",
        "  train_loss = loss.item()\n",
        "  _, pred_batch = torch.max(output_batch, dim=1)\n",
        "  error_rate = 1.0 - (pred_batch == label_batch).float().mean()\n",
        "  #correct = pred_batch.eq(output_batch).cpu().sum()\n",
        "  #error_rate =1.0 - correct\n",
        "\n",
        "  optimizer.zero_grad()\n",
        "  loss.backward()\n",
        "  \n",
        "  optimizer.step()\n",
        "  \n",
        "  return train_loss, error_rate.item()#loss.item(), error_rate.item()"
      ],
      "execution_count": 0,
      "outputs": []
    },
    {
      "cell_type": "code",
      "metadata": {
        "id": "-VXclR84PIrz",
        "colab_type": "code",
        "colab": {}
      },
      "source": [
        "def val(batch_size=100):\n",
        "  \n",
        "  model.eval()\n",
        "  input_batch, label_batch = batch(batch_size, training=False)\n",
        "  output_batch = model(input_batch)\n",
        "\n",
        "  loss = criterion(output_batch, label_batch)\n",
        "  test_loss = loss.item()\n",
        "  #print(loss)\n",
        "  _, pred_batch = torch.max(output_batch, dim=1)\n",
        "  error_rate = 1.0 - (pred_batch == label_batch).float().mean()\n",
        "  #correct = pred_batch.eq(output_batch).cpu().sum()\n",
        "  #error_rate =1.0 - correct\n",
        "  return test_loss, error_rate.item() #loss.item(), error_rate.item()"
      ],
      "execution_count": 0,
      "outputs": []
    },
    {
      "cell_type": "code",
      "metadata": {
        "id": "wSI-5CBfPNFe",
        "colab_type": "code",
        "colab": {}
      },
      "source": [
        "def batch(batch_size, training=True):\n",
        "  \"\"\"Create a batch of examples.\n",
        "  \n",
        "  This creates a batch of input images and a batch of corresponding\n",
        "  ground-truth labels. We assume CUDA is available (with a GPU).\n",
        "  \n",
        "  Args:\n",
        "    batch_size: An integer.\n",
        "    training: A boolean. If True, grab examples from the training\n",
        "      set; otherwise, grab them from the validation set.\n",
        "  \n",
        "  Returns:\n",
        "    A tuple,\n",
        "    input_batch: A Variable of floats with shape\n",
        "      [batch_size, 1, height, width]\n",
        "    label_batch: A Variable of ints with shape\n",
        "      [batch_size].\n",
        "  \"\"\"\n",
        "  if training:\n",
        "    random_ind = np.random.choice(train_images.shape[0], size=batch_size, replace=False)\n",
        "    input_batch = train_images[random_ind]\n",
        "    label_batch = train_y[random_ind]\n",
        "  else:\n",
        "    input_batch = dev_images[:batch_size]\n",
        "    label_batch = dev_y[:batch_size]\n",
        "  \n",
        "  #input_batch = input_batch[:, np.newaxis, :, :]\n",
        "  \n",
        "  input_batch = torch.tensor(input_batch, requires_grad=False, device='cuda').type(torch.FloatTensor).cuda()\n",
        "  label_batch = torch.tensor(label_batch, requires_grad=False, device='cuda')\n",
        "  #print(input_batch.shape)\n",
        "  return input_batch, label_batch\n"
      ],
      "execution_count": 0,
      "outputs": []
    },
    {
      "cell_type": "code",
      "metadata": {
        "id": "jKKzMzCuPOv3",
        "colab_type": "code",
        "outputId": "e0723812-2c08-416d-8bb0-5bf0e37d35e3",
        "colab": {
          "base_uri": "https://localhost:8080/",
          "height": 814
        }
      },
      "source": [
        "# Let's make sure we always start from scratch (that is,\n",
        "# without starting from parameters from a previous run).\n",
        "#for module in model.children():\n",
        "  #module.reset_parameters()\n",
        "\n",
        "info = []\n",
        "fig, ax = plt.subplots(2, 1, sharex=True)\n",
        "num_steps = 10000\n",
        "num_steps_per_val = 100\n",
        "best_val_err = 1.0\n",
        "for step in range(num_steps):\n",
        "  train_loss, train_err = train_step()\n",
        "  val_loss, val_err = val()\n",
        "  if val_err < best_val_err:\n",
        "    best_val_err = val_err\n",
        "    print('Step {:5d}: Obtained a best validation error of {:.3f}.'.format(step, best_val_err))\n",
        "  if step % num_steps_per_val == 0:\n",
        "    #print(val_loss)\n",
        "    info.append([step, train_loss, val_loss, train_err, val_err])\n",
        "    x, y11, y12, y21, y22 = zip(*info)\n",
        "    ax[0].plot(x, y11, x, y12)\n",
        "    ax[0].legend(['Train loss', 'Val loss'])\n",
        "    ax[1].plot(x, y21, x, y22)\n",
        "    ax[1].legend(['Train err', 'Val err'])\n",
        "    #ax[1].set_ylim([0.0, 0.25])\n",
        "    "
      ],
      "execution_count": 0,
      "outputs": [
        {
          "output_type": "stream",
          "text": [
            "Step     0: Obtained a best validation error of 0.980.\n",
            "Step    30: Obtained a best validation error of 0.970.\n",
            "Step    55: Obtained a best validation error of 0.960.\n",
            "Step    56: Obtained a best validation error of 0.940.\n",
            "Step    57: Obtained a best validation error of 0.920.\n",
            "Step   140: Obtained a best validation error of 0.910.\n",
            "Step   164: Obtained a best validation error of 0.900.\n",
            "Step   169: Obtained a best validation error of 0.880.\n",
            "Step   170: Obtained a best validation error of 0.870.\n",
            "Step   220: Obtained a best validation error of 0.860.\n",
            "Step   329: Obtained a best validation error of 0.830.\n",
            "Step   420: Obtained a best validation error of 0.810.\n",
            "Step   444: Obtained a best validation error of 0.800.\n",
            "Step   572: Obtained a best validation error of 0.790.\n",
            "Step   573: Obtained a best validation error of 0.750.\n",
            "Step   574: Obtained a best validation error of 0.730.\n",
            "Step   664: Obtained a best validation error of 0.720.\n",
            "Step   665: Obtained a best validation error of 0.690.\n",
            "Step  1194: Obtained a best validation error of 0.680.\n",
            "Step  1195: Obtained a best validation error of 0.660.\n",
            "Step  1595: Obtained a best validation error of 0.650.\n",
            "Step  1883: Obtained a best validation error of 0.630.\n",
            "Step  1980: Obtained a best validation error of 0.620.\n",
            "Step  2260: Obtained a best validation error of 0.550.\n",
            "Step  3609: Obtained a best validation error of 0.540.\n",
            "Step  3610: Obtained a best validation error of 0.530.\n",
            "Step  3611: Obtained a best validation error of 0.520.\n",
            "Step  3958: Obtained a best validation error of 0.510.\n",
            "Step  4564: Obtained a best validation error of 0.500.\n",
            "Step  6050: Obtained a best validation error of 0.490.\n",
            "Step  6378: Obtained a best validation error of 0.480.\n",
            "Step  7101: Obtained a best validation error of 0.460.\n",
            "Step  9314: Obtained a best validation error of 0.450.\n"
          ],
          "name": "stdout"
        },
        {
          "output_type": "display_data",
          "data": {
            "image/png": "[encoded data removed]",
            "text/plain": [
              "<Figure size 432x288 with 2 Axes>"
            ]
          },
          "metadata": {
            "tags": []
          }
        }
      ]
    },
    {
      "cell_type": "code",
      "metadata": {
        "id": "X7gQnZtqS3FY",
        "colab_type": "code",
        "colab": {}
      },
      "source": [
        "\n",
        "from typing import List\n",
        "def write_prediction(prediction: List[int], filename: str,t):\n",
        "    with open(filename, 'a') as fp:\n",
        "        if t == 0:\n",
        "          print('Id,Category', file=fp)\n",
        "        for i, pred in enumerate(prediction):\n",
        "          print(f'{t},{pred}', file=fp)\n",
        "        \n"
      ],
      "execution_count": 0,
      "outputs": []
    },
    {
      "cell_type": "code",
      "metadata": {
        "id": "dyZ9wH5-0qMT",
        "colab_type": "code",
        "colab": {}
      },
      "source": [
        "test = torch.tensor(test_images, requires_grad=False, device='cuda').type(torch.FloatTensor).cuda()\n",
        "for t in range(len(test)):\n",
        "  #print(test[t:t+1,:,:,:])\n",
        "  outputs = model(test[t:t+1,:,:,:])\n",
        "  _,prediction = torch.max(outputs.data, 1)\n",
        "  write_prediction(prediction, 'vgg.csv',t)"
      ],
      "execution_count": 0,
      "outputs": []
    },
    {
      "cell_type": "code",
      "metadata": {
        "id": "49pjKD-NnYZW",
        "colab_type": "code",
        "colab": {}
      },
      "source": [
        "from google.colab import files\n",
        "\n",
        "files.download('vgg.csv')"
      ],
      "execution_count": 0,
      "outputs": []
    }
  ]
}