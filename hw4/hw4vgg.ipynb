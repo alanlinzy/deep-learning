{
  "nbformat": 4,
  "nbformat_minor": 0,
  "metadata": {
    "colab": {
      "name": "hw4vgg.ipynb",
      "provenance": [],
      "collapsed_sections": []
    },
    "kernelspec": {
      "name": "python3",
      "display_name": "Python 3"
    },
    "accelerator": "GPU"
  },
  "cells": [
    {
      "cell_type": "code",
      "metadata": {
        "id": "hjjzzTHKRy2_",
        "colab_type": "code",
        "outputId": "55379d77-e9f3-4605-9d3b-deb624121b31",
        "colab": {
          "base_uri": "https://localhost:8080/",
          "height": 487
        }
      },
      "source": [
        "!wget https://www.dropbox.com/s/h1n73cw33no99mz/data.pth"
      ],
      "execution_count": 68,
      "outputs": [
        {
          "output_type": "stream",
          "text": [
            "--2020-03-28 01:18:46--  https://www.dropbox.com/s/h1n73cw33no99mz/data.pth\n",
            "Resolving www.dropbox.com (www.dropbox.com)... 162.125.8.1, 2620:100:601b:1::a27d:801\n",
            "Connecting to www.dropbox.com (www.dropbox.com)|162.125.8.1|:443... connected.\n",
            "HTTP request sent, awaiting response... 301 Moved Permanently\n",
            "Location: /s/raw/h1n73cw33no99mz/data.pth [following]\n",
            "--2020-03-28 01:18:46--  https://www.dropbox.com/s/raw/h1n73cw33no99mz/data.pth\n",
            "Reusing existing connection to www.dropbox.com:443.\n",
            "HTTP request sent, awaiting response... 302 Found\n",
            "Location: https://uca29ce537119bbceffbe35ccdbd.dl.dropboxusercontent.com/cd/0/inline/A0vapC13NTBAYhC_CuOWWZdrINwpYSBMK2_OKsy9V5USlO8o14S-P2BSRnQmTf1GddjdhkLRWicFvbd0BVC6Dr1J9ToCUm-6Ogb1IYzlm16p_xm3nEDGjyv6Ui8EzFZ3zjg/file# [following]\n",
            "--2020-03-28 01:18:46--  https://uca29ce537119bbceffbe35ccdbd.dl.dropboxusercontent.com/cd/0/inline/A0vapC13NTBAYhC_CuOWWZdrINwpYSBMK2_OKsy9V5USlO8o14S-P2BSRnQmTf1GddjdhkLRWicFvbd0BVC6Dr1J9ToCUm-6Ogb1IYzlm16p_xm3nEDGjyv6Ui8EzFZ3zjg/file\n",
            "Resolving uca29ce537119bbceffbe35ccdbd.dl.dropboxusercontent.com (uca29ce537119bbceffbe35ccdbd.dl.dropboxusercontent.com)... 162.125.8.6, 2620:100:601b:6::a27d:806\n",
            "Connecting to uca29ce537119bbceffbe35ccdbd.dl.dropboxusercontent.com (uca29ce537119bbceffbe35ccdbd.dl.dropboxusercontent.com)|162.125.8.6|:443... connected.\n",
            "HTTP request sent, awaiting response... 302 FOUND\n",
            "Location: /cd/0/inline2/A0uswjgrQpESkbeMyn_Z0kdFs4IedBMmDF9LQM8UJexnroYr7zqqbRxu9XNiLL0ZnK42Ht9_a75gAO0vabXn42hUw4X0-Id3AvrOoLj1H9AsSZt5ftKgOaEneOMpgnW3O6EE5NrZMOn6Bpo5ztk9RcPhipLbdWPLjRhtBKdG-41p6iJABjyyQopGYnjU62GXjNBOi-l3gYbxxlvTfPEqXOeQ3fen02i2LgcXlGsq9L8R3QbQAefS29ALAdL-LbuNMtXb919uuVCLAIRnGMg-Kxq2Uey-Ggt-NnPm4ON1LbEsRnjf5EutYcVYOzN3FKjj-s6ki9o8AN6iZnHv2S14GA115BX2zsNWSvcisr0HWMN-Ag/file [following]\n",
            "--2020-03-28 01:18:48--  https://uca29ce537119bbceffbe35ccdbd.dl.dropboxusercontent.com/cd/0/inline2/A0uswjgrQpESkbeMyn_Z0kdFs4IedBMmDF9LQM8UJexnroYr7zqqbRxu9XNiLL0ZnK42Ht9_a75gAO0vabXn42hUw4X0-Id3AvrOoLj1H9AsSZt5ftKgOaEneOMpgnW3O6EE5NrZMOn6Bpo5ztk9RcPhipLbdWPLjRhtBKdG-41p6iJABjyyQopGYnjU62GXjNBOi-l3gYbxxlvTfPEqXOeQ3fen02i2LgcXlGsq9L8R3QbQAefS29ALAdL-LbuNMtXb919uuVCLAIRnGMg-Kxq2Uey-Ggt-NnPm4ON1LbEsRnjf5EutYcVYOzN3FKjj-s6ki9o8AN6iZnHv2S14GA115BX2zsNWSvcisr0HWMN-Ag/file\n",
            "Reusing existing connection to uca29ce537119bbceffbe35ccdbd.dl.dropboxusercontent.com:443.\n",
            "HTTP request sent, awaiting response... 200 OK\n",
            "Length: 266735560 (254M) [application/octet-stream]\n",
            "Saving to: ‘data.pth.4’\n",
            "\n",
            "data.pth.4          100%[===================>] 254.38M  53.1MB/s    in 4.9s    \n",
            "\n",
            "2020-03-28 01:18:53 (52.2 MB/s) - ‘data.pth.4’ saved [266735560/266735560]\n",
            "\n"
          ],
          "name": "stdout"
        }
      ]
    },
    {
      "cell_type": "code",
      "metadata": {
        "id": "exLdqIK2R6G4",
        "colab_type": "code",
        "colab": {}
      },
      "source": [
        "import torch\n",
        "import torch.nn as nn\n",
        "import torch.nn.functional as F\n",
        "import torch.optim as optim\n",
        "from torchvision import datasets, transforms\n",
        "import numpy as np\n",
        "import matplotlib.pyplot as plt\n",
        "from torch.autograd import Variable\n",
        "from PIL import Image\n",
        "import random\n",
        "random.seed(7)\n",
        "torch.manual_seed(7)\n",
        "torch.cuda.manual_seed(7)\n",
        "np.random.seed(7)\n",
        "torch.backends.cudnn.deterministic = True\n",
        "torch.backends.cudnn.benchmark = False"
      ],
      "execution_count": 0,
      "outputs": []
    },
    {
      "cell_type": "code",
      "metadata": {
        "id": "IFni7QGMSJR4",
        "colab_type": "code",
        "outputId": "3045d1ea-39e4-4eed-8d90-420b0d0490af",
        "colab": {
          "base_uri": "https://localhost:8080/",
          "height": 73
        }
      },
      "source": [
        "train_x, train_y, dev_x, dev_y, test_x = torch.load('data.pth')\n",
        "\n",
        "print('Training size:', train_x.shape, train_y.shape)\n",
        "print('Development size:', dev_x.shape, dev_y.shape)\n",
        "print('Test size:', test_x.shape)"
      ],
      "execution_count": 70,
      "outputs": [
        {
          "output_type": "stream",
          "text": [
            "Training size: (45000, 3, 32, 32) (45000,)\n",
            "Development size: (5000, 3, 32, 32) (5000,)\n",
            "Test size: (10000, 3, 32, 32)\n"
          ],
          "name": "stdout"
        }
      ]
    },
    {
      "cell_type": "code",
      "metadata": {
        "id": "8JfY3EXS0X94",
        "colab_type": "code",
        "colab": {}
      },
      "source": [
        "#define the data augmentation\n",
        "img_tran_train = transforms.Compose([\n",
        " \t transforms.RandomHorizontalFlip(p=0.5),\n",
        "\t transforms.RandomVerticalFlip(p=0.5),\n",
        "   transforms.ToTensor()\n",
        "])"
      ],
      "execution_count": 0,
      "outputs": []
    },
    {
      "cell_type": "code",
      "metadata": {
        "id": "e3ZcFQ9f0UeT",
        "colab_type": "code",
        "colab": {
          "base_uri": "https://localhost:8080/",
          "height": 56
        },
        "outputId": "d0b03c27-d234-493e-a495-d7c64a73e511"
      },
      "source": [
        "# filp the trianing data\n",
        "'''\n",
        "for i in range(len(train_x)):\n",
        "  if random.randint(0,1):\n",
        "    image = Variable(torch.from_numpy(train_x[i]))\n",
        "    image = torch.unsqueeze(image.permute(1, 2, 0), 0)\n",
        "    image  = image.detach().cpu().numpy().squeeze()   \n",
        "    img = Image.fromarray(image.astype('uint8')).convert('RGB')\n",
        "    image = img_tran_train(img)\n",
        "    train_x[i] = np.array(image)\n",
        "'''"
      ],
      "execution_count": 72,
      "outputs": [
        {
          "output_type": "execute_result",
          "data": {
            "text/plain": [
              "\"\\nfor i in range(len(train_x)):\\n  if random.randint(0,1):\\n    image = Variable(torch.from_numpy(train_x[i]))\\n    image = torch.unsqueeze(image.permute(1, 2, 0), 0)\\n    image  = image.detach().cpu().numpy().squeeze()   \\n    img = Image.fromarray(image.astype('uint8')).convert('RGB')\\n    image = img_tran_train(img)\\n    train_x[i] = np.array(image)\\n\""
            ]
          },
          "metadata": {
            "tags": []
          },
          "execution_count": 72
        }
      ]
    },
    {
      "cell_type": "code",
      "metadata": {
        "id": "MGl5nCUNSNrA",
        "colab_type": "code",
        "outputId": "5190fa3b-4659-466f-f3c7-0df847e3b78e",
        "colab": {
          "base_uri": "https://localhost:8080/",
          "height": 285
        }
      },
      "source": [
        "sample_num =random.randint(1,len(train_x))\n",
        "image = train_x[sample_num]\n",
        "image_ = Variable(torch.from_numpy(image))\n",
        "image_ = torch.unsqueeze(image_.permute(1, 2, 0), 0)\n",
        "plt.imshow(image_.detach().cpu().numpy().squeeze())"
      ],
      "execution_count": 73,
      "outputs": [
        {
          "output_type": "execute_result",
          "data": {
            "text/plain": [
              "<matplotlib.image.AxesImage at 0x7f039c720a90>"
            ]
          },
          "metadata": {
            "tags": []
          },
          "execution_count": 73
        },
        {
          "output_type": "display_data",
          "data": {
            "image/png": "[encoded data removed]",
            "text/plain": [
              "<Figure size 432x288 with 1 Axes>"
            ]
          },
          "metadata": {
            "tags": []
          }
        }
      ]
    },
    {
      "cell_type": "code",
      "metadata": {
        "id": "EQVVSUE2SOVo",
        "colab_type": "code",
        "colab": {}
      },
      "source": [
        "def normalize_stats_image_by_image(images):\n",
        "  mean = images.mean(axis=(1,2), keepdims=True)\n",
        "  stdev = images.std(axis=(1,2), keepdims=True)\n",
        "  return (images - mean) / (images.max() - images.min())\n",
        "  \n",
        "train_images = normalize_stats_image_by_image(train_x)\n",
        "dev_images = normalize_stats_image_by_image(dev_x)\n",
        "test_images = normalize_stats_image_by_image(test_x)"
      ],
      "execution_count": 0,
      "outputs": []
    },
    {
      "cell_type": "code",
      "metadata": {
        "id": "SKMm5uR-SRv_",
        "colab_type": "code",
        "outputId": "b3eff805-a7fc-4c0c-c8f9-4b01c7ccc3d1",
        "colab": {
          "base_uri": "https://localhost:8080/",
          "height": 36
        }
      },
      "source": [
        "trx = Variable(torch.from_numpy(train_images))\n",
        "dx = Variable(torch.from_numpy(dev_images))\n",
        "tex = Variable(torch.from_numpy(test_images))\n",
        "print(trx.shape)"
      ],
      "execution_count": 75,
      "outputs": [
        {
          "output_type": "stream",
          "text": [
            "torch.Size([45000, 3, 32, 32])\n"
          ],
          "name": "stdout"
        }
      ]
    },
    {
      "cell_type": "code",
      "metadata": {
        "id": "LOxcXCBGSVev",
        "colab_type": "code",
        "colab": {}
      },
      "source": [
        "torch.cuda.is_available()\n",
        "torch.cuda.empty_cache() "
      ],
      "execution_count": 0,
      "outputs": []
    },
    {
      "cell_type": "code",
      "metadata": {
        "id": "s2ARbNFTShaR",
        "colab_type": "code",
        "colab": {}
      },
      "source": [
        "cfg = {\n",
        "    'VGG11': [64, 'M', 128, 'M', 256, 256, 'M', 512, 512, 'M', 512, 512, 'M'],\n",
        "    'VGG13': [64, 64, 'M', 128, 128, 'M', 256, 256, 'M', 512, 512, 'M', 512, 512, 'M'],\n",
        "    'VGG16': [64, 64, 'M', 128, 128, 'M', 256, 256, 256, 'M', 512, 512, 512, 'M', 512, 512, 512, 'M'],\n",
        "    'VGG19': [64, 64, 'M', 128, 128, 'M', 256, 256, 256, 256, 'M', 512, 512, 512, 512, 'M', 512, 512, 512, 512, 'M'],\n",
        "}\n",
        "\n",
        "\n",
        "class VGG(nn.Module):\n",
        "\n",
        "    def __init__(self, vgg_name):\n",
        "        super(VGG, self).__init__()\n",
        "        self.features = self._make_layers(cfg[vgg_name])\n",
        "        self.classifier = nn.Linear(512, 100)\n",
        "\n",
        "    def forward(self, x):\n",
        "        out = self.features(x)\n",
        "        out = out.view(out.size(0), -1)\n",
        "        out = self.classifier(out)\n",
        "        return out\n",
        "\n",
        "    def _make_layers(self, cfg):\n",
        "        layers = []\n",
        "        in_channels = 3\n",
        "        for x in cfg:\n",
        "            if x == 'M':\n",
        "                layers += [nn.MaxPool2d(kernel_size=2, stride=2),nn.Dropout(p=0.1)] # add dropout\n",
        "            else:\n",
        "                layers += [nn.Conv2d(in_channels, x, kernel_size=3, padding=1),\n",
        "                           nn.BatchNorm2d(x), # add batchnorm\n",
        "                           nn.ReLU(inplace=True)]\n",
        "                in_channels = x\n",
        "        layers += [nn.AvgPool2d(kernel_size=1, stride=1)]\n",
        "        return nn.Sequential(*layers)\n"
      ],
      "execution_count": 0,
      "outputs": []
    },
    {
      "cell_type": "code",
      "metadata": {
        "id": "fcs7KRGsS81K",
        "colab_type": "code",
        "outputId": "5ff2223f-2124-4b70-c896-34143e7557bd",
        "colab": {
          "base_uri": "https://localhost:8080/",
          "height": 1000
        }
      },
      "source": [
        "model = VGG('VGG19')\n",
        "model.cuda()\n",
        "#x = torch.randn(2,3,32,32)\n",
        "#print(model(Variable(x)).size())"
      ],
      "execution_count": 78,
      "outputs": [
        {
          "output_type": "execute_result",
          "data": {
            "text/plain": [
              "VGG(\n",
              "  (features): Sequential(\n",
              "    (0): Conv2d(3, 64, kernel_size=(3, 3), stride=(1, 1), padding=(1, 1))\n",
              "    (1): BatchNorm2d(64, eps=1e-05, momentum=0.1, affine=True, track_running_stats=True)\n",
              "    (2): ReLU(inplace=True)\n",
              "    (3): Conv2d(64, 64, kernel_size=(3, 3), stride=(1, 1), padding=(1, 1))\n",
              "    (4): BatchNorm2d(64, eps=1e-05, momentum=0.1, affine=True, track_running_stats=True)\n",
              "    (5): ReLU(inplace=True)\n",
              "    (6): MaxPool2d(kernel_size=2, stride=2, padding=0, dilation=1, ceil_mode=False)\n",
              "    (7): Dropout(p=0.1, inplace=False)\n",
              "    (8): Conv2d(64, 128, kernel_size=(3, 3), stride=(1, 1), padding=(1, 1))\n",
              "    (9): BatchNorm2d(128, eps=1e-05, momentum=0.1, affine=True, track_running_stats=True)\n",
              "    (10): ReLU(inplace=True)\n",
              "    (11): Conv2d(128, 128, kernel_size=(3, 3), stride=(1, 1), padding=(1, 1))\n",
              "    (12): BatchNorm2d(128, eps=1e-05, momentum=0.1, affine=True, track_running_stats=True)\n",
              "    (13): ReLU(inplace=True)\n",
              "    (14): MaxPool2d(kernel_size=2, stride=2, padding=0, dilation=1, ceil_mode=False)\n",
              "    (15): Dropout(p=0.1, inplace=False)\n",
              "    (16): Conv2d(128, 256, kernel_size=(3, 3), stride=(1, 1), padding=(1, 1))\n",
              "    (17): BatchNorm2d(256, eps=1e-05, momentum=0.1, affine=True, track_running_stats=True)\n",
              "    (18): ReLU(inplace=True)\n",
              "    (19): Conv2d(256, 256, kernel_size=(3, 3), stride=(1, 1), padding=(1, 1))\n",
              "    (20): BatchNorm2d(256, eps=1e-05, momentum=0.1, affine=True, track_running_stats=True)\n",
              "    (21): ReLU(inplace=True)\n",
              "    (22): Conv2d(256, 256, kernel_size=(3, 3), stride=(1, 1), padding=(1, 1))\n",
              "    (23): BatchNorm2d(256, eps=1e-05, momentum=0.1, affine=True, track_running_stats=True)\n",
              "    (24): ReLU(inplace=True)\n",
              "    (25): Conv2d(256, 256, kernel_size=(3, 3), stride=(1, 1), padding=(1, 1))\n",
              "    (26): BatchNorm2d(256, eps=1e-05, momentum=0.1, affine=True, track_running_stats=True)\n",
              "    (27): ReLU(inplace=True)\n",
              "    (28): MaxPool2d(kernel_size=2, stride=2, padding=0, dilation=1, ceil_mode=False)\n",
              "    (29): Dropout(p=0.1, inplace=False)\n",
              "    (30): Conv2d(256, 512, kernel_size=(3, 3), stride=(1, 1), padding=(1, 1))\n",
              "    (31): BatchNorm2d(512, eps=1e-05, momentum=0.1, affine=True, track_running_stats=True)\n",
              "    (32): ReLU(inplace=True)\n",
              "    (33): Conv2d(512, 512, kernel_size=(3, 3), stride=(1, 1), padding=(1, 1))\n",
              "    (34): BatchNorm2d(512, eps=1e-05, momentum=0.1, affine=True, track_running_stats=True)\n",
              "    (35): ReLU(inplace=True)\n",
              "    (36): Conv2d(512, 512, kernel_size=(3, 3), stride=(1, 1), padding=(1, 1))\n",
              "    (37): BatchNorm2d(512, eps=1e-05, momentum=0.1, affine=True, track_running_stats=True)\n",
              "    (38): ReLU(inplace=True)\n",
              "    (39): Conv2d(512, 512, kernel_size=(3, 3), stride=(1, 1), padding=(1, 1))\n",
              "    (40): BatchNorm2d(512, eps=1e-05, momentum=0.1, affine=True, track_running_stats=True)\n",
              "    (41): ReLU(inplace=True)\n",
              "    (42): MaxPool2d(kernel_size=2, stride=2, padding=0, dilation=1, ceil_mode=False)\n",
              "    (43): Dropout(p=0.1, inplace=False)\n",
              "    (44): Conv2d(512, 512, kernel_size=(3, 3), stride=(1, 1), padding=(1, 1))\n",
              "    (45): BatchNorm2d(512, eps=1e-05, momentum=0.1, affine=True, track_running_stats=True)\n",
              "    (46): ReLU(inplace=True)\n",
              "    (47): Conv2d(512, 512, kernel_size=(3, 3), stride=(1, 1), padding=(1, 1))\n",
              "    (48): BatchNorm2d(512, eps=1e-05, momentum=0.1, affine=True, track_running_stats=True)\n",
              "    (49): ReLU(inplace=True)\n",
              "    (50): Conv2d(512, 512, kernel_size=(3, 3), stride=(1, 1), padding=(1, 1))\n",
              "    (51): BatchNorm2d(512, eps=1e-05, momentum=0.1, affine=True, track_running_stats=True)\n",
              "    (52): ReLU(inplace=True)\n",
              "    (53): Conv2d(512, 512, kernel_size=(3, 3), stride=(1, 1), padding=(1, 1))\n",
              "    (54): BatchNorm2d(512, eps=1e-05, momentum=0.1, affine=True, track_running_stats=True)\n",
              "    (55): ReLU(inplace=True)\n",
              "    (56): MaxPool2d(kernel_size=2, stride=2, padding=0, dilation=1, ceil_mode=False)\n",
              "    (57): Dropout(p=0.1, inplace=False)\n",
              "    (58): AvgPool2d(kernel_size=1, stride=1, padding=0)\n",
              "  )\n",
              "  (classifier): Linear(in_features=512, out_features=100, bias=True)\n",
              ")"
            ]
          },
          "metadata": {
            "tags": []
          },
          "execution_count": 78
        }
      ]
    },
    {
      "cell_type": "code",
      "metadata": {
        "id": "SHfUX4WFSi8h",
        "colab_type": "code",
        "colab": {}
      },
      "source": [
        "criterion = nn.CrossEntropyLoss()\n",
        "#optimizer = optim.Adam(model.parameters(), lr=0.001)\n",
        "#optimizer = optim.SGD(model.parameters(), lr=0.001,momentum=0.9)#add momentum\n",
        "optimizer = optim.SGD(model.parameters(), lr=0.001, momentum=0.9, weight_decay=5e-4)# add regularzation"
      ],
      "execution_count": 0,
      "outputs": []
    },
    {
      "cell_type": "code",
      "metadata": {
        "id": "VONuAjP1OuQ_",
        "colab_type": "code",
        "colab": {}
      },
      "source": [
        "def train_step(batch_size=128):\n",
        "  \n",
        "  model.train()\n",
        "\n",
        "  input_batch, label_batch = batch(batch_size, training=True)\n",
        "  #print(input_batch)\n",
        "  output_batch = model(input_batch)\n",
        "  #print(output_batch)\n",
        "  loss = F.cross_entropy(output_batch, label_batch)\n",
        "  train_loss = loss.item()\n",
        "  _, pred_batch = torch.max(output_batch, dim=1)\n",
        "  error_rate = 1.0 - (pred_batch == label_batch).float().mean()\n",
        "  #correct = pred_batch.eq(output_batch).cpu().sum()\n",
        "  #error_rate =1.0 - correct\n",
        "\n",
        "  optimizer.zero_grad()\n",
        "  loss.backward()\n",
        "  \n",
        "  optimizer.step()\n",
        "  \n",
        "  return train_loss, error_rate.item()#loss.item(), error_rate.item()"
      ],
      "execution_count": 0,
      "outputs": []
    },
    {
      "cell_type": "code",
      "metadata": {
        "id": "-VXclR84PIrz",
        "colab_type": "code",
        "colab": {}
      },
      "source": [
        "def val(batch_size=100):\n",
        "  \n",
        "  model.eval()\n",
        "  input_batch, label_batch = batch(batch_size, training=False)\n",
        "  output_batch = model(input_batch)\n",
        "\n",
        "  loss = criterion(output_batch, label_batch)\n",
        "  test_loss = loss.item()\n",
        "  #print(loss)\n",
        "  _, pred_batch = torch.max(output_batch, dim=1)\n",
        "  error_rate = 1.0 - (pred_batch == label_batch).float().mean()\n",
        "  #correct = pred_batch.eq(output_batch).cpu().sum()\n",
        "  #error_rate =1.0 - correct\n",
        "  return test_loss, error_rate.item() #loss.item(), error_rate.item()"
      ],
      "execution_count": 0,
      "outputs": []
    },
    {
      "cell_type": "code",
      "metadata": {
        "id": "wSI-5CBfPNFe",
        "colab_type": "code",
        "colab": {}
      },
      "source": [
        "def batch(batch_size, training=True):\n",
        "  \"\"\"Create a batch of examples.\n",
        "  \n",
        "  This creates a batch of input images and a batch of corresponding\n",
        "  ground-truth labels. We assume CUDA is available (with a GPU).\n",
        "  \n",
        "  Args:\n",
        "    batch_size: An integer.\n",
        "    training: A boolean. If True, grab examples from the training\n",
        "      set; otherwise, grab them from the validation set.\n",
        "  \n",
        "  Returns:\n",
        "    A tuple,\n",
        "    input_batch: A Variable of floats with shape\n",
        "      [batch_size, 1, height, width]\n",
        "    label_batch: A Variable of ints with shape\n",
        "      [batch_size].\n",
        "  \"\"\"\n",
        "  if training:\n",
        "    random_ind = np.random.choice(train_images.shape[0], size=batch_size, replace=False)\n",
        "    input_batch = train_images[random_ind]\n",
        "    label_batch = train_y[random_ind]\n",
        "  else:\n",
        "    input_batch = dev_images[:batch_size]\n",
        "    label_batch = dev_y[:batch_size]\n",
        "  \n",
        "  #input_batch = input_batch[:, np.newaxis, :, :]\n",
        "  \n",
        "  input_batch = torch.tensor(input_batch, requires_grad=False, device='cuda').type(torch.FloatTensor).cuda()\n",
        "  label_batch = torch.tensor(label_batch, requires_grad=False, device='cuda')\n",
        "  #print(input_batch.shape)\n",
        "  return input_batch, label_batch\n"
      ],
      "execution_count": 0,
      "outputs": []
    },
    {
      "cell_type": "code",
      "metadata": {
        "id": "jKKzMzCuPOv3",
        "colab_type": "code",
        "outputId": "ab9a06b0-ba47-49dc-adb1-1574603213b8",
        "colab": {
          "base_uri": "https://localhost:8080/",
          "height": 1000
        }
      },
      "source": [
        "# Let's make sure we always start from scratch (that is,\n",
        "# without starting from parameters from a previous run).\n",
        "#for module in model.children():\n",
        "  #module.reset_parameters()\n",
        "\n",
        "info = []\n",
        "fig, ax = plt.subplots(2, 1, sharex=True)\n",
        "num_steps = 10000\n",
        "num_steps_per_val = 100\n",
        "best_val_err = 1.0\n",
        "for step in range(num_steps):\n",
        "  train_loss, train_err = train_step()\n",
        "  val_loss, val_err = val()\n",
        "  if val_err < best_val_err:\n",
        "    best_val_err = val_err\n",
        "    print('Step {:5d}: Obtained a best validation error of {:.3f}.'.format(step, best_val_err))\n",
        "  if step % num_steps_per_val == 0:\n",
        "    #print(val_loss)\n",
        "    info.append([step, train_loss, val_loss, train_err, val_err])\n",
        "    x, y11, y12, y21, y22 = zip(*info)\n",
        "    ax[0].plot(x, y11, x, y12)\n",
        "    ax[0].legend(['Train loss', 'Val loss'])\n",
        "    ax[1].plot(x, y21, x, y22)\n",
        "    ax[1].legend(['Train err', 'Val err'])\n",
        "    #ax[1].set_ylim([0.0, 0.25])\n",
        "    "
      ],
      "execution_count": 83,
      "outputs": [
        {
          "output_type": "stream",
          "text": [
            "Step     0: Obtained a best validation error of 0.980.\n",
            "Step    24: Obtained a best validation error of 0.950.\n",
            "Step    25: Obtained a best validation error of 0.940.\n",
            "Step    59: Obtained a best validation error of 0.930.\n",
            "Step    81: Obtained a best validation error of 0.920.\n",
            "Step   121: Obtained a best validation error of 0.910.\n",
            "Step   122: Obtained a best validation error of 0.890.\n",
            "Step   125: Obtained a best validation error of 0.880.\n",
            "Step   128: Obtained a best validation error of 0.870.\n",
            "Step   131: Obtained a best validation error of 0.860.\n",
            "Step   137: Obtained a best validation error of 0.850.\n",
            "Step   144: Obtained a best validation error of 0.840.\n",
            "Step   172: Obtained a best validation error of 0.830.\n",
            "Step   173: Obtained a best validation error of 0.810.\n",
            "Step   235: Obtained a best validation error of 0.800.\n",
            "Step   280: Obtained a best validation error of 0.790.\n",
            "Step   285: Obtained a best validation error of 0.780.\n",
            "Step   291: Obtained a best validation error of 0.760.\n",
            "Step   367: Obtained a best validation error of 0.750.\n",
            "Step   368: Obtained a best validation error of 0.740.\n",
            "Step   431: Obtained a best validation error of 0.720.\n",
            "Step   477: Obtained a best validation error of 0.710.\n",
            "Step   506: Obtained a best validation error of 0.700.\n",
            "Step   507: Obtained a best validation error of 0.690.\n",
            "Step   583: Obtained a best validation error of 0.680.\n",
            "Step   584: Obtained a best validation error of 0.660.\n",
            "Step   585: Obtained a best validation error of 0.650.\n",
            "Step   662: Obtained a best validation error of 0.640.\n",
            "Step   663: Obtained a best validation error of 0.630.\n",
            "Step   672: Obtained a best validation error of 0.600.\n",
            "Step   849: Obtained a best validation error of 0.590.\n",
            "Step  1100: Obtained a best validation error of 0.570.\n",
            "Step  1157: Obtained a best validation error of 0.560.\n",
            "Step  1235: Obtained a best validation error of 0.540.\n",
            "Step  1236: Obtained a best validation error of 0.530.\n",
            "Step  1765: Obtained a best validation error of 0.520.\n",
            "Step  1766: Obtained a best validation error of 0.510.\n",
            "Step  1825: Obtained a best validation error of 0.500.\n",
            "Step  1944: Obtained a best validation error of 0.490.\n",
            "Step  1945: Obtained a best validation error of 0.470.\n",
            "Step  2332: Obtained a best validation error of 0.450.\n",
            "Step  2927: Obtained a best validation error of 0.440.\n",
            "Step  3342: Obtained a best validation error of 0.430.\n",
            "Step  3789: Obtained a best validation error of 0.410.\n",
            "Step  4641: Obtained a best validation error of 0.400.\n",
            "Step  6282: Obtained a best validation error of 0.390.\n",
            "Step  9688: Obtained a best validation error of 0.380.\n",
            "Step  9725: Obtained a best validation error of 0.370.\n"
          ],
          "name": "stdout"
        },
        {
          "output_type": "display_data",
          "data": {
            "image/png": "[encoded data removed]",
            "text/plain": [
              "<Figure size 432x288 with 2 Axes>"
            ]
          },
          "metadata": {
            "tags": []
          }
        }
      ]
    },
    {
      "cell_type": "code",
      "metadata": {
        "id": "X7gQnZtqS3FY",
        "colab_type": "code",
        "colab": {}
      },
      "source": [
        "\n",
        "from typing import List\n",
        "def write_prediction(prediction: List[int], filename: str,t):\n",
        "    with open(filename, 'a') as fp:\n",
        "        if t == 0:\n",
        "          print('Id,Category', file=fp)\n",
        "        for i, pred in enumerate(prediction):\n",
        "          print(f'{t},{pred}', file=fp)\n",
        "        \n"
      ],
      "execution_count": 0,
      "outputs": []
    },
    {
      "cell_type": "code",
      "metadata": {
        "id": "dyZ9wH5-0qMT",
        "colab_type": "code",
        "colab": {}
      },
      "source": [
        "test = torch.tensor(test_images, requires_grad=False, device='cuda').type(torch.FloatTensor).cuda()\n",
        "for t in range(len(test)):\n",
        "  #print(test[t:t+1,:,:,:])\n",
        "  outputs = model(test[t:t+1,:,:,:])\n",
        "  _,prediction = torch.max(outputs.data, 1)\n",
        "  write_prediction(prediction, 'vgg2.csv',t)"
      ],
      "execution_count": 0,
      "outputs": []
    },
    {
      "cell_type": "code",
      "metadata": {
        "id": "49pjKD-NnYZW",
        "colab_type": "code",
        "colab": {}
      },
      "source": [
        "from google.colab import files\n",
        "\n",
        "files.download('vgg2.csv')"
      ],
      "execution_count": 0,
      "outputs": []
    }
  ]
}