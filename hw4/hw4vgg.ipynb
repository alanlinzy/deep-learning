{
  "nbformat": 4,
  "nbformat_minor": 0,
  "metadata": {
    "colab": {
      "name": "hw4vgg.ipynb",
      "provenance": []
    },
    "kernelspec": {
      "name": "python3",
      "display_name": "Python 3"
    },
    "accelerator": "GPU"
  },
  "cells": [
    {
      "cell_type": "code",
      "metadata": {
        "id": "hjjzzTHKRy2_",
        "colab_type": "code",
        "outputId": "4caf13c0-e30f-48c3-80d4-8b230d36b9f3",
        "colab": {
          "base_uri": "https://localhost:8080/",
          "height": 436
        }
      },
      "source": [
        "!wget https://www.dropbox.com/s/h1n73cw33no99mz/data.pth"
      ],
      "execution_count": 0,
      "outputs": [
        {
          "output_type": "stream",
          "text": [
            "--2020-03-20 15:13:49--  https://www.dropbox.com/s/h1n73cw33no99mz/data.pth\n",
            "Resolving www.dropbox.com (www.dropbox.com)... 162.125.8.1, 2620:100:601b:1::a27d:801\n",
            "Connecting to www.dropbox.com (www.dropbox.com)|162.125.8.1|:443... connected.\n",
            "HTTP request sent, awaiting response... 301 Moved Permanently\n",
            "Location: /s/raw/h1n73cw33no99mz/data.pth [following]\n",
            "--2020-03-20 15:13:49--  https://www.dropbox.com/s/raw/h1n73cw33no99mz/data.pth\n",
            "Reusing existing connection to www.dropbox.com:443.\n",
            "HTTP request sent, awaiting response... 302 Found\n",
            "Location: https://uc201693bb42369b11c9cee40ce1.dl.dropboxusercontent.com/cd/0/inline/A0Sum2UgcEP9R-yaqAHt9icPPs0p1wSWdH10OvFzhBRVgorCxCfjxOXZDzC7qfFzf0wfmJWTGdk6_mbovb0xm0FD-A0zKFGw9ernuDfRi178nM3x68QfoQDp76n_A9NnNCI/file# [following]\n",
            "--2020-03-20 15:13:49--  https://uc201693bb42369b11c9cee40ce1.dl.dropboxusercontent.com/cd/0/inline/A0Sum2UgcEP9R-yaqAHt9icPPs0p1wSWdH10OvFzhBRVgorCxCfjxOXZDzC7qfFzf0wfmJWTGdk6_mbovb0xm0FD-A0zKFGw9ernuDfRi178nM3x68QfoQDp76n_A9NnNCI/file\n",
            "Resolving uc201693bb42369b11c9cee40ce1.dl.dropboxusercontent.com (uc201693bb42369b11c9cee40ce1.dl.dropboxusercontent.com)... 162.125.1.6, 2620:100:6016:6::a27d:106\n",
            "Connecting to uc201693bb42369b11c9cee40ce1.dl.dropboxusercontent.com (uc201693bb42369b11c9cee40ce1.dl.dropboxusercontent.com)|162.125.1.6|:443... connected.\n",
            "HTTP request sent, awaiting response... 302 FOUND\n",
            "Location: /cd/0/inline2/A0T3rn12UqLeZLxyhU3m4bncSQ8iYjbq_p2-Ied3Fi8DscMseRXkV2e28Y3II4qC9yWId9a0Fx0x_k8LOtI50SmGqihj_YcDUQlmWYvo0IWGkFp3HD6U098W3ischIBlnWPpUlIAKbruCKWyOeCdm9V0I1ZMtyvgypsE94eM9y0DrR58WLADNyoFVdauvoybrtFU4Rv03E71JRVyI2ykWyyFdb33M9oK5b3R_l0rD5kYb_Vqo4S13lFRfp-bW6gnlgxH406DDqM67T5cnZHheTcHTwSRdKUuluEWb6bC0M5_qKBvTIGU5cdW6vwRhPmoi2Xe3iE47a6AqH8TXQEmrqXZza8QiDHKy3LPeljB6cgrBw/file [following]\n",
            "--2020-03-20 15:13:50--  https://uc201693bb42369b11c9cee40ce1.dl.dropboxusercontent.com/cd/0/inline2/A0T3rn12UqLeZLxyhU3m4bncSQ8iYjbq_p2-Ied3Fi8DscMseRXkV2e28Y3II4qC9yWId9a0Fx0x_k8LOtI50SmGqihj_YcDUQlmWYvo0IWGkFp3HD6U098W3ischIBlnWPpUlIAKbruCKWyOeCdm9V0I1ZMtyvgypsE94eM9y0DrR58WLADNyoFVdauvoybrtFU4Rv03E71JRVyI2ykWyyFdb33M9oK5b3R_l0rD5kYb_Vqo4S13lFRfp-bW6gnlgxH406DDqM67T5cnZHheTcHTwSRdKUuluEWb6bC0M5_qKBvTIGU5cdW6vwRhPmoi2Xe3iE47a6AqH8TXQEmrqXZza8QiDHKy3LPeljB6cgrBw/file\n",
            "Reusing existing connection to uc201693bb42369b11c9cee40ce1.dl.dropboxusercontent.com:443.\n",
            "HTTP request sent, awaiting response... 200 OK\n",
            "Length: 266735560 (254M) [application/octet-stream]\n",
            "Saving to: ‘data.pth.1’\n",
            "\n",
            "data.pth.1          100%[===================>] 254.38M  24.7MB/s    in 10s     \n",
            "\n",
            "2020-03-20 15:14:01 (25.5 MB/s) - ‘data.pth.1’ saved [266735560/266735560]\n",
            "\n"
          ],
          "name": "stdout"
        }
      ]
    },
    {
      "cell_type": "code",
      "metadata": {
        "id": "exLdqIK2R6G4",
        "colab_type": "code",
        "colab": {}
      },
      "source": [
        "import torch\n",
        "import torch.nn as nn\n",
        "import torch.nn.functional as F\n",
        "import torch.optim as optim\n",
        "from torchvision import datasets, transforms\n",
        "import numpy as np\n",
        "import matplotlib.pyplot as plt\n",
        "from torch.autograd import Variable"
      ],
      "execution_count": 0,
      "outputs": []
    },
    {
      "cell_type": "code",
      "metadata": {
        "id": "IFni7QGMSJR4",
        "colab_type": "code",
        "outputId": "f2b09587-9aef-4b1e-874d-24313313d8a2",
        "colab": {
          "base_uri": "https://localhost:8080/",
          "height": 66
        }
      },
      "source": [
        "train_x, train_y, dev_x, dev_y, test_x = torch.load('data.pth')\n",
        "\n",
        "print('Training size:', train_x.shape, train_y.shape)\n",
        "print('Development size:', dev_x.shape, dev_y.shape)\n",
        "print('Test size:', test_x.shape)"
      ],
      "execution_count": 0,
      "outputs": [
        {
          "output_type": "stream",
          "text": [
            "Training size: (45000, 3, 32, 32) (45000,)\n",
            "Development size: (5000, 3, 32, 32) (5000,)\n",
            "Test size: (10000, 3, 32, 32)\n"
          ],
          "name": "stdout"
        }
      ]
    },
    {
      "cell_type": "code",
      "metadata": {
        "id": "MGl5nCUNSNrA",
        "colab_type": "code",
        "outputId": "3eb0a325-96e3-4947-c4eb-474cdd51ee2f",
        "colab": {
          "base_uri": "https://localhost:8080/",
          "height": 282
        }
      },
      "source": [
        "import random\n",
        "random.seed(0)\n",
        "sample_num =random.randint(1,len(train_x))\n",
        "image = train_x[sample_num]\n",
        "image_ = Variable(torch.from_numpy(image))\n",
        "image_ = torch.unsqueeze(image_.permute(1, 2, 0), 0)\n",
        "plt.imshow(image_.detach().cpu().numpy().squeeze())"
      ],
      "execution_count": 0,
      "outputs": [
        {
          "output_type": "execute_result",
          "data": {
            "text/plain": [
              "<matplotlib.image.AxesImage at 0x7fbfac1a5d68>"
            ]
          },
          "metadata": {
            "tags": []
          },
          "execution_count": 19
        },
        {
          "output_type": "display_data",
          "data": {
            "image/png": "[encoded data removed]",
            "text/plain": [
              "<Figure size 432x288 with 1 Axes>"
            ]
          },
          "metadata": {
            "tags": []
          }
        }
      ]
    },
    {
      "cell_type": "code",
      "metadata": {
        "id": "EQVVSUE2SOVo",
        "colab_type": "code",
        "colab": {}
      },
      "source": [
        "def normalize_stats_image_by_image(images):\n",
        "  mean = images.mean(axis=(1,2), keepdims=True)\n",
        "  stdev = images.std(axis=(1,2), keepdims=True)\n",
        "  return (images - mean) / (images.max() - images.min())\n",
        "  \n",
        "train_images = normalize_stats_image_by_image(train_x)\n",
        "dev_images = normalize_stats_image_by_image(dev_x)\n",
        "test_images = normalize_stats_image_by_image(test_x)"
      ],
      "execution_count": 0,
      "outputs": []
    },
    {
      "cell_type": "code",
      "metadata": {
        "id": "SKMm5uR-SRv_",
        "colab_type": "code",
        "outputId": "caf6adf5-ba60-43c7-ed50-dd30259d3a31",
        "colab": {
          "base_uri": "https://localhost:8080/",
          "height": 33
        }
      },
      "source": [
        "trx = Variable(torch.from_numpy(train_images))\n",
        "dx = Variable(torch.from_numpy(dev_images))\n",
        "tex = Variable(torch.from_numpy(test_images))\n",
        "print(trx.shape)"
      ],
      "execution_count": 0,
      "outputs": [
        {
          "output_type": "stream",
          "text": [
            "torch.Size([45000, 3, 32, 32])\n"
          ],
          "name": "stdout"
        }
      ]
    },
    {
      "cell_type": "code",
      "metadata": {
        "id": "LOxcXCBGSVev",
        "colab_type": "code",
        "colab": {}
      },
      "source": [
        "torch.cuda.is_available()\n",
        "torch.cuda.empty_cache() "
      ],
      "execution_count": 0,
      "outputs": []
    },
    {
      "cell_type": "code",
      "metadata": {
        "id": "s2ARbNFTShaR",
        "colab_type": "code",
        "colab": {}
      },
      "source": [
        "cfg = {\n",
        "    'VGG11': [64, 'M', 128, 'M', 256, 256, 'M', 512, 512, 'M', 512, 512, 'M'],\n",
        "    'VGG13': [64, 64, 'M', 128, 128, 'M', 256, 256, 'M', 512, 512, 'M', 512, 512, 'M'],\n",
        "    'VGG16': [64, 64, 'M', 128, 128, 'M', 256, 256, 256, 'M', 512, 512, 512, 'M', 512, 512, 512, 'M'],\n",
        "    'VGG19': [64, 64, 'M', 128, 128, 'M', 256, 256, 256, 256, 'M', 512, 512, 512, 512, 'M', 512, 512, 512, 512, 'M'],\n",
        "}\n",
        "\n",
        "# 模型需继承nn.Module\n",
        "class VGG(nn.Module):\n",
        "# 初始化参数：\n",
        "    def __init__(self, vgg_name):\n",
        "        super(VGG, self).__init__()\n",
        "        self.features = self._make_layers(cfg[vgg_name])\n",
        "        self.classifier = nn.Linear(512, 100)\n",
        "\n",
        "# 模型计算时的前向过程，也就是按照这个过程进行计算\n",
        "    def forward(self, x):\n",
        "        out = self.features(x)\n",
        "        out = out.view(out.size(0), -1)\n",
        "        out = self.classifier(out)\n",
        "        return out\n",
        "\n",
        "    def _make_layers(self, cfg):\n",
        "        layers = []\n",
        "        in_channels = 3\n",
        "        for x in cfg:\n",
        "            if x == 'M':\n",
        "                layers += [nn.MaxPool2d(kernel_size=2, stride=2)]\n",
        "            else:\n",
        "                layers += [nn.Conv2d(in_channels, x, kernel_size=3, padding=1),\n",
        "                           nn.BatchNorm2d(x),\n",
        "                           nn.ReLU(inplace=True)]\n",
        "                in_channels = x\n",
        "        layers += [nn.AvgPool2d(kernel_size=1, stride=1)]\n",
        "        return nn.Sequential(*layers)\n"
      ],
      "execution_count": 0,
      "outputs": []
    },
    {
      "cell_type": "code",
      "metadata": {
        "id": "fcs7KRGsS81K",
        "colab_type": "code",
        "outputId": "12c4733d-eab5-4b01-f5cb-94d1fcafeab8",
        "colab": {
          "base_uri": "https://localhost:8080/",
          "height": 600
        }
      },
      "source": [
        "model = VGG('VGG11')\n",
        "model.cuda()\n",
        "#x = torch.randn(2,3,32,32)\n",
        "#print(model(Variable(x)).size())"
      ],
      "execution_count": 0,
      "outputs": [
        {
          "output_type": "execute_result",
          "data": {
            "text/plain": [
              "VGG(\n",
              "  (features): Sequential(\n",
              "    (0): Conv2d(3, 64, kernel_size=(3, 3), stride=(1, 1), padding=(1, 1))\n",
              "    (1): BatchNorm2d(64, eps=1e-05, momentum=0.1, affine=True, track_running_stats=True)\n",
              "    (2): ReLU(inplace=True)\n",
              "    (3): MaxPool2d(kernel_size=2, stride=2, padding=0, dilation=1, ceil_mode=False)\n",
              "    (4): Conv2d(64, 128, kernel_size=(3, 3), stride=(1, 1), padding=(1, 1))\n",
              "    (5): BatchNorm2d(128, eps=1e-05, momentum=0.1, affine=True, track_running_stats=True)\n",
              "    (6): ReLU(inplace=True)\n",
              "    (7): MaxPool2d(kernel_size=2, stride=2, padding=0, dilation=1, ceil_mode=False)\n",
              "    (8): Conv2d(128, 256, kernel_size=(3, 3), stride=(1, 1), padding=(1, 1))\n",
              "    (9): BatchNorm2d(256, eps=1e-05, momentum=0.1, affine=True, track_running_stats=True)\n",
              "    (10): ReLU(inplace=True)\n",
              "    (11): Conv2d(256, 256, kernel_size=(3, 3), stride=(1, 1), padding=(1, 1))\n",
              "    (12): BatchNorm2d(256, eps=1e-05, momentum=0.1, affine=True, track_running_stats=True)\n",
              "    (13): ReLU(inplace=True)\n",
              "    (14): MaxPool2d(kernel_size=2, stride=2, padding=0, dilation=1, ceil_mode=False)\n",
              "    (15): Conv2d(256, 512, kernel_size=(3, 3), stride=(1, 1), padding=(1, 1))\n",
              "    (16): BatchNorm2d(512, eps=1e-05, momentum=0.1, affine=True, track_running_stats=True)\n",
              "    (17): ReLU(inplace=True)\n",
              "    (18): Conv2d(512, 512, kernel_size=(3, 3), stride=(1, 1), padding=(1, 1))\n",
              "    (19): BatchNorm2d(512, eps=1e-05, momentum=0.1, affine=True, track_running_stats=True)\n",
              "    (20): ReLU(inplace=True)\n",
              "    (21): MaxPool2d(kernel_size=2, stride=2, padding=0, dilation=1, ceil_mode=False)\n",
              "    (22): Conv2d(512, 512, kernel_size=(3, 3), stride=(1, 1), padding=(1, 1))\n",
              "    (23): BatchNorm2d(512, eps=1e-05, momentum=0.1, affine=True, track_running_stats=True)\n",
              "    (24): ReLU(inplace=True)\n",
              "    (25): Conv2d(512, 512, kernel_size=(3, 3), stride=(1, 1), padding=(1, 1))\n",
              "    (26): BatchNorm2d(512, eps=1e-05, momentum=0.1, affine=True, track_running_stats=True)\n",
              "    (27): ReLU(inplace=True)\n",
              "    (28): MaxPool2d(kernel_size=2, stride=2, padding=0, dilation=1, ceil_mode=False)\n",
              "    (29): AvgPool2d(kernel_size=1, stride=1, padding=0)\n",
              "  )\n",
              "  (classifier): Linear(in_features=512, out_features=100, bias=True)\n",
              ")"
            ]
          },
          "metadata": {
            "tags": []
          },
          "execution_count": 24
        }
      ]
    },
    {
      "cell_type": "code",
      "metadata": {
        "id": "SHfUX4WFSi8h",
        "colab_type": "code",
        "colab": {}
      },
      "source": [
        "criterion = nn.CrossEntropyLoss()\n",
        "optimizer = optim.SGD(model.parameters(), lr=0.001, momentum=0.9, weight_decay=5e-4)"
      ],
      "execution_count": 0,
      "outputs": []
    },
    {
      "cell_type": "code",
      "metadata": {
        "id": "VONuAjP1OuQ_",
        "colab_type": "code",
        "colab": {}
      },
      "source": [
        "def train_step(batch_size=128):\n",
        "  \n",
        "  model.train()\n",
        "\n",
        "  input_batch, label_batch = batch(batch_size, training=True)\n",
        "  #print(input_batch)\n",
        "  output_batch = model(input_batch)\n",
        "  #print(output_batch)\n",
        "  loss = F.cross_entropy(output_batch, label_batch)\n",
        "  train_loss = loss.item()\n",
        "  _, pred_batch = torch.max(output_batch, dim=1)\n",
        "  error_rate = 1.0 - (pred_batch == label_batch).float().mean()\n",
        "  #correct = pred_batch.eq(output_batch).cpu().sum()\n",
        "  #error_rate =1.0 - correct\n",
        "\n",
        "  optimizer.zero_grad()\n",
        "  loss.backward()\n",
        "  \n",
        "  optimizer.step()\n",
        "  \n",
        "  return train_loss, error_rate.item()#loss.item(), error_rate.item()"
      ],
      "execution_count": 0,
      "outputs": []
    },
    {
      "cell_type": "code",
      "metadata": {
        "id": "-VXclR84PIrz",
        "colab_type": "code",
        "colab": {}
      },
      "source": [
        "def val(batch_size=100):\n",
        "  \n",
        "  model.eval()\n",
        "  input_batch, label_batch = batch(batch_size, training=False)\n",
        "  output_batch = model(input_batch)\n",
        "\n",
        "  loss = criterion(output_batch, label_batch)\n",
        "  test_loss = loss.item()\n",
        "  #print(loss)\n",
        "  _, pred_batch = torch.max(output_batch, dim=1)\n",
        "  error_rate = 1.0 - (pred_batch == label_batch).float().mean()\n",
        "  #correct = pred_batch.eq(output_batch).cpu().sum()\n",
        "  #error_rate =1.0 - correct\n",
        "  return test_loss, error_rate.item() #loss.item(), error_rate.item()"
      ],
      "execution_count": 0,
      "outputs": []
    },
    {
      "cell_type": "code",
      "metadata": {
        "id": "wSI-5CBfPNFe",
        "colab_type": "code",
        "colab": {}
      },
      "source": [
        "def batch(batch_size, training=True):\n",
        "  \"\"\"Create a batch of examples.\n",
        "  \n",
        "  This creates a batch of input images and a batch of corresponding\n",
        "  ground-truth labels. We assume CUDA is available (with a GPU).\n",
        "  \n",
        "  Args:\n",
        "    batch_size: An integer.\n",
        "    training: A boolean. If True, grab examples from the training\n",
        "      set; otherwise, grab them from the validation set.\n",
        "  \n",
        "  Returns:\n",
        "    A tuple,\n",
        "    input_batch: A Variable of floats with shape\n",
        "      [batch_size, 1, height, width]\n",
        "    label_batch: A Variable of ints with shape\n",
        "      [batch_size].\n",
        "  \"\"\"\n",
        "  if training:\n",
        "    random_ind = np.random.choice(train_images.shape[0], size=batch_size, replace=False)\n",
        "    input_batch = train_images[random_ind]\n",
        "    label_batch = train_y[random_ind]\n",
        "  else:\n",
        "    input_batch = dev_images[:batch_size]\n",
        "    label_batch = dev_y[:batch_size]\n",
        "  \n",
        "  #input_batch = input_batch[:, np.newaxis, :, :]\n",
        "  \n",
        "  input_batch = torch.tensor(input_batch, requires_grad=False, device='cuda').type(torch.FloatTensor).cuda()\n",
        "  label_batch = torch.tensor(label_batch, requires_grad=False, device='cuda')\n",
        "  #print(input_batch.shape)\n",
        "  return input_batch, label_batch\n"
      ],
      "execution_count": 0,
      "outputs": []
    },
    {
      "cell_type": "code",
      "metadata": {
        "id": "jKKzMzCuPOv3",
        "colab_type": "code",
        "outputId": "4d40b8d9-a105-4bd8-af48-6afa85c21694",
        "colab": {
          "base_uri": "https://localhost:8080/",
          "height": 314
        }
      },
      "source": [
        "# Let's make sure we always start from scratch (that is,\n",
        "# without starting from parameters from a previous run).\n",
        "#for module in model.children():\n",
        "  #module.reset_parameters()\n",
        "\n",
        "info = []\n",
        "fig, ax = plt.subplots(2, 1, sharex=True)\n",
        "num_steps = 10000\n",
        "num_steps_per_val = 100\n",
        "best_val_err = 1.0\n",
        "for step in range(num_steps):\n",
        "  train_loss, train_err = train_step()\n",
        "  val_loss, val_err = val()\n",
        "  if val_err < best_val_err:\n",
        "    best_val_err = val_err\n",
        "    print('Step {:5d}: Obtained a best validation error of {:.3f}.'.format(step, best_val_err))\n",
        "  if step % num_steps_per_val == 0:\n",
        "    #print(val_loss)\n",
        "    info.append([step, train_loss, val_loss, train_err, val_err])\n",
        "    x, y11, y12, y21, y22 = zip(*info)\n",
        "    ax[0].plot(x, y11, x, y12)\n",
        "    ax[0].legend(['Train loss', 'Val loss'])\n",
        "    ax[1].plot(x, y21, x, y22)\n",
        "    ax[1].legend(['Train err', 'Val err'])\n",
        "    #ax[1].set_ylim([0.0, 0.25])\n",
        "    "
      ],
      "execution_count": 0,
      "outputs": [
        {
          "output_type": "stream",
          "text": [
            "Step     0: Obtained a best validation error of 0.540.\n",
            "Step    41: Obtained a best validation error of 0.530.\n",
            "Step   167: Obtained a best validation error of 0.520.\n"
          ],
          "name": "stdout"
        },
        {
          "output_type": "display_data",
          "data": {
            "image/png": "[encoded data removed]",
            "text/plain": [
              "<Figure size 432x288 with 2 Axes>"
            ]
          },
          "metadata": {
            "tags": []
          }
        }
      ]
    },
    {
      "cell_type": "code",
      "metadata": {
        "id": "X7gQnZtqS3FY",
        "colab_type": "code",
        "colab": {}
      },
      "source": [
        "\n"
      ],
      "execution_count": 0,
      "outputs": []
    }
  ]
}